{
  "cells": [
    {
      "cell_type": "code",
      "execution_count": null,
      "metadata": {
        "colab": {
          "base_uri": "https://localhost:8080/",
          "height": 522,
          "referenced_widgets": [
            "bd4b34ad190844d0aed10329b540326d",
            "bfe3418b6e5b4fb499747b231bd5a42e",
            "83508650208942e59eaba836499926a7",
            "549d63ff9f334bd69e6b3a69d85a4181",
            "c4bf996fbc8a41b79ce723e3dddb9d12",
            "a9ab4ba5a04842c8b5376e575bb8d464",
            "5eee1ccfab2d421e8198aafb616f14f8",
            "78f454625d92471390d90ffda7f7a19b",
            "b992c3ec23ab46a6a1d2b026c712ec0d",
            "15de9808b97b45e98bd8a184ce036ea6",
            "e8afcc560d61499d9f0cf7b98f5e4f77",
            "316a8c4dc2334c4285da0d9210a2b237",
            "1de3ab1b42494b16a78f7c0c06607be4",
            "3e66820a8ff9464c9917f7d35eb900a5",
            "6246e8137aa24895bcc525f736308ce3",
            "f38b15b7e1da42f5bd24d1ea349c1d37",
            "98e9023815ef490f842694f94d04f7a3",
            "db972f158d2e4046b04ed8e81ee86c05",
            "fa0058b1d8254d74aeb43c562d5b4338",
            "d2bb5b7bbf4949a58471b007e9662ea6",
            "fd62cb19e35345e2a723478b56bba124",
            "6aa8c27166be47fd8a8d3537158303c2",
            "4b90010f9be14b9d9e9c4d62055b00e5",
            "2712282b7c154948aa9ef340d57ac3ed",
            "be71f84a2a92413d9d1742c5eff712f1",
            "929ec041018e42549f79ec83f9bb9374",
            "e5077972c1a54d10b9e9ab0f949d647d",
            "4038a6798947494e92fea7dfadeccf25",
            "fe28c974fa264057beb06424bbeef67f",
            "f7eb9102be0148988661ef700ba32718",
            "5afbec792f7c4a59895a7978f4e47cfe",
            "0ef41490c499405bbb51ffe63ce00c48",
            "020b85cd252d4ec082837e1d8b9c7222",
            "9b9079e9db524c4584032204bc58b154",
            "a44071eb749f443bb1908e6b1c20b04b",
            "d50dae518c134a61a8fe89ea1a3773ac",
            "3149b54467f94ce98d29ec53c652dcca",
            "9e1f2bbe41de48cd8b2744d80d56c0a2",
            "7968dd7c58134530919f4cd59ea30f67",
            "57b7b25105b64061abf60f2e9e91f676",
            "341724d51e7a4276a8579c59cabe18f7",
            "bad299adbc9d486f9ff7fd06f693cb52",
            "43f522b66a4f47a59c74bf2bd600e30f",
            "16c23d57bbf644b79305dab3a95d3d83",
            "dd3d5808980144ae96875b823180a262",
            "a365c0b6f2694edaa7e622ee74f51a82",
            "4c814bea80e54538ac012a692a114a6a",
            "daf7b19ec5f549e29a3cddb30d7aed6f",
            "bebcbff420f2463a9110b75db3496497",
            "a3839cc52d2e4e4bab6040a1e80de8dd",
            "e7cf7c34703d4ac6ab645c25d01ce465",
            "c436966cfc864b5f9c6f24b268b7158f",
            "bd0a47b3f13f46b582985ce77776bcaf",
            "adbb20887a264294bf712b300f6ba6e5",
            "38266cde824a4ebb93c401b26f99dc62",
            "a3e75f8a4ed2425985657f204f560be2",
            "4b7b81d1c9934f8986862ae3f8f9f39e",
            "35391612b13e43d7b3cfdb37c6b5ae4e",
            "a19265add6a047e9846124d35239e023",
            "763034b7b46e4cbb8cbdba6240ba50b7",
            "1cdbc74abc8b4fce9bc9094f166c594b",
            "fdc111daedc8402881ee0d2d3aa8832c",
            "4bf6c4bdcf734fa0a4ebbe70f5018b4e",
            "3f2684595e5a45a7ba1c2acda484b5a2",
            "31dd7c4ffc69410586d8b2456461d5f6",
            "3475ad879e4d45b29f7d500ad30c3a7f",
            "1d2247cdcea54106a34b7cdf42288e10",
            "c903a41e9c464ab5a4a8f4493bff02dd",
            "b0851b90492a48afb4b296e99e6ed134",
            "129565efb80f48558a377bb6e2d2b690",
            "a9d81a3b642544e28ef18f8a3edec2c5",
            "c5d3983075bf4c3f96cc17d224a1091d",
            "d407bb878adf45c387d67637588dad5b",
            "258fa60595a84cfd93a3dbfb7c0623c0",
            "c4d78ddc0e9d494cac831346d8231f97",
            "6c8d0ca7cdcf4f9ca655e0c0d1ac8b69",
            "d88eae8fa2964206bf1a878f4cfa80c9",
            "ece01f4a7d3f4a90bdfa6a056862d4a0",
            "acd5aa27d9574cccac5614726f0b1b30",
            "8a14f10aa7f94cfdae32091cfed2bb63",
            "a37ff4efe611457b8e3c2493d66b95ca",
            "37a598d35ba64266a2e4611d699afe42",
            "176c0862fbf94d3097ac3398ff93e608",
            "9098343e76894afc96b51d01d8d49d67",
            "75d7e198c2db4b678a45e39359be9de5",
            "93505e3f145a4e9fb6f4315804b79ae8",
            "f5e407b1ab1149ec84c4ce40a8b4b45c",
            "c5d7dd385c824deaab8137160d4e7bac",
            "7673a1b5228f4bf7beee018fb9797165",
            "c785f68b33664773b1f7997bf7d40b80",
            "9815ffc4dfd34f25aa35524cdbb3de12",
            "b191375423654726a7d26f907e17adb7",
            "f72ecca196c5453499bd6050d4faf0c5",
            "9bace506500a4a0dae80cf5668241272",
            "1f9793fa687b470e8173015e943acff6",
            "6fe57e96683440d781a6c6325d1ef5ff",
            "2a638962a8094c04af0f55b3af5d6e86",
            "f91cdd700016455f9b9bdcafde369e4b",
            "1ec4a4ff31524436ae99b74b57aa26dc"
          ]
        },
        "id": "ZQWeaFJdTmgP",
        "outputId": "0e3b173c-0a40-45f9-9770-d913b1573f61"
      },
      "outputs": [
        {
          "output_type": "stream",
          "name": "stdout",
          "text": [
            "Looking in indexes: https://pypi.org/simple, https://us-python.pkg.dev/colab-wheels/public/simple/\n",
            "Collecting tensorflow_addons\n",
            "  Downloading tensorflow_addons-0.17.1-cp37-cp37m-manylinux_2_17_x86_64.manylinux2014_x86_64.whl (1.1 MB)\n",
            "\u001b[K     |████████████████████████████████| 1.1 MB 4.1 MB/s \n",
            "\u001b[?25hRequirement already satisfied: typeguard>=2.7 in /usr/local/lib/python3.7/dist-packages (from tensorflow_addons) (2.7.1)\n",
            "Requirement already satisfied: packaging in /usr/local/lib/python3.7/dist-packages (from tensorflow_addons) (21.3)\n",
            "Requirement already satisfied: pyparsing!=3.0.5,>=2.0.2 in /usr/local/lib/python3.7/dist-packages (from packaging->tensorflow_addons) (3.0.9)\n",
            "Installing collected packages: tensorflow-addons\n",
            "Successfully installed tensorflow-addons-0.17.1\n",
            "batch size is 121 (unlabeled) + 128 (labeled)\n",
            "\u001b[1mDownloading and preparing dataset stl10/1.0.0 (download: 2.46 GiB, generated: 1.86 GiB, total: 4.32 GiB) to /root/tensorflow_datasets/stl10/1.0.0...\u001b[0m\n"
          ]
        },
        {
          "output_type": "display_data",
          "data": {
            "text/plain": [
              "Dl Completed...: 0 url [00:00, ? url/s]"
            ],
            "application/vnd.jupyter.widget-view+json": {
              "version_major": 2,
              "version_minor": 0,
              "model_id": "bd4b34ad190844d0aed10329b540326d"
            }
          },
          "metadata": {}
        },
        {
          "output_type": "display_data",
          "data": {
            "text/plain": [
              "Dl Size...: 0 MiB [00:00, ? MiB/s]"
            ],
            "application/vnd.jupyter.widget-view+json": {
              "version_major": 2,
              "version_minor": 0,
              "model_id": "316a8c4dc2334c4285da0d9210a2b237"
            }
          },
          "metadata": {}
        },
        {
          "output_type": "display_data",
          "data": {
            "text/plain": [
              "Extraction completed...: 0 file [00:00, ? file/s]"
            ],
            "application/vnd.jupyter.widget-view+json": {
              "version_major": 2,
              "version_minor": 0,
              "model_id": "4b90010f9be14b9d9e9c4d62055b00e5"
            }
          },
          "metadata": {}
        },
        {
          "output_type": "stream",
          "name": "stdout",
          "text": [
            "\n",
            "\n",
            "\n"
          ]
        },
        {
          "output_type": "display_data",
          "data": {
            "text/plain": [
              "0 examples [00:00, ? examples/s]"
            ],
            "application/vnd.jupyter.widget-view+json": {
              "version_major": 2,
              "version_minor": 0,
              "model_id": "9b9079e9db524c4584032204bc58b154"
            }
          },
          "metadata": {}
        },
        {
          "output_type": "stream",
          "name": "stdout",
          "text": [
            "Shuffling and writing examples to /root/tensorflow_datasets/stl10/1.0.0.incompleteZ1RMW9/stl10-train.tfrecord\n"
          ]
        },
        {
          "output_type": "display_data",
          "data": {
            "text/plain": [
              "  0%|          | 0/5000 [00:00<?, ? examples/s]"
            ],
            "application/vnd.jupyter.widget-view+json": {
              "version_major": 2,
              "version_minor": 0,
              "model_id": "dd3d5808980144ae96875b823180a262"
            }
          },
          "metadata": {}
        },
        {
          "output_type": "display_data",
          "data": {
            "text/plain": [
              "0 examples [00:00, ? examples/s]"
            ],
            "application/vnd.jupyter.widget-view+json": {
              "version_major": 2,
              "version_minor": 0,
              "model_id": "a3e75f8a4ed2425985657f204f560be2"
            }
          },
          "metadata": {}
        },
        {
          "output_type": "stream",
          "name": "stdout",
          "text": [
            "Shuffling and writing examples to /root/tensorflow_datasets/stl10/1.0.0.incompleteZ1RMW9/stl10-test.tfrecord\n"
          ]
        },
        {
          "output_type": "display_data",
          "data": {
            "text/plain": [
              "  0%|          | 0/8000 [00:00<?, ? examples/s]"
            ],
            "application/vnd.jupyter.widget-view+json": {
              "version_major": 2,
              "version_minor": 0,
              "model_id": "1d2247cdcea54106a34b7cdf42288e10"
            }
          },
          "metadata": {}
        },
        {
          "output_type": "display_data",
          "data": {
            "text/plain": [
              "0 examples [00:00, ? examples/s]"
            ],
            "application/vnd.jupyter.widget-view+json": {
              "version_major": 2,
              "version_minor": 0,
              "model_id": "ece01f4a7d3f4a90bdfa6a056862d4a0"
            }
          },
          "metadata": {}
        },
        {
          "output_type": "stream",
          "name": "stdout",
          "text": [
            "Shuffling and writing examples to /root/tensorflow_datasets/stl10/1.0.0.incompleteZ1RMW9/stl10-unlabelled.tfrecord\n"
          ]
        },
        {
          "output_type": "display_data",
          "data": {
            "text/plain": [
              "  0%|          | 0/100000 [00:00<?, ? examples/s]"
            ],
            "application/vnd.jupyter.widget-view+json": {
              "version_major": 2,
              "version_minor": 0,
              "model_id": "7673a1b5228f4bf7beee018fb9797165"
            }
          },
          "metadata": {}
        },
        {
          "output_type": "stream",
          "name": "stdout",
          "text": [
            "\u001b[1mDataset stl10 downloaded and prepared to /root/tensorflow_datasets/stl10/1.0.0. Subsequent calls will reuse this data.\u001b[0m\n"
          ]
        }
      ],
      "source": [
        "import tensorflow as tf\n",
        "import tensorflow_datasets as tfds\n",
        "import numpy as np\n",
        "import matplotlib.pyplot as plt\n",
        "from tensorflow.keras import layers\n",
        "def preprocess_imagecont(image, label):\n",
        "  image = tf.image.resize(image, [64,64])\n",
        "  image = tf.cast(image, tf.float32)\n",
        "  image = tfa.image.gaussian_filter2d(image, (3,3),3)\n",
        "  positionsx1 = tf.range(start=0, limit=64, delta=1,dtype=tf.float32)\n",
        "  positionsy1 = tf.range(start=0, limit=64, delta=1,dtype=tf.float32)\n",
        "  positionsx1 = tf.expand_dims(tf.tile(tf.expand_dims(positionsx1,0),[64,1]),-1)\n",
        "  positionsy1 = tf.expand_dims(tf.tile(tf.transpose(tf.expand_dims(positionsy1,0)),[1,64]),-1)\n",
        "  positions11 = tf.concat([positionsx1,positionsy1],-1)\n",
        "  u = tf.image.sobel_edges(image[tf.newaxis,:])\n",
        "  u=tf.squeeze(u,0)\n",
        "  angle = tf.atan2(u[:,:,0,1],u[:,:,0,0])\n",
        "  u = tf.reshape(u,[-1,64,64,6])\n",
        "  u=tf.concat([u,positions11[tf.newaxis,:]],-1)\n",
        "  u = tf.squeeze(u,0)\n",
        "  image = tf.concat([image,tf.expand_dims(angle,2),u],-1)\n",
        "  return image, label\n",
        "\n",
        "!pip install tensorflow_addons\n",
        "import tensorflow as tf\n",
        "import tensorflow_addons as tfa\n",
        "import numpy as np\n",
        "from tensorflow import keras\n",
        "from tensorflow.keras import layers\n",
        "import keras.backend as K\n",
        "\n",
        "unlabeled_dataset_size = 100000\n",
        "labeled_dataset_size = 5000\n",
        "image_size = 64\n",
        "image_channels = 3\n",
        "\n",
        "# Algorithm hyperparameters\n",
        "num_epochs = 60\n",
        "batch_size = 128  # Corresponds to 200 steps per epoch\n",
        "width = 32\n",
        "temperature = 1\n",
        "# Stronger augmentations for contrastive, weaker ones for supervised training\n",
        "contrastive_augmentation = {\"min_area\": 0.35, \"brightness\": 0.6, \"jitter\": 0.4}\n",
        "classification_augmentation = {\"min_area\": 0.75, \"brightness\": 0.3, \"jitter\": 0.1}\n",
        "color_augmentation = {\"brightness\": 0.3, \"jitter\": 0.1}\n",
        "labeled_batch_size = 15\n",
        "\n",
        "def prepare_dataset():\n",
        "    # Labeled and unlabeled samples are loaded synchronously\n",
        "    # with batch sizes selected accordingly\n",
        "    steps_per_epoch = (unlabeled_dataset_size + labeled_dataset_size) // batch_size\n",
        "    unlabeled_batch_size = unlabeled_dataset_size // steps_per_epoch\n",
        "    labeled_batch_size = 128\n",
        "    print(\n",
        "        f\"batch size is {unlabeled_batch_size} (unlabeled) + {labeled_batch_size} (labeled)\"\n",
        "    )\n",
        "\n",
        "    unlabeled_train_dataset = (\n",
        "        tfds.load(\"stl10\", split=\"unlabelled\", as_supervised=True, shuffle_files=True)\n",
        "        .shuffle(buffer_size=10 * unlabeled_batch_size)\n",
        "        .map(\n",
        "          lambda image, label: preprocess_imagecont(image, label))\n",
        "        .batch(unlabeled_batch_size)\n",
        "    )\n",
        "    labeled_train_dataset = (\n",
        "        tfds.load(\"stl10\", split=\"train[0:75%]\", as_supervised=True, shuffle_files=True)\n",
        "        .shuffle(buffer_size=10 * labeled_batch_size)\n",
        "        .map(\n",
        "          lambda image, label: preprocess_imagecont(image, label))\n",
        "        .batch(labeled_batch_size)\n",
        "    )\n",
        "    labeled_val_dataset = (\n",
        "        tfds.load(\"stl10\", split=\"train[75%:95%]\", as_supervised=True, shuffle_files=True)\n",
        "        .shuffle(buffer_size=10 * labeled_batch_size)\n",
        "        .map(\n",
        "          lambda image, label: preprocess_imagecont(image, label))\n",
        "        .batch(labeled_batch_size)\n",
        "    )\n",
        "    test_dataset = (\n",
        "        tfds.load(\"stl10\", split=\"test\", as_supervised=True)\n",
        "        .map(\n",
        "          lambda image, label: preprocess_imagecont(image, label))\n",
        "        .batch(batch_size)\n",
        "        .prefetch(buffer_size=tf.data.AUTOTUNE)\n",
        "    )\n",
        "\n",
        "    # Labeled and unlabeled datasets are zipped together\n",
        "    train_dataset = tf.data.Dataset.zip(\n",
        "        (unlabeled_train_dataset, labeled_train_dataset)\n",
        "    ).prefetch(buffer_size=tf.data.AUTOTUNE)\n",
        "\n",
        "    return train_dataset, labeled_train_dataset, test_dataset, labeled_val_dataset\n",
        "\n",
        "# Load STL10 dataset\n",
        "train_dataset, labeled_train_dataset, test_dataset, labeled_val_dataset = prepare_dataset()\n",
        "\n",
        "es = tf.keras.callbacks.EarlyStopping(monitor='val_loss', mode='min',patience=2)\n",
        "from keras.callbacks import ModelCheckpoint\n",
        "filepath = 'my_best_model.hdf5'\n",
        "checkpoint1 = ModelCheckpoint(filepath='ch',save_format=tf,monitor='val_loss',\n",
        "                            save_weights_only=True,\n",
        "                             verbose=1, \n",
        "                             save_best_only=True,\n",
        "                             mode='min')\n",
        "checkpoint2 = ModelCheckpoint(filepath='ch2',save_format=tf,monitor='val_sparse_categorical_accuracy',\n",
        "                            save_weights_only=True,\n",
        "                             verbose=1, \n",
        "                             save_best_only=True,\n",
        "                             mode='min')\n",
        "checkpoint3 = ModelCheckpoint(filepath='ch3',save_format=tf,monitor='val_loss',\n",
        "                            save_weights_only=True,\n",
        "                             verbose=1, \n",
        "                             save_best_only=True,\n",
        "                             mode='min')\n",
        "checkpoint4= ModelCheckpoint(filepath='ch4',save_format=tf,monitor='val_loss',\n",
        "                            save_weights_only=True,\n",
        "                             verbose=1, \n",
        "                             save_best_only=True,\n",
        "                             mode='min')\n",
        "checkpointR = ModelCheckpoint(filepath='chr',save_format=tf,monitor='val_loss',\n",
        "                            save_weights_only=True,\n",
        "                             verbose=1, \n",
        "                             save_best_only=True,\n",
        "                             mode='min')\n",
        "checkpointR2 = ModelCheckpoint(filepath='chr2',save_format=tf,monitor='val_loss',\n",
        "                            save_weights_only=True,\n",
        "                             verbose=1, \n",
        "                             save_best_only=True,\n",
        "                             mode='min')\n",
        "checkpointRSmall = ModelCheckpoint(filepath='chrsm',save_format=tf,monitor='val_loss',\n",
        "                            save_weights_only=True,\n",
        "                             verbose=1, \n",
        "                             save_best_only=True,\n",
        "                             mode='min')\n",
        "checkpointL1 = ModelCheckpoint(filepath='chr',save_format=tf,monitor='val_loss',\n",
        "                            save_weights_only=True,\n",
        "                             verbose=1, \n",
        "                             save_best_only=True,\n",
        "                             mode='min')\n",
        "checkpointL2 = ModelCheckpoint(filepath='chr2',save_format=tf,monitor='val_loss',\n",
        "                            save_weights_only=True,\n",
        "                             verbose=1, \n",
        "                             save_best_only=True,\n",
        "                             mode='min')\n",
        "checkpointLRes= ModelCheckpoint(filepath='chrsm',save_format=tf,monitor='val_loss',\n",
        "                            save_weights_only=True,\n",
        "                             verbose=1, \n",
        "                             save_best_only=True,\n",
        "                             mode='min')\n",
        "es = tf.keras.callbacks.EarlyStopping(monitor='val_loss', mode='min',patience=2)\n",
        "from keras.callbacks import ModelCheckpoint\n",
        "filepath = 'my_best_model.hdf5'\n",
        "checkpoint_stln = ModelCheckpoint(filepath='ch',save_format=tf,monitor='val_loss',\n",
        "                            save_weights_only=True,\n",
        "                             verbose=1, \n",
        "                             save_best_only=True,\n",
        "                             mode='min')\n",
        "checkpoint_stlloc = ModelCheckpoint(filepath='ch2',save_format=tf,monitor='val_loss',\n",
        "                            save_weights_only=True,\n",
        "                             verbose=1, \n",
        "                             save_best_only=True,\n",
        "                             mode='min')\n",
        "def custom_comp(q, k):\n",
        "    #print(q.shape)\n",
        "    q1 = tf.reshape(q,[-1,q.shape[1]*q.shape[2],int(q.shape[3]/16),16])\n",
        "    k1 = tf.reshape(k,[-1,k.shape[1]*k.shape[2],int(k.shape[3]/16),16])\n",
        "    pairwise_euclidean_distance = tf.reduce_sum(tf.math.square(tf.subtract(tf.transpose(q1[:,:,:,:,tf.newaxis],[0,1,2,3,4],-1) , tf.transpose(k1[:,:,:,:,tf.newaxis],[0,1,2,4,3],-1))),-1)\n",
        "    pairwise_euclidean_distance = tf.math.l2_normalize(pairwise_euclidean_distance,axis=-1)\n",
        "    pairwise_euclidean_distance = tf.reshape(pairwise_euclidean_distance,[-1,q.shape[1],q.shape[2],q.shape[3]])\n",
        "    return pairwise_euclidean_distance\n",
        "\n",
        "class LocationEncoding(tf.keras.layers.Layer):\n",
        "  def __init__(self, filters1, filters2):\n",
        "    super(LocationEncoding, self).__init__()\n",
        "    self.filters1 = filters1\n",
        "    self.filters2 = filters2\n",
        "    #self.positions=positions\n",
        "\n",
        "    self.conv1 = keras.layers.Conv2D(self.filters1, (1, 1),\n",
        "                      kernel_initializer='he_normal',\n",
        "                      name='conv2a',padding=\"same\")\n",
        "    self.wp = keras.layers.Conv2D(self.filters1, (1, 1),\n",
        "                      kernel_initializer='he_normal',\n",
        "                      name='conv2b',padding=\"same\")\n",
        "    self.conv2 = layers.Conv2D(self.filters2, (3, 3),\n",
        "                      kernel_initializer='he_normal',\n",
        "                      name='conv2c',groups=8,padding=\"same\")\n",
        "    self.conv3 = layers.Conv2D(self.filters2, (3, 3),\n",
        "                      kernel_initializer='he_normal',\n",
        "                      name='conv2d',activation='softmax',kernel_regularizer=keras.regularizers.L2(0.0001),padding=\"same\")\n",
        "    self.conv4 = layers.Conv2D(self.filters2, (1, 1),\n",
        "                      kernel_initializer='he_normal',\n",
        "                      name='conv2d',activation='softmax',kernel_regularizer=keras.regularizers.L1(0.0001),padding=\"same\")\n",
        "    self.conv5 = layers.Conv2D(self.filters2, (1, 1),\n",
        "                      kernel_initializer='he_normal',\n",
        "                      name='conv2d',activation='elu',kernel_regularizer=keras.regularizers.L2(0.0001),padding=\"same\")\n",
        "    self.convl = layers.Conv2D(self.filters2, (1, 1),\n",
        "                      kernel_initializer='he_normal',\n",
        "                      name='conv2d',activation='relu',kernel_regularizer=keras.regularizers.L2(0.0001),padding=\"same\")\n",
        "    \n",
        "    self.bn = layers.BatchNormalization(name='bn')\n",
        "    self.bn1 = layers.BatchNormalization(name='bn1')\n",
        "    self.bn2 = layers.LayerNormalization(name='bn2')\n",
        "    self.bn3 = layers.LayerNormalization(name='bn3')\n",
        "    self.bn4 = layers.LayerNormalization(name='bn4')\n",
        "\n",
        "    #self.dense = tf.keras.layers.Dense(d_model)\n",
        "\n",
        "  def call(self, input_tensor, image):\n",
        "\n",
        "    x = self.conv1(input_tensor)\n",
        "    x = tf.keras.layers.Activation(\"relu\")(x)\n",
        "    positions = image[:,:,:,-2:]\n",
        "    positions = tf.tile(positions,[1,1,1,self.filters1])\n",
        "    positions = layers.AveragePooling2D(pool_size=(image.shape[1]/input_tensor.shape[1],image.shape[2]/input_tensor.shape[2]),strides=(image.shape[1]/input_tensor.shape[1],image.shape[2]/input_tensor.shape[2]))(positions)\n",
        "    #x1loc = tf.where(tf.reduce_any(x>0),positions,0.0)\n",
        "    x1 = tf.pad(layers.MaxPooling2D(pool_size=(2,2),padding=\"same\")(x),paddings=[[0,0],[int(x.shape[1]/4),int(x.shape[1]/4)],[int(x.shape[1]/4),int(x.shape[1]/4)],[0,0]])\n",
        "    x1loc = tf.where(tf.tile(x,[1,1,1,2])>0,positions,0.0)\n",
        "    #x3 = tf.pad(layers.MaxPooling2D(pool_size=(8,8),padding=\"same\")(x),paddings=[[0,0],[int(x.shape[1]/2),int(x.shape[1]/2)],[int(x.shape[1]/2),int(x.shape[1]/2)],[0,0]])\n",
        "    x3 = layers.MaxPooling2D(pool_size=(5,5),strides=(1,1),padding=\"same\")(x)\n",
        "    #x3 = tf.image.resize_with_crop_or_pad(x3,x.shape[1],x.shape[2])\n",
        "    xa = tf.math.argmax(x,1)\n",
        "    xa = tf.math.argmax(xa,2)\n",
        "\n",
        "    x1loc = tf.gather(x1loc,xa,axis=2,batch_dims=1)\n",
        "    locs = custom_comp(x1loc,x1loc)\n",
        "    #xpose = self.conv3(locs)\n",
        "    x = self.bn(x)\n",
        "    x = layers.Add()([x,self.conv5(x3)])\n",
        "    #x = self.bn4(x)\n",
        "    xpose = self.conv4(locs) \n",
        "    x = layers.Add()([x,xpose])\n",
        "    x = self.bn3(x)\n",
        "    x = self.conv2(x)\n",
        "    x = self.bn2(x)\n",
        "    x = tf.keras.layers.Activation(\"relu\")(x)\n",
        "    return x\n",
        "\n",
        "def low_level_diff(q, k,positions):\n",
        "    q = tf.cast(q,dtype=tf.float32)\n",
        "    k = tf.cast(k,dtype=tf.float32)\n",
        "    q = tf.reshape(q,[-1,q.shape[1],q.shape[2],int(q.shape[3]/9),9])\n",
        "    k = tf.reshape(k,[-1,k.shape[1],k.shape[2],int(k.shape[3]/9),9])\n",
        "    q = tf.transpose(q,[0,1,2,3,4])\n",
        "    #k = tf.transpose(k,[0,1,2,4,3])\n",
        "    pairwise = tf.reduce_sum(q[:,:,:,:,:,tf.newaxis] - k[:,:,:,:,tf.newaxis,:],-1)\n",
        "    pairwise = tf.math.l2_normalize(pairwise,axis=-1)\n",
        "    pairwise = tf.reshape(pairwise,[-1,q.shape[1],q.shape[2],64])\n",
        "    #(positions[:,:,tf.newaxis]-positions[:,tf.newaxis,:]),-1)\n",
        "    return pairwise\n",
        "\n",
        "data_augmentation = keras.Sequential(\n",
        "    [\n",
        "        layers.Normalization(),\n",
        "        layers.RandomFlip(\"horizontal\"),\n",
        "        layers.RandomRotation(0.2),\n",
        "        layers.RandomZoom(.5, .2)\n",
        "    ]\n",
        ")\n",
        "\n",
        "import cv2\n",
        "def custom_gabor(shape, dtype=None):\n",
        "    pi = np.pi\n",
        "    orientation_spread = np.array([0, pi/4, pi/2, pi*3/4, pi, pi*5/4, pi*3/2, 2*pi])\n",
        "    scales = np.linspace(2, 3, 6)\n",
        "    real_kernels = []\n",
        "    img_kernels = []\n",
        "#     size, sigma, theta, lambda, gamma aspect ratio\n",
        "    for orientation in orientation_spread:\n",
        "        for scale in scales:\n",
        "            real_kernel = cv2.getGaborKernel((3, 3), 1, orientation, scale, 1, 0)\n",
        "            imaginary_kernel = cv2.getGaborKernel((3, 3), 1, orientation, scale, 1, np.pi / 2)\n",
        "            real_kernels.append(real_kernel)\n",
        "            img_kernels.append(imaginary_kernel)\n",
        "    stacked_list = np.vstack((real_kernels, img_kernels))\n",
        "    # stack number equal to number of color channel RGB: ([stacked_list, stacked_list, stacked_list])\n",
        "    stacked_list = np.array([stacked_list, stacked_list, stacked_list,stacked_list, stacked_list, stacked_list,stacked_list, stacked_list, stacked_list,stacked_list,stacked_list,stacked_list])\n",
        "    stacked_list = np.einsum('hijk->jkhi', stacked_list)\n",
        "    print(stacked_list.shape)\n",
        "\n",
        "    stacked_list = K.variable(stacked_list)\n",
        "    random = K.random_normal(shape, dtype=dtype)\n",
        "    return stacked_list\n",
        "\n",
        "import cv2"
      ]
    },
    {
      "cell_type": "code",
      "source": [
        "import datetime\n",
        "from datetime import datetime\n",
        "import keras.callbacks\n",
        "logdir = \"logs/scalars/\" + datetime.now().strftime(\"%Y%m%d-%H%M%S\")\n",
        "tensorboard_callback = keras.callbacks.TensorBoard(log_dir=logdir)"
      ],
      "metadata": {
        "id": "sV8-ivYxL6z5"
      },
      "execution_count": null,
      "outputs": []
    },
    {
      "cell_type": "code",
      "source": [
        "from sklearn.model_selection import train_test_split\n",
        "from keras.datasets import cifar10\n",
        "(train_X, train_y), (test_X, test_y) = cifar10.load_data()\n",
        "#x_test_new=np.array(x_test_new)\n",
        "x_train,x_val,y_train,y_val = train_test_split(train_X,train_y,test_size=0.33)\n",
        "\n",
        "data_augmentation = keras.Sequential(\n",
        "    [\n",
        "        layers.Normalization(),\n",
        "        layers.RandomFlip(\"horizontal\"),\n",
        "        layers.RandomRotation(0.2),\n",
        "        layers.RandomZoom(.5, .2)\n",
        "    ]\n",
        ")\n",
        "data_augmentation.layers[0].adapt(train_X)"
      ],
      "metadata": {
        "id": "5N-sqX8-lL0P",
        "colab": {
          "base_uri": "https://localhost:8080/"
        },
        "outputId": "13591532-9a7c-4530-ac74-e38b4b1e1bf2"
      },
      "execution_count": null,
      "outputs": [
        {
          "output_type": "stream",
          "name": "stdout",
          "text": [
            "Downloading data from https://www.cs.toronto.edu/~kriz/cifar-10-python.tar.gz\n",
            "170500096/170498071 [==============================] - 11s 0us/step\n",
            "170508288/170498071 [==============================] - 11s 0us/step\n"
          ]
        }
      ]
    },
    {
      "cell_type": "code",
      "source": [
        "checkpoint2 = ModelCheckpoint(filepath='ch2',save_format=tf,monitor='val_sparse_categorical_accuracy',\n",
        "                            save_weights_only=True,\n",
        "                             verbose=1, \n",
        "                             save_best_only=True,\n",
        "                             mode='min')"
      ],
      "metadata": {
        "id": "XLRW4bsDZrBL"
      },
      "execution_count": null,
      "outputs": []
    },
    {
      "cell_type": "code",
      "execution_count": null,
      "metadata": {
        "id": "GIhsq1TMVxGN"
      },
      "outputs": [],
      "source": [
        "def NormalModel():\n",
        "  inputs = layers.Input(shape=(32, 32, 3))\n",
        "  inputs=data_augmentation(inputs)\n",
        "  x = layers.Conv2D(filters=64,kernel_size=(3,3),padding=\"same\", activation=\"relu\")(inputs)\n",
        "  x1 = layers.Conv2D(filters=64,kernel_size=(3,3),padding=\"same\", activation=\"relu\")(x)\n",
        "  x = layers.MaxPool2D(pool_size=(2,2),strides=(2,2))(x)\n",
        "  x = layers.Conv2D(filters=128,kernel_size=(3,3),padding=\"same\", activation=\"relu\")(x)\n",
        "  x2 = layers.Conv2D(filters=128,kernel_size=(3,3),padding=\"same\", activation=\"relu\")(x)\n",
        "  x = layers.MaxPool2D(pool_size=(2,2),strides=(2,2))(x2)\n",
        "  x = layers.Conv2D(filters=256,kernel_size=(3,3),padding=\"same\", activation=\"relu\")(x)\n",
        "  x = layers.Conv2D(filters=256,kernel_size=(3,3),padding=\"same\", activation=\"relu\")(x)\n",
        "  x = layers.Conv2D(filters=256,kernel_size=(3,3),padding=\"same\", activation=\"relu\")(x)\n",
        "  x = layers.MaxPool2D(pool_size=(2,2),strides=(2,2))(x)\n",
        "  x = layers.Conv2D(filters=512,kernel_size=(3,3),padding=\"same\", activation=\"relu\")(x)\n",
        "  x = layers.Conv2D(filters=512,kernel_size=(3,3),padding=\"same\", activation=\"relu\")(x)\n",
        "  x = layers.Conv2D(filters=512,kernel_size=(3,3),padding=\"same\", activation=\"relu\")(x)\n",
        "  x = layers.GlobalAveragePooling2D()(x)\n",
        "  x = layers.Dense(4096,activation='relu')(x)\n",
        "  x = layers.Dense(4096,activation='relu')(x)\n",
        "  x = layers.Dense(10,activation='softmax')(x)\n",
        "  return tf.keras.Model(inputs = inputs,outputs = x)"
      ]
    },
    {
      "cell_type": "code",
      "execution_count": null,
      "metadata": {
        "id": "7s3AkdlQyQVV"
      },
      "outputs": [],
      "source": [
        "def NormalModel2():\n",
        "  inputs = layers.Input(shape=(64, 64, 12))\n",
        "  inputs=data_augmentation(inputs)\n",
        "  x = layers.Conv2D(filters=64,kernel_size=(3,3),padding=\"same\", activation=\"relu\")(inputs)\n",
        "  x1 = layers.Conv2D(filters=64,kernel_size=(3,3),padding=\"same\", activation=\"relu\")(x)\n",
        "  x1 = layers.BatchNormalization()(x1)\n",
        "  x = layers.MaxPool2D(pool_size=(2,2),strides=(2,2))(x1)\n",
        "  x = layers.Conv2D(filters=128,kernel_size=(3,3),padding=\"same\", activation=\"relu\")(x1)\n",
        "  x2 = layers.Conv2D(filters=128,kernel_size=(3,3),padding=\"same\", activation=\"relu\")(x)\n",
        "  x = layers.MaxPool2D(pool_size=(2,2),strides=(2,2))(x2)\n",
        "  x = layers.BatchNormalization()(x)\n",
        "  x = layers.Conv2D(filters=256,kernel_size=(3,3),padding=\"same\", activation=\"relu\")(x)\n",
        "  x = layers.Conv2D(filters=256,kernel_size=(3,3),padding=\"same\", activation=\"relu\")(x)\n",
        "  x = layers.Conv2D(filters=256,kernel_size=(3,3),padding=\"same\", activation=\"relu\")(x)                                                                             \n",
        "  x = layers.BatchNormalization()(x)\n",
        "  x = layers.MaxPool2D(pool_size=(2,2),strides=(2,2))(x)\n",
        "  x = layers.Conv2D(filters=512,kernel_size=(3,3),padding=\"same\", activation=\"relu\")(x)\n",
        "  x = layers.Conv2D(filters=512,kernel_size=(3,3),padding=\"same\", activation=\"relu\")(x)\n",
        "  x = layers.Conv2D(filters=512,kernel_size=(3,3),padding=\"same\", activation=\"relu\")(x)\n",
        "  x = layers.BatchNormalization()(x)\n",
        "  x = layers.MaxPool2D(pool_size=(2,2),strides=(2,2))(x)\n",
        "  x = layers.Conv2D(filters=512,kernel_size=(3,3),padding=\"same\", activation=\"relu\")(x)\n",
        "  x = layers.Conv2D(filters=512,kernel_size=(3,3),padding=\"same\", activation=\"relu\")(x)\n",
        "  x = layers.Conv2D(filters=512,kernel_size=(3,3),padding=\"same\", activation=\"relu\")(x)\n",
        "  x = layers.BatchNormalization()(x)\n",
        "  x = layers.GlobalAveragePooling2D()(x)\n",
        "  x = layers.Dense(4096,activation='relu')(x)\n",
        "  x = layers.Dense(4096,activation='relu')(x)\n",
        "  x = layers.Dense(10,activation='softmax')(x)\n",
        "  return tf.keras.Model(inputs = inputs,outputs = x)"
      ]
    },
    {
      "cell_type": "code",
      "execution_count": null,
      "metadata": {
        "id": "eQHXbZf-iiJJ"
      },
      "outputs": [],
      "source": [
        "class BasicBlock(tf.keras.layers.Layer):\n",
        "\n",
        "    def __init__(self, filter_num, stride=1):\n",
        "        super(BasicBlock, self).__init__()\n",
        "        self.conv1 = tf.keras.layers.Conv2D(filters=filter_num,\n",
        "                                            kernel_size=(3, 3),\n",
        "                                            strides=stride,\n",
        "                                            padding=\"same\")\n",
        "        self.bn1 = tf.keras.layers.BatchNormalization()\n",
        "        self.conv2 = tf.keras.layers.Conv2D(filters=filter_num,\n",
        "                                            kernel_size=(3, 3),\n",
        "                                            strides=1,\n",
        "                                            padding=\"same\")\n",
        "        self.bn2 = tf.keras.layers.BatchNormalization()\n",
        "        if stride != 1:\n",
        "            self.downsample = tf.keras.Sequential()\n",
        "            self.downsample.add(tf.keras.layers.Conv2D(filters=filter_num,\n",
        "                                                       kernel_size=(1, 1),\n",
        "                                                       strides=stride))\n",
        "            self.downsample.add(tf.keras.layers.BatchNormalization())\n",
        "        else:\n",
        "            self.downsample = lambda x: x\n",
        "\n",
        "    def call(self, inputs, training=None, **kwargs):\n",
        "        residual = self.downsample(inputs)\n",
        "\n",
        "        x = self.conv1(inputs)\n",
        "        x = self.bn1(x, training=training)\n",
        "        x = tf.nn.relu(x)\n",
        "        x = self.conv2(x)\n",
        "        x = self.bn2(x, training=training)\n",
        "\n",
        "        output = tf.nn.relu(tf.keras.layers.add([residual, x]))\n",
        "\n",
        "        return output\n",
        "        \n",
        "def make_basic_block_layer(filter_num, blocks, stride=1):\n",
        "    res_block = tf.keras.Sequential()\n",
        "    res_block.add(BasicBlock(filter_num, stride=stride))\n",
        "\n",
        "    for _ in range(1, blocks):\n",
        "        res_block.add(BasicBlock(filter_num, stride=1))\n",
        "\n",
        "    return res_block"
      ]
    },
    {
      "cell_type": "code",
      "execution_count": null,
      "metadata": {
        "id": "Q8qGhgwURME1"
      },
      "outputs": [],
      "source": [
        "def make_bottleneck_layer(filter_num, blocks, stride=1):\n",
        "    res_block = tf.keras.Sequential()\n",
        "    res_block.add(BottleNeck(filter_num, stride=stride))\n",
        "\n",
        "    for _ in range(1, blocks):\n",
        "        res_block.add(BottleNeck(filter_num, stride=1))\n",
        "\n",
        "    return res_block\n",
        "\n",
        "class BottleNeck(tf.keras.layers.Layer):\n",
        "    def __init__(self, filter_num, stride=1):\n",
        "        super(BottleNeck, self).__init__()\n",
        "        self.conv1 = tf.keras.layers.Conv2D(filters=filter_num,\n",
        "                                            kernel_size=(1, 1),\n",
        "                                            strides=1,\n",
        "                                            padding='same')\n",
        "        self.bn1 = tf.keras.layers.BatchNormalization()\n",
        "        self.conv2 = tf.keras.layers.Conv2D(filters=filter_num,\n",
        "                                            kernel_size=(3, 3),\n",
        "                                            strides=stride,\n",
        "                                            padding='same')\n",
        "        self.bn2 = tf.keras.layers.BatchNormalization()\n",
        "        self.conv3 = tf.keras.layers.Conv2D(filters=filter_num * 4,\n",
        "                                            kernel_size=(1, 1),\n",
        "                                            strides=1,\n",
        "                                            padding='same')\n",
        "        self.bn3 = tf.keras.layers.BatchNormalization()\n",
        "\n",
        "        self.downsample = tf.keras.Sequential()\n",
        "        self.downsample.add(tf.keras.layers.Conv2D(filters=filter_num * 4,\n",
        "                                                   kernel_size=(1, 1),\n",
        "                                                   strides=stride))\n",
        "        self.downsample.add(tf.keras.layers.BatchNormalization())\n",
        "\n",
        "    def call(self, inputs, training=None, **kwargs):\n",
        "        residual = self.downsample(inputs)\n",
        "\n",
        "        x = self.conv1(inputs)\n",
        "        x = self.bn1(x, training=training)\n",
        "        x = tf.nn.relu(x)\n",
        "        x = self.conv2(x)\n",
        "        x = self.bn2(x, training=training)\n",
        "        x = tf.nn.relu(x)\n",
        "        x = self.conv3(x)\n",
        "        x = self.bn3(x, training=training)\n",
        "\n",
        "        output = tf.nn.relu(tf.keras.layers.add([residual, x]))\n",
        "\n",
        "        return output\n",
        "\n",
        "class ResNetTypeII(tf.keras.Model):\n",
        "    def __init__(self, layer_params):\n",
        "        super(ResNetTypeII, self).__init__()\n",
        "        self.conv1 = tf.keras.layers.Conv2D(filters=64,\n",
        "                                            kernel_size=(7, 7),\n",
        "                                            strides=2,\n",
        "                                            padding=\"same\")\n",
        "        self.bn1 = tf.keras.layers.BatchNormalization()\n",
        "        self.pool1 = tf.keras.layers.MaxPool2D(pool_size=(3, 3),\n",
        "                                               strides=2,\n",
        "                                               padding=\"same\")\n",
        "\n",
        "        self.layer1 = make_bottleneck_layer(filter_num=64,\n",
        "                                            blocks=layer_params[0])\n",
        "        self.layer2 = make_bottleneck_layer(filter_num=128,\n",
        "                                            blocks=layer_params[1],\n",
        "                                            stride=2)\n",
        "        self.layer3 = make_bottleneck_layer(filter_num=256,\n",
        "                                            blocks=layer_params[2],\n",
        "                                            stride=2)\n",
        "        self.layer4 = make_bottleneck_layer(filter_num=512,\n",
        "                                            blocks=layer_params[3],\n",
        "                                            stride=2)\n",
        "\n",
        "        self.avgpool = tf.keras.layers.GlobalAveragePooling2D()\n",
        "        self.fc = tf.keras.layers.Dense(units=10, activation=tf.keras.activations.softmax)\n",
        "    \n",
        "    def call(self, inputs, training=None, mask=None):\n",
        "        x = data_augmentation(inputs)\n",
        "        x = self.conv1(x)\n",
        "        x = self.bn1(x, training=training)\n",
        "        x = tf.nn.relu(x)\n",
        "        x = self.pool1(x)\n",
        "        x = self.layer1(x, training=training)\n",
        "        x = self.layer2(x, training=training)\n",
        "        x = self.layer3(x, training=training)\n",
        "        x = self.layer4(x, training=training)\n",
        "        x = self.avgpool(x)\n",
        "        output = self.fc(x)\n",
        "\n",
        "        return output"
      ]
    },
    {
      "cell_type": "code",
      "execution_count": null,
      "metadata": {
        "id": "06iV0JkEVBFE"
      },
      "outputs": [],
      "source": [
        "class ResNetTypeI(tf.keras.Model):\n",
        "    def __init__(self, layer_params):\n",
        "        super(ResNetTypeI, self).__init__()\n",
        "\n",
        "        self.conv1 = tf.keras.layers.Conv2D(filters=64,\n",
        "                                            kernel_size=(7, 7),\n",
        "                                            strides=2,\n",
        "                                            padding=\"same\")\n",
        "        self.bn1 = tf.keras.layers.BatchNormalization()\n",
        "        self.pool1 = tf.keras.layers.MaxPool2D(pool_size=(3, 3),\n",
        "                                               strides=2,\n",
        "                                               padding=\"same\")\n",
        "\n",
        "        self.layer1 = make_basic_block_layer(filter_num=64,\n",
        "                                             blocks=layer_params[0])\n",
        "        self.layer2 = make_basic_block_layer(filter_num=128,\n",
        "                                             blocks=layer_params[1],\n",
        "                                             stride=2)\n",
        "        self.layer3 = make_basic_block_layer(filter_num=256,\n",
        "                                             blocks=layer_params[2],\n",
        "                                             stride=2)\n",
        "        self.layer4 = make_basic_block_layer(filter_num=512,\n",
        "                                             blocks=layer_params[3],\n",
        "                                             stride=2)\n",
        "\n",
        "        self.avgpool = tf.keras.layers.GlobalAveragePooling2D()\n",
        "        self.fc = tf.keras.layers.Dense(units=10, activation=tf.keras.activations.softmax)\n",
        "\n",
        "    def call(self, inputs, training=None, mask=None):\n",
        "        x = data_augmentation(inputs)\n",
        "        x = self.conv1(x)\n",
        "        x = self.bn1(x, training=training)\n",
        "        x = tf.nn.relu(x)\n",
        "        x = self.pool1(x)\n",
        "        x = self.layer1(x, training=training)\n",
        "        x = self.layer2(x, training=training)\n",
        "        x = self.layer3(x, training=training)\n",
        "        x = self.layer4(x, training=training)\n",
        "        x = self.avgpool(x)\n",
        "        output = self.fc(x)\n",
        "\n",
        "        return output"
      ]
    },
    {
      "cell_type": "code",
      "execution_count": null,
      "metadata": {
        "id": "pxLwgHIEDeB1"
      },
      "outputs": [],
      "source": [
        "def resnet_50():\n",
        "    return ResNetTypeII(layer_params=[3, 4, 6, 3])\n",
        "\n",
        "modelRes2=resnet_50()\n",
        "modelRes2.compile(\n",
        "    optimizer=tf.keras.optimizers.Adam(0.001),\n",
        "    loss='sparse_categorical_crossentropy',\n",
        "    metrics='sparse_categorical_accuracy'\n",
        ")\n",
        "historyR2 = modelRes2.fit(labeled_train_dataset,validation_data=labeled_val_dataset,epochs=50,callbacks=[checkpointR,tensorboard_callback])"
      ]
    },
    {
      "cell_type": "code",
      "execution_count": null,
      "metadata": {
        "id": "CUyHLlGeZ8wR"
      },
      "outputs": [],
      "source": [
        "#modelRes2.evaluate(test_dataset)\n",
        "modelRes2.save_weights('/content/drive/MyDrive/stlres2')\n",
        "#modelRes2.evaluate(test_dataset)"
      ]
    },
    {
      "cell_type": "code",
      "execution_count": null,
      "metadata": {
        "id": "XzimI7MEerXu"
      },
      "outputs": [],
      "source": [
        "def resnet_101():\n",
        "    return ResNetTypeII(layer_params=[3, 4, 23, 3])\n",
        "\n",
        "modelRes3=resnet_101()\n",
        "modelRes3.compile(\n",
        "    optimizer=tf.keras.optimizers.Adam(0.001),\n",
        "    loss='sparse_categorical_crossentropy',\n",
        "    metrics='sparse_categorical_accuracy'\n",
        ")\n",
        "historyR3 = modelRes3.fit(labeled_train_dataset,validation_data=labeled_val_dataset,epochs=30,callbacks=[checkpointR2,tensorboard_callback])"
      ]
    },
    {
      "cell_type": "code",
      "execution_count": null,
      "metadata": {
        "id": "0ZrXs_k9jPGB"
      },
      "outputs": [],
      "source": [
        "def resnet_34():\n",
        "    return ResNetTypeI(layer_params=[3, 4, 6, 3])\n",
        "\n",
        "modelRes=resnet_34()\n",
        "modelRes.compile(\n",
        "    optimizer=tf.keras.optimizers.Adam(0.001),\n",
        "    loss='sparse_categorical_crossentropy',\n",
        "    metrics='sparse_categorical_accuracy'\n",
        ")\n",
        "historyR = modelRes.fit(labeled_train_dataset,validation_data=labeled_val_dataset,epochs=50,callbacks=[checkpointRSmall,tensorboard_callback])"
      ]
    },
    {
      "cell_type": "code",
      "execution_count": null,
      "metadata": {
        "id": "9syx6cVw4ooJ"
      },
      "outputs": [],
      "source": [
        "modelRes.load_weights('chr')"
      ]
    },
    {
      "cell_type": "code",
      "execution_count": null,
      "metadata": {
        "id": "HeNfyn0prZeb"
      },
      "outputs": [],
      "source": [
        "X_test = np.zeros((64,64,64,12))\n",
        "y_test=np.zeros((64))\n",
        "for image,lab in test_dataset:\n",
        "  X_test=np.concatenate([X_test,image])\n",
        "  y_test=np.concatenate([y_test,lab])\n",
        "X_test=np.array(X_test)\n",
        "y_test=np.array(y_test)"
      ]
    },
    {
      "cell_type": "code",
      "execution_count": null,
      "metadata": {
        "id": "E9MXrXKsHDDQ"
      },
      "outputs": [],
      "source": [
        "from keras.layers import *\n",
        "def custom_gabor(shape, dtype=None):\n",
        "    pi = np.pi\n",
        "    orientation_spread = np.array([0, pi/4, pi/2, pi*3/4, pi, pi*5/4, pi*3/2, 2*pi])\n",
        "    scales = np.linspace(2, 3, 6)\n",
        "    real_kernels = []\n",
        "    img_kernels = []\n",
        "#     size, sigma, theta, lambda, gamma aspect ratio\n",
        "    for orientation in orientation_spread:\n",
        "        for scale in scales:\n",
        "            real_kernel = cv2.getGaborKernel((3, 3), 1, orientation, scale, 1, 0)\n",
        "            imaginary_kernel = cv2.getGaborKernel((3, 3), 1, orientation, scale, 1, np.pi / 2)\n",
        "            real_kernels.append(real_kernel)\n",
        "            img_kernels.append(imaginary_kernel)\n",
        "    stacked_list = np.vstack((real_kernels, img_kernels))\n",
        "    # stack number equal to number of color channel RGB: ([stacked_list, stacked_list, stacked_list])\n",
        "    stacked_list = np.array([stacked_list, stacked_list, stacked_list,stacked_list, stacked_list, stacked_list,stacked_list, stacked_list, stacked_list,stacked_list,stacked_list,stacked_list])\n",
        "    stacked_list = np.einsum('hijk->jkhi', stacked_list)\n",
        "    print(stacked_list.shape)\n",
        "\n",
        "    stacked_list = K.variable(stacked_list)\n",
        "    random = K.random_normal(shape, dtype=dtype)\n",
        "    return stacked_list"
      ]
    },
    {
      "cell_type": "code",
      "execution_count": null,
      "metadata": {
        "id": "Lg06wg-fVU1y"
      },
      "outputs": [],
      "source": [
        "def LocationModelN():\n",
        "  inputs = layers.Input(shape=(32, 32, 3))\n",
        "  x = data_augmentation(inputs)\n",
        "  #x = layers.Conv2D(filters=64,kernel_size=(3,3),padding=\"same\", activation=\"relu\")(inputs)\n",
        "  #x = layers.Conv2D(filters=64,kernel_size=(3,3),padding=\"same\", activation=\"relu\")(x)\n",
        "  x = LocationEncoding(256,256)(x,inputs)\n",
        "  x = LocationEncoding(256,256)(x,inputs)\n",
        "  #gbr = layers.Conv2D(96, (3, 3), padding='same',kernel_initializer=custom_gabor, data_format='channels_last', input_shape=(64,64,12))(inputs)\n",
        "  #xgb = layers.Conv2D(filters=64,kernel_size=(3,3),padding=\"same\", activation=\"relu\")(gbr)\n",
        "  x = layers.MaxPooling2D(pool_size=(2,2),strides=(2,2))(x)\n",
        "  x = layers.BatchNormalization()(x)\n",
        "  x = LocationEncoding(256,256)(x,inputs)\n",
        "  x = LocationEncoding(256,256)(x,inputs)\n",
        "  x = LocationEncoding(256,256)(x,inputs)\n",
        "  x = layers.MaxPooling2D(pool_size=(2,2),strides=(2,2))(x)\n",
        "  #x = layers.Add()([x,layers.Dense(128)(x1)])\n",
        "  x = LocationEncoding(800,800)(x,inputs)\n",
        "  x = LocationEncoding(800,800)(x,inputs)\n",
        "  x = LocationEncoding(800,800)(x,inputs)\n",
        "  x = layers.MaxPooling2D(pool_size=(2,2),strides=(2,2))(x)\n",
        "  #x = layers.Add()([x,layers.Dense(256)(x1)])\n",
        "  x = LocationEncoding(512,512)(x,inputs)\n",
        "  x = LocationEncoding(512,512)(x,inputs)\n",
        "  x = LocationEncoding(512,512)(x,inputs)\n",
        "  x = layers.GlobalAveragePooling2D()(x)\n",
        "  x = layers.Dense(4096,activation='relu')(x)\n",
        "  x = layers.Dense(4096,activation='relu')(x)\n",
        "  x = layers.Dense(10,activation='softmax')(x)\n",
        "  return tf.keras.Model(inputs = inputs,outputs = x)"
      ]
    },
    {
      "cell_type": "code",
      "execution_count": null,
      "metadata": {
        "id": "GPDIJ8bY2K7a"
      },
      "outputs": [],
      "source": [
        "def LocationModelN2():\n",
        "  inputs = layers.Input(shape=(32, 32, 3))\n",
        "  x = data_augmentation(inputs)\n",
        "  x = layers.Conv2D(filters=64,kernel_size=(3,3),padding=\"same\", activation=\"relu\")(inputs)\n",
        "  x = layers.Conv2D(filters=64,kernel_size=(3,3),padding=\"same\", activation=\"relu\")(x)\n",
        "  #gbr = layers.Conv2D(96, (3, 3), padding='same',kernel_initializer=custom_gabor, data_format='channels_last', input_shape=(64,64,12))(inputs)\n",
        "  #xgb = layers.Conv2D(filters=64,kernel_size=(3,3),padding=\"same\", activation=\"relu\")(gbr)\n",
        "  x = layers.MaxPooling2D(pool_size=(2,2),strides=(2,2))(x)\n",
        "  x = layers.BatchNormalization()(x)\n",
        "  x = LocationEncoding(256,256)(x,inputs)\n",
        "  x = LocationEncoding(256,256)(x,inputs)\n",
        "  x = LocationEncoding(256,256)(x,inputs)\n",
        "  x = layers.MaxPooling2D(pool_size=(2,2),strides=(2,2))(x)\n",
        "  #x = layers.Add()([x,layers.Dense(128)(x1)])\n",
        "  x = LocationEncoding(720,720)(x,inputs)\n",
        "  x = LocationEncoding(720,720)(x,inputs)\n",
        "  x = LocationEncoding(720,720)(x,inputs)\n",
        "  x = layers.MaxPooling2D(pool_size=(2,2),strides=(2,2))(x)\n",
        "  #x = layers.Add()([x,layers.Dense(256)(x1)])\n",
        "  x = LocationEncoding(512,512)(x,inputs)\n",
        "  x = LocationEncoding(512,512)(x,inputs)\n",
        "  x = LocationEncoding(512,512)(x,inputs)\n",
        "  x = layers.MaxPooling2D(pool_size=(2,2),strides=(2,2))(x)\n",
        "  x = LocationEncoding(512,512)(x,inputs)\n",
        "  x = LocationEncoding(512,512)(x,inputs)\n",
        "  x = LocationEncoding(512,512)(x,inputs)\n",
        "  x = layers.GlobalAveragePooling2D()(x)\n",
        "  x = layers.Dense(2048,activation='relu')(x)\n",
        "  x = layers.Dense(2048,activation='relu')(x)\n",
        "  x = layers.Dense(10,activation='softmax')(x)\n",
        "  return tf.keras.Model(inputs = inputs,outputs = x)"
      ]
    },
    {
      "cell_type": "code",
      "execution_count": null,
      "metadata": {
        "id": "39Bu_k12Q6ge"
      },
      "outputs": [],
      "source": [
        "def LocationModel():\n",
        "  inputs = layers.Input(shape=(64, 64, 12))\n",
        "  inputs = data_augmentation(inputs)\n",
        "  x = layers.Conv2D(filters=64,kernel_size=(3,3),padding=\"same\", activation=\"relu\")(inputs)\n",
        "  gbr = layers.Conv2D(96, (3, 3), padding='same',kernel_initializer=custom_gabor, data_format='channels_last', input_shape=(64,64,12))(inputs)\n",
        "  xgb = layers.Conv2D(filters=64,kernel_size=(3,3),padding=\"same\", activation=\"relu\")(gbr)\n",
        "  x1 = layers.MaxPooling2D(pool_size=(2,2),strides=(2,2))(layers.Concatenate()([x,xgb]))\n",
        "  x = layers.BatchNormalization()(x1)\n",
        "  x = LocationEncoding(128,128)(x,inputs)\n",
        "  x = LocationEncoding(128,128)(x,inputs)\n",
        "  x = LocationEncoding(128,128)(x,inputs)\n",
        "  x = layers.MaxPooling2D(pool_size=(2,2),strides=(2,2))(x)\n",
        "  #x = layers.Add()([x,layers.Dense(128)(x1)])\n",
        "  x = LocationEncoding(256,256)(x,inputs)\n",
        "  x = LocationEncoding(256,256)(x,inputs)\n",
        "  x = LocationEncoding(256,256)(x,inputs)\n",
        "  #x = layers.Add()([x,layers.Dense(256)(x1)])\n",
        "  x = LocationEncoding(512,512)(x,inputs)\n",
        "  x = LocationEncoding(512,512)(x,inputs)\n",
        "  x = LocationEncoding(512,512)(x,inputs)\n",
        "  x = layers.GlobalAveragePooling2D()(x)\n",
        "  x = layers.Dense(2048,activation='relu')(x)\n",
        "  x = layers.Dense(2048,activation='relu')(x)\n",
        "  x = layers.Dense(10,activation='softmax')(x)\n",
        "  return tf.keras.Model(inputs = inputs,outputs = x)"
      ]
    },
    {
      "cell_type": "code",
      "execution_count": null,
      "metadata": {
        "id": "B6kGYipbn45n"
      },
      "outputs": [],
      "source": [
        "def LocationModel2():\n",
        "  inputs = layers.Input(shape=(64, 64, 12))\n",
        "  inputs = data_augmentation(inputs)\n",
        "  x = layers.Conv2D(filters=64,kernel_size=(3,3),padding=\"same\", activation=\"relu\")(inputs)\n",
        "  gbr = layers.Conv2D(96, (3, 3), padding='same',kernel_initializer=custom_gabor, data_format='channels_last', input_shape=(64, 64, 12))(inputs)\n",
        "  xgb = layers.Conv2D(filters=64,kernel_size=(3,3),padding=\"same\", activation=\"relu\")(gbr)\n",
        "  #xgb2 = layers.Conv2D(filters=64,kernel_size=(5,5),padding=\"same\", activation=\"relu\")(gbr)\n",
        "  x1 = layers.MaxPooling2D(pool_size=(2,2),strides=(2,2))(layers.Concatenate()([x,xgb]))\n",
        "  x = layers.BatchNormalization()(x1)\n",
        "  x = LocationEncoding(128,128)(x,inputs)\n",
        "  x = LocationEncoding(128,128)(x,inputs)\n",
        "  x = LocationEncoding(128,128)(x,inputs)\n",
        "  x = layers.Add()([x,layers.Dense(128,activation='relu')(x1)])\n",
        "  x1 = LocationEncoding(256,256)(x,inputs)\n",
        "  x = LocationEncoding(256,256)(x1,inputs)\n",
        "  x = LocationEncoding(256,256)(x,inputs)\n",
        "  x = layers.Add()([x,layers.Dense(256,activation='relu')(x1)])\n",
        "  x = LocationEncoding(512,512)(x,inputs)\n",
        "  x = LocationEncoding(512,512)(x,inputs)\n",
        "  x = LocationEncoding(512,512)(x,inputs)\n",
        "  x = layers.Add()([x,layers.Dense(512,activation='relu')(x1)])\n",
        "  x = layers.MaxPooling2D(pool_size=(2,2),strides=(2,2))(x)\n",
        "  x1 = LocationEncoding(512,512)(x,inputs)\n",
        "  x = LocationEncoding(512,512)(x1,inputs)\n",
        "  x = LocationEncoding(512,512)(x,inputs)\n",
        "  x = layers.Add()([x,layers.Dense(512,activation='relu')(x1)])\n",
        "  x = layers.GlobalAveragePooling2D()(x)\n",
        "  x = layers.Dense(2048,activation='relu')(x)\n",
        "  x = layers.Dense(2048,activation='relu')(x)\n",
        "  x = layers.Dense(10,activation='softmax')(x)\n",
        "  return tf.keras.Model(inputs = inputs,outputs = x)"
      ]
    },
    {
      "cell_type": "code",
      "execution_count": null,
      "metadata": {
        "id": "G0EMuNFlXejk"
      },
      "outputs": [],
      "source": [
        "def locationBlock(inputs,size,inp):\n",
        "  x1 = LocationEncoding(size,size)(inputs,inp)\n",
        "  x = LocationEncoding(size,size)(x1,inp)\n",
        "  x = LocationEncoding(size,size)(x,inp)\n",
        "  x = layers.Add()([x,layers.Dense(size)(x1)])\n",
        "  return x"
      ]
    },
    {
      "cell_type": "code",
      "execution_count": null,
      "metadata": {
        "id": "k71--ZonXbs6"
      },
      "outputs": [],
      "source": [
        "def LocationModelRes():\n",
        "  inputs = layers.Input(shape=(64, 64, 12))\n",
        "  x = data_augmentation(inputs)\n",
        "  x = layers.Conv2D(filters=64,kernel_size=(3,3),padding=\"same\", activation=\"relu\")(inputs)\n",
        "  gbr = layers.Conv2D(96, (3, 3), padding='same',kernel_initializer=custom_gabor, data_format='channels_last', input_shape=(64, 64, 12))(inputs)\n",
        "  xgb = layers.Conv2D(filters=64,kernel_size=(3,3),padding=\"same\", activation=\"relu\")(gbr)\n",
        "  #xgb2 = layers.Conv2D(filters=64,kernel_size=(5,5),padding=\"same\", activation=\"relu\")(gbr)\n",
        "  x1 = layers.MaxPooling2D(pool_size=(2,2),strides=(2,2))(layers.Concatenate()([x,xgb]))\n",
        "  x = layers.BatchNormalization()(x1)\n",
        "  out = locationBlock(x,128,inputs)\n",
        "  for i in range(50):\n",
        "    out = locationBlock(out,256,inputs)\n",
        "  out = locationBlock(out,512,inputs)\n",
        "  #x = layers.Add()([x,layers.Dense(512)(x1)])\n",
        "  x = layers.GlobalAveragePooling2D()(x)\n",
        "  x = layers.Dense(256,activation='relu')(x)\n",
        "  x = layers.Dense(256,activation='relu')(x)\n",
        "  x = layers.Dense(10,activation='softmax')(x)\n",
        "  return tf.keras.Model(inputs = inputs,outputs = x)"
      ]
    },
    {
      "cell_type": "code",
      "execution_count": null,
      "metadata": {
        "id": "I925psTJRSPw"
      },
      "outputs": [],
      "source": [
        "from keras import layers\n",
        "import keras.backend as K"
      ]
    },
    {
      "cell_type": "code",
      "execution_count": null,
      "metadata": {
        "colab": {
          "base_uri": "https://localhost:8080/"
        },
        "id": "eSNh1hnlI1Yz",
        "outputId": "4da7e73b-1270-45b2-88f3-8927c267bcef"
      },
      "outputs": [
        {
          "name": "stdout",
          "output_type": "stream",
          "text": [
            "(3, 3, 12, 96)\n",
            "WARNING:tensorflow:Model failed to serialize as JSON. Ignoring... \n",
            "Layer LocationEncoding has arguments ['self', 'filters1', 'filters2']\n",
            "in `__init__` and therefore must override `get_config()`.\n",
            "\n",
            "Example:\n",
            "\n",
            "class CustomLayer(keras.layers.Layer):\n",
            "    def __init__(self, arg1, arg2):\n",
            "        super().__init__()\n",
            "        self.arg1 = arg1\n",
            "        self.arg2 = arg2\n",
            "\n",
            "    def get_config(self):\n",
            "        config = super().get_config()\n",
            "        config.update({\n",
            "            \"arg1\": self.arg1,\n",
            "            \"arg2\": self.arg2,\n",
            "        })\n",
            "        return config\n"
          ]
        },
        {
          "name": "stderr",
          "output_type": "stream",
          "text": [
            "WARNING:tensorflow:Model failed to serialize as JSON. Ignoring... \n",
            "Layer LocationEncoding has arguments ['self', 'filters1', 'filters2']\n",
            "in `__init__` and therefore must override `get_config()`.\n",
            "\n",
            "Example:\n",
            "\n",
            "class CustomLayer(keras.layers.Layer):\n",
            "    def __init__(self, arg1, arg2):\n",
            "        super().__init__()\n",
            "        self.arg1 = arg1\n",
            "        self.arg2 = arg2\n",
            "\n",
            "    def get_config(self):\n",
            "        config = super().get_config()\n",
            "        config.update({\n",
            "            \"arg1\": self.arg1,\n",
            "            \"arg2\": self.arg2,\n",
            "        })\n",
            "        return config\n"
          ]
        },
        {
          "name": "stdout",
          "output_type": "stream",
          "text": [
            "Epoch 1/50\n",
            "59/59 [==============================] - ETA: 0s - loss: 10.1304 - sparse_categorical_accuracy: 0.2643\n",
            "Epoch 1: val_loss improved from inf to 6.83431, saving model to ch3\n",
            "59/59 [==============================] - 137s 2s/step - loss: 10.1304 - sparse_categorical_accuracy: 0.2643 - val_loss: 6.8343 - val_sparse_categorical_accuracy: 0.0940\n",
            "Epoch 2/50\n",
            "59/59 [==============================] - ETA: 0s - loss: 3.0762 - sparse_categorical_accuracy: 0.3227\n",
            "Epoch 2: val_loss improved from 6.83431 to 5.43288, saving model to ch3\n",
            "59/59 [==============================] - 104s 2s/step - loss: 3.0762 - sparse_categorical_accuracy: 0.3227 - val_loss: 5.4329 - val_sparse_categorical_accuracy: 0.1080\n",
            "Epoch 3/50\n",
            "59/59 [==============================] - ETA: 0s - loss: 1.9422 - sparse_categorical_accuracy: 0.3304\n",
            "Epoch 3: val_loss improved from 5.43288 to 2.03538, saving model to ch3\n",
            "59/59 [==============================] - 110s 2s/step - loss: 1.9422 - sparse_categorical_accuracy: 0.3304 - val_loss: 2.0354 - val_sparse_categorical_accuracy: 0.2580\n",
            "Epoch 4/50\n",
            "59/59 [==============================] - ETA: 0s - loss: 1.6976 - sparse_categorical_accuracy: 0.3536\n",
            "Epoch 4: val_loss did not improve from 2.03538\n",
            "59/59 [==============================] - 108s 2s/step - loss: 1.6976 - sparse_categorical_accuracy: 0.3536 - val_loss: 2.1107 - val_sparse_categorical_accuracy: 0.2270\n",
            "Epoch 5/50\n",
            "59/59 [==============================] - ETA: 0s - loss: 1.5935 - sparse_categorical_accuracy: 0.3837\n",
            "Epoch 5: val_loss did not improve from 2.03538\n",
            "59/59 [==============================] - 107s 2s/step - loss: 1.5935 - sparse_categorical_accuracy: 0.3837 - val_loss: 2.2492 - val_sparse_categorical_accuracy: 0.2680\n",
            "Epoch 6/50\n",
            "59/59 [==============================] - ETA: 0s - loss: 1.5258 - sparse_categorical_accuracy: 0.4184\n",
            "Epoch 6: val_loss did not improve from 2.03538\n",
            "59/59 [==============================] - 108s 2s/step - loss: 1.5258 - sparse_categorical_accuracy: 0.4184 - val_loss: 2.4368 - val_sparse_categorical_accuracy: 0.2600\n",
            "Epoch 7/50\n",
            "59/59 [==============================] - ETA: 0s - loss: 1.4678 - sparse_categorical_accuracy: 0.4461\n",
            "Epoch 7: val_loss improved from 2.03538 to 1.79621, saving model to ch3\n",
            "59/59 [==============================] - 109s 2s/step - loss: 1.4678 - sparse_categorical_accuracy: 0.4461 - val_loss: 1.7962 - val_sparse_categorical_accuracy: 0.3560\n",
            "Epoch 8/50\n",
            "59/59 [==============================] - ETA: 0s - loss: 1.3915 - sparse_categorical_accuracy: 0.4941\n",
            "Epoch 8: val_loss did not improve from 1.79621\n",
            "59/59 [==============================] - 108s 2s/step - loss: 1.3915 - sparse_categorical_accuracy: 0.4941 - val_loss: 1.9582 - val_sparse_categorical_accuracy: 0.2880\n",
            "Epoch 9/50\n",
            "59/59 [==============================] - ETA: 0s - loss: 1.3481 - sparse_categorical_accuracy: 0.4979\n",
            "Epoch 9: val_loss improved from 1.79621 to 1.75223, saving model to ch3\n",
            "59/59 [==============================] - 109s 2s/step - loss: 1.3481 - sparse_categorical_accuracy: 0.4979 - val_loss: 1.7522 - val_sparse_categorical_accuracy: 0.3430\n",
            "Epoch 10/50\n",
            "59/59 [==============================] - ETA: 0s - loss: 1.2845 - sparse_categorical_accuracy: 0.5371\n",
            "Epoch 10: val_loss improved from 1.75223 to 1.41536, saving model to ch3\n",
            "59/59 [==============================] - 109s 2s/step - loss: 1.2845 - sparse_categorical_accuracy: 0.5371 - val_loss: 1.4154 - val_sparse_categorical_accuracy: 0.4830\n",
            "Epoch 11/50\n",
            "59/59 [==============================] - ETA: 0s - loss: 1.2206 - sparse_categorical_accuracy: 0.5587\n",
            "Epoch 11: val_loss did not improve from 1.41536\n",
            "59/59 [==============================] - 107s 2s/step - loss: 1.2206 - sparse_categorical_accuracy: 0.5587 - val_loss: 1.9130 - val_sparse_categorical_accuracy: 0.3950\n",
            "Epoch 12/50\n",
            "59/59 [==============================] - ETA: 0s - loss: 1.1548 - sparse_categorical_accuracy: 0.5816\n",
            "Epoch 12: val_loss did not improve from 1.41536\n",
            "59/59 [==============================] - 107s 2s/step - loss: 1.1548 - sparse_categorical_accuracy: 0.5816 - val_loss: 2.0939 - val_sparse_categorical_accuracy: 0.3590\n",
            "Epoch 13/50\n",
            "59/59 [==============================] - ETA: 0s - loss: 1.1373 - sparse_categorical_accuracy: 0.5859\n",
            "Epoch 13: val_loss did not improve from 1.41536\n",
            "59/59 [==============================] - 107s 2s/step - loss: 1.1373 - sparse_categorical_accuracy: 0.5859 - val_loss: 2.3249 - val_sparse_categorical_accuracy: 0.3460\n",
            "Epoch 14/50\n",
            "59/59 [==============================] - ETA: 0s - loss: 1.0775 - sparse_categorical_accuracy: 0.6171\n",
            "Epoch 14: val_loss did not improve from 1.41536\n",
            "59/59 [==============================] - 108s 2s/step - loss: 1.0775 - sparse_categorical_accuracy: 0.6171 - val_loss: 2.1260 - val_sparse_categorical_accuracy: 0.4320\n",
            "Epoch 15/50\n",
            "59/59 [==============================] - ETA: 0s - loss: 0.9897 - sparse_categorical_accuracy: 0.6405\n",
            "Epoch 15: val_loss did not improve from 1.41536\n",
            "59/59 [==============================] - 108s 2s/step - loss: 0.9897 - sparse_categorical_accuracy: 0.6405 - val_loss: 3.1105 - val_sparse_categorical_accuracy: 0.3310\n",
            "Epoch 16/50\n",
            "59/59 [==============================] - ETA: 0s - loss: 0.9601 - sparse_categorical_accuracy: 0.6645\n",
            "Epoch 16: val_loss did not improve from 1.41536\n",
            "59/59 [==============================] - 107s 2s/step - loss: 0.9601 - sparse_categorical_accuracy: 0.6645 - val_loss: 2.3668 - val_sparse_categorical_accuracy: 0.4070\n",
            "Epoch 17/50\n",
            "59/59 [==============================] - ETA: 0s - loss: 0.9531 - sparse_categorical_accuracy: 0.6592\n",
            "Epoch 17: val_loss did not improve from 1.41536\n",
            "59/59 [==============================] - 108s 2s/step - loss: 0.9531 - sparse_categorical_accuracy: 0.6592 - val_loss: 1.8595 - val_sparse_categorical_accuracy: 0.4320\n",
            "Epoch 18/50\n",
            "59/59 [==============================] - ETA: 0s - loss: 0.8617 - sparse_categorical_accuracy: 0.6912\n",
            "Epoch 18: val_loss did not improve from 1.41536\n",
            "59/59 [==============================] - 107s 2s/step - loss: 0.8617 - sparse_categorical_accuracy: 0.6912 - val_loss: 2.9823 - val_sparse_categorical_accuracy: 0.3230\n",
            "Epoch 19/50\n",
            "59/59 [==============================] - ETA: 0s - loss: 0.8288 - sparse_categorical_accuracy: 0.7043\n",
            "Epoch 19: val_loss did not improve from 1.41536\n",
            "59/59 [==============================] - 107s 2s/step - loss: 0.8288 - sparse_categorical_accuracy: 0.7043 - val_loss: 1.5428 - val_sparse_categorical_accuracy: 0.5320\n",
            "Epoch 20/50\n",
            "59/59 [==============================] - ETA: 0s - loss: 0.8045 - sparse_categorical_accuracy: 0.7192\n",
            "Epoch 20: val_loss did not improve from 1.41536\n",
            "59/59 [==============================] - 107s 2s/step - loss: 0.8045 - sparse_categorical_accuracy: 0.7192 - val_loss: 1.4737 - val_sparse_categorical_accuracy: 0.5610\n",
            "Epoch 21/50\n",
            "59/59 [==============================] - ETA: 0s - loss: 0.7142 - sparse_categorical_accuracy: 0.7579\n",
            "Epoch 21: val_loss did not improve from 1.41536\n",
            "59/59 [==============================] - 107s 2s/step - loss: 0.7142 - sparse_categorical_accuracy: 0.7579 - val_loss: 2.0788 - val_sparse_categorical_accuracy: 0.4820\n",
            "Epoch 22/50\n",
            "59/59 [==============================] - ETA: 0s - loss: 0.6918 - sparse_categorical_accuracy: 0.7669\n",
            "Epoch 22: val_loss did not improve from 1.41536\n",
            "59/59 [==============================] - 107s 2s/step - loss: 0.6918 - sparse_categorical_accuracy: 0.7669 - val_loss: 2.0771 - val_sparse_categorical_accuracy: 0.4720\n",
            "Epoch 23/50\n",
            "59/59 [==============================] - ETA: 0s - loss: 0.6361 - sparse_categorical_accuracy: 0.7869\n",
            "Epoch 23: val_loss did not improve from 1.41536\n",
            "59/59 [==============================] - 103s 2s/step - loss: 0.6361 - sparse_categorical_accuracy: 0.7869 - val_loss: 6.6977 - val_sparse_categorical_accuracy: 0.2170\n",
            "Epoch 24/50\n",
            "59/59 [==============================] - ETA: 0s - loss: 0.5911 - sparse_categorical_accuracy: 0.8072\n",
            "Epoch 24: val_loss did not improve from 1.41536\n",
            "59/59 [==============================] - 107s 2s/step - loss: 0.5911 - sparse_categorical_accuracy: 0.8072 - val_loss: 2.7014 - val_sparse_categorical_accuracy: 0.4350\n",
            "Epoch 25/50\n",
            "59/59 [==============================] - ETA: 0s - loss: 0.5791 - sparse_categorical_accuracy: 0.8088\n",
            "Epoch 25: val_loss did not improve from 1.41536\n",
            "59/59 [==============================] - 107s 2s/step - loss: 0.5791 - sparse_categorical_accuracy: 0.8088 - val_loss: 1.8573 - val_sparse_categorical_accuracy: 0.5450\n",
            "Epoch 26/50\n",
            "59/59 [==============================] - ETA: 0s - loss: 0.5109 - sparse_categorical_accuracy: 0.8307\n",
            "Epoch 26: val_loss did not improve from 1.41536\n",
            "59/59 [==============================] - 108s 2s/step - loss: 0.5109 - sparse_categorical_accuracy: 0.8307 - val_loss: 2.0865 - val_sparse_categorical_accuracy: 0.5240\n",
            "Epoch 27/50\n",
            "59/59 [==============================] - ETA: 0s - loss: 0.4687 - sparse_categorical_accuracy: 0.8469\n",
            "Epoch 27: val_loss did not improve from 1.41536\n",
            "59/59 [==============================] - 107s 2s/step - loss: 0.4687 - sparse_categorical_accuracy: 0.8469 - val_loss: 3.3541 - val_sparse_categorical_accuracy: 0.4210\n",
            "Epoch 28/50\n",
            "59/59 [==============================] - ETA: 0s - loss: 0.3952 - sparse_categorical_accuracy: 0.8755\n",
            "Epoch 28: val_loss did not improve from 1.41536\n",
            "59/59 [==============================] - 107s 2s/step - loss: 0.3952 - sparse_categorical_accuracy: 0.8755 - val_loss: 1.8538 - val_sparse_categorical_accuracy: 0.5880\n",
            "Epoch 29/50\n",
            "59/59 [==============================] - ETA: 0s - loss: 0.4103 - sparse_categorical_accuracy: 0.8717\n",
            "Epoch 29: val_loss did not improve from 1.41536\n",
            "59/59 [==============================] - 108s 2s/step - loss: 0.4103 - sparse_categorical_accuracy: 0.8717 - val_loss: 2.2770 - val_sparse_categorical_accuracy: 0.5650\n",
            "Epoch 30/50\n",
            "59/59 [==============================] - ETA: 0s - loss: 0.3383 - sparse_categorical_accuracy: 0.8955\n",
            "Epoch 30: val_loss did not improve from 1.41536\n",
            "59/59 [==============================] - 103s 2s/step - loss: 0.3383 - sparse_categorical_accuracy: 0.8955 - val_loss: 3.4031 - val_sparse_categorical_accuracy: 0.4580\n",
            "Epoch 31/50\n",
            "59/59 [==============================] - ETA: 0s - loss: 0.3514 - sparse_categorical_accuracy: 0.8896\n",
            "Epoch 31: val_loss did not improve from 1.41536\n",
            "59/59 [==============================] - 107s 2s/step - loss: 0.3514 - sparse_categorical_accuracy: 0.8896 - val_loss: 4.0178 - val_sparse_categorical_accuracy: 0.4230\n",
            "Epoch 32/50\n",
            "59/59 [==============================] - ETA: 0s - loss: 0.2944 - sparse_categorical_accuracy: 0.9149\n",
            "Epoch 32: val_loss did not improve from 1.41536\n",
            "59/59 [==============================] - 107s 2s/step - loss: 0.2944 - sparse_categorical_accuracy: 0.9149 - val_loss: 2.8510 - val_sparse_categorical_accuracy: 0.4990\n",
            "Epoch 33/50\n",
            "59/59 [==============================] - ETA: 0s - loss: 0.3145 - sparse_categorical_accuracy: 0.9024\n",
            "Epoch 33: val_loss did not improve from 1.41536\n",
            "59/59 [==============================] - 107s 2s/step - loss: 0.3145 - sparse_categorical_accuracy: 0.9024 - val_loss: 3.2313 - val_sparse_categorical_accuracy: 0.4770\n",
            "Epoch 34/50\n",
            "59/59 [==============================] - ETA: 0s - loss: 0.2778 - sparse_categorical_accuracy: 0.9205\n",
            "Epoch 34: val_loss did not improve from 1.41536\n",
            "59/59 [==============================] - 107s 2s/step - loss: 0.2778 - sparse_categorical_accuracy: 0.9205 - val_loss: 2.1161 - val_sparse_categorical_accuracy: 0.5900\n",
            "Epoch 35/50\n",
            "59/59 [==============================] - ETA: 0s - loss: 0.2356 - sparse_categorical_accuracy: 0.9392\n",
            "Epoch 35: val_loss did not improve from 1.41536\n",
            "59/59 [==============================] - 103s 2s/step - loss: 0.2356 - sparse_categorical_accuracy: 0.9392 - val_loss: 2.8767 - val_sparse_categorical_accuracy: 0.5120\n",
            "Epoch 36/50\n",
            "59/59 [==============================] - ETA: 0s - loss: 0.2166 - sparse_categorical_accuracy: 0.9451\n",
            "Epoch 36: val_loss did not improve from 1.41536\n",
            "59/59 [==============================] - 107s 2s/step - loss: 0.2166 - sparse_categorical_accuracy: 0.9451 - val_loss: 4.1806 - val_sparse_categorical_accuracy: 0.4730\n",
            "Epoch 37/50\n",
            "59/59 [==============================] - ETA: 0s - loss: 0.1902 - sparse_categorical_accuracy: 0.9517\n",
            "Epoch 37: val_loss did not improve from 1.41536\n",
            "59/59 [==============================] - 107s 2s/step - loss: 0.1902 - sparse_categorical_accuracy: 0.9517 - val_loss: 2.8944 - val_sparse_categorical_accuracy: 0.5700\n",
            "Epoch 38/50\n",
            "59/59 [==============================] - ETA: 0s - loss: 0.2748 - sparse_categorical_accuracy: 0.9211\n",
            "Epoch 38: val_loss did not improve from 1.41536\n",
            "59/59 [==============================] - 103s 2s/step - loss: 0.2748 - sparse_categorical_accuracy: 0.9211 - val_loss: 2.9921 - val_sparse_categorical_accuracy: 0.4770\n",
            "Epoch 39/50\n",
            "59/59 [==============================] - ETA: 0s - loss: 0.2150 - sparse_categorical_accuracy: 0.9376\n",
            "Epoch 39: val_loss did not improve from 1.41536\n",
            "59/59 [==============================] - 103s 2s/step - loss: 0.2150 - sparse_categorical_accuracy: 0.9376 - val_loss: 2.2042 - val_sparse_categorical_accuracy: 0.5630\n",
            "Epoch 40/50\n",
            "59/59 [==============================] - ETA: 0s - loss: 0.1654 - sparse_categorical_accuracy: 0.9592\n",
            "Epoch 40: val_loss did not improve from 1.41536\n",
            "59/59 [==============================] - 108s 2s/step - loss: 0.1654 - sparse_categorical_accuracy: 0.9592 - val_loss: 2.8496 - val_sparse_categorical_accuracy: 0.5400\n",
            "Epoch 41/50\n",
            "59/59 [==============================] - ETA: 0s - loss: 0.1497 - sparse_categorical_accuracy: 0.9669\n",
            "Epoch 41: val_loss did not improve from 1.41536\n",
            "59/59 [==============================] - 107s 2s/step - loss: 0.1497 - sparse_categorical_accuracy: 0.9669 - val_loss: 2.4468 - val_sparse_categorical_accuracy: 0.5800\n",
            "Epoch 42/50\n",
            "59/59 [==============================] - ETA: 0s - loss: 0.1423 - sparse_categorical_accuracy: 0.9688\n",
            "Epoch 42: val_loss did not improve from 1.41536\n",
            "59/59 [==============================] - 103s 2s/step - loss: 0.1423 - sparse_categorical_accuracy: 0.9688 - val_loss: 3.4912 - val_sparse_categorical_accuracy: 0.4800\n",
            "Epoch 43/50\n",
            "59/59 [==============================] - ETA: 0s - loss: 0.2374 - sparse_categorical_accuracy: 0.9389\n",
            "Epoch 43: val_loss did not improve from 1.41536\n",
            "59/59 [==============================] - 107s 2s/step - loss: 0.2374 - sparse_categorical_accuracy: 0.9389 - val_loss: 2.4229 - val_sparse_categorical_accuracy: 0.5620\n",
            "Epoch 44/50\n",
            "59/59 [==============================] - ETA: 0s - loss: 0.1471 - sparse_categorical_accuracy: 0.9664\n",
            "Epoch 44: val_loss did not improve from 1.41536\n",
            "59/59 [==============================] - 107s 2s/step - loss: 0.1471 - sparse_categorical_accuracy: 0.9664 - val_loss: 2.8046 - val_sparse_categorical_accuracy: 0.5690\n",
            "Epoch 45/50\n",
            "59/59 [==============================] - ETA: 0s - loss: 0.1404 - sparse_categorical_accuracy: 0.9704\n",
            "Epoch 45: val_loss did not improve from 1.41536\n",
            "59/59 [==============================] - 107s 2s/step - loss: 0.1404 - sparse_categorical_accuracy: 0.9704 - val_loss: 3.9920 - val_sparse_categorical_accuracy: 0.4600\n",
            "Epoch 46/50\n",
            "59/59 [==============================] - ETA: 0s - loss: 0.1120 - sparse_categorical_accuracy: 0.9789\n",
            "Epoch 46: val_loss did not improve from 1.41536\n",
            "59/59 [==============================] - 107s 2s/step - loss: 0.1120 - sparse_categorical_accuracy: 0.9789 - val_loss: 2.7418 - val_sparse_categorical_accuracy: 0.5750\n",
            "Epoch 47/50\n",
            "59/59 [==============================] - ETA: 0s - loss: 0.1400 - sparse_categorical_accuracy: 0.9669\n",
            "Epoch 47: val_loss did not improve from 1.41536\n",
            "59/59 [==============================] - 107s 2s/step - loss: 0.1400 - sparse_categorical_accuracy: 0.9669 - val_loss: 3.5974 - val_sparse_categorical_accuracy: 0.4980\n",
            "Epoch 48/50\n",
            "59/59 [==============================] - ETA: 0s - loss: 0.1257 - sparse_categorical_accuracy: 0.9739\n",
            "Epoch 48: val_loss did not improve from 1.41536\n",
            "59/59 [==============================] - 107s 2s/step - loss: 0.1257 - sparse_categorical_accuracy: 0.9739 - val_loss: 2.7911 - val_sparse_categorical_accuracy: 0.5440\n",
            "Epoch 49/50\n",
            "59/59 [==============================] - ETA: 0s - loss: 0.0953 - sparse_categorical_accuracy: 0.9853\n",
            "Epoch 49: val_loss did not improve from 1.41536\n",
            "59/59 [==============================] - 107s 2s/step - loss: 0.0953 - sparse_categorical_accuracy: 0.9853 - val_loss: 2.8625 - val_sparse_categorical_accuracy: 0.5740\n",
            "Epoch 50/50\n",
            "59/59 [==============================] - ETA: 0s - loss: 0.0984 - sparse_categorical_accuracy: 0.9832\n",
            "Epoch 50: val_loss did not improve from 1.41536\n",
            "59/59 [==============================] - 107s 2s/step - loss: 0.0984 - sparse_categorical_accuracy: 0.9832 - val_loss: 2.4365 - val_sparse_categorical_accuracy: 0.6030\n"
          ]
        }
      ],
      "source": [
        "loc2 = LocationModel2()\n",
        "loc2.compile(\n",
        "    optimizer=tf.keras.optimizers.Adam(0.001),\n",
        "    loss='sparse_categorical_crossentropy',\n",
        "    metrics='sparse_categorical_accuracy'\n",
        ")\n",
        "history = loc2.fit(labeled_train_dataset,validation_data=labeled_val_dataset,epochs=50,callbacks=[checkpoint3,tensorboard_callback])"
      ]
    },
    {
      "cell_type": "code",
      "execution_count": null,
      "metadata": {
        "colab": {
          "base_uri": "https://localhost:8080/"
        },
        "id": "G4_kU3D3Jtec",
        "outputId": "1697046a-a98d-4b7d-8047-fd9a273adc4b"
      },
      "outputs": [
        {
          "name": "stdout",
          "output_type": "stream",
          "text": [
            "(3, 3, 12, 96)\n"
          ]
        },
        {
          "data": {
            "text/plain": [
              "<tensorflow.python.training.tracking.util.CheckpointLoadStatus at 0x7f79207a01d0>"
            ]
          },
          "execution_count": 40,
          "metadata": {},
          "output_type": "execute_result"
        }
      ],
      "source": [
        "locN = LocationModelN()\n",
        "locN.load_weights('/content/drive/MyDrive/locN')"
      ]
    },
    {
      "cell_type": "code",
      "execution_count": null,
      "metadata": {
        "id": "8YxUMhnPSQu-"
      },
      "outputs": [],
      "source": [
        "import tensorflow.keras.layers as layers"
      ]
    },
    {
      "cell_type": "code",
      "execution_count": null,
      "metadata": {
        "id": "ENWNavp22aKK",
        "colab": {
          "base_uri": "https://localhost:8080/"
        },
        "outputId": "3cf2eb1e-3851-4904-d1b8-885d2e8081a4"
      },
      "outputs": [
        {
          "metadata": {
            "tags": null
          },
          "name": "stdout",
          "output_type": "stream",
          "text": [
            "WARNING:tensorflow:Model failed to serialize as JSON. Ignoring... \n",
            "Layer LocationEncoding has arguments ['self', 'filters1', 'filters2']\n",
            "in `__init__` and therefore must override `get_config()`.\n",
            "\n",
            "Example:\n",
            "\n",
            "class CustomLayer(keras.layers.Layer):\n",
            "    def __init__(self, arg1, arg2):\n",
            "        super().__init__()\n",
            "        self.arg1 = arg1\n",
            "        self.arg2 = arg2\n",
            "\n",
            "    def get_config(self):\n",
            "        config = super().get_config()\n",
            "        config.update({\n",
            "            \"arg1\": self.arg1,\n",
            "            \"arg2\": self.arg2,\n",
            "        })\n",
            "        return config\n"
          ]
        },
        {
          "metadata": {
            "tags": null
          },
          "name": "stderr",
          "output_type": "stream",
          "text": [
            "WARNING:tensorflow:Model failed to serialize as JSON. Ignoring... \n",
            "Layer LocationEncoding has arguments ['self', 'filters1', 'filters2']\n",
            "in `__init__` and therefore must override `get_config()`.\n",
            "\n",
            "Example:\n",
            "\n",
            "class CustomLayer(keras.layers.Layer):\n",
            "    def __init__(self, arg1, arg2):\n",
            "        super().__init__()\n",
            "        self.arg1 = arg1\n",
            "        self.arg2 = arg2\n",
            "\n",
            "    def get_config(self):\n",
            "        config = super().get_config()\n",
            "        config.update({\n",
            "            \"arg1\": self.arg1,\n",
            "            \"arg2\": self.arg2,\n",
            "        })\n",
            "        return config\n"
          ]
        },
        {
          "output_type": "stream",
          "name": "stdout",
          "text": [
            "Epoch 1/50\n",
            "1047/1047 [==============================] - ETA: 0s - loss: 3.1107 - sparse_categorical_accuracy: 0.1049\n",
            "Epoch 1: val_loss did not improve from 1.78970\n",
            "1047/1047 [==============================] - 175s 161ms/step - loss: 3.1107 - sparse_categorical_accuracy: 0.1049 - val_loss: 3.6258 - val_sparse_categorical_accuracy: 0.0993\n",
            "Epoch 2/50\n",
            "1047/1047 [==============================] - ETA: 0s - loss: 2.0123 - sparse_categorical_accuracy: 0.2092\n",
            "Epoch 2: val_loss did not improve from 1.78970\n",
            "1047/1047 [==============================] - 171s 163ms/step - loss: 2.0123 - sparse_categorical_accuracy: 0.2092 - val_loss: 2.1131 - val_sparse_categorical_accuracy: 0.1795\n",
            "Epoch 3/50\n",
            "1047/1047 [==============================] - ETA: 0s - loss: 1.9185 - sparse_categorical_accuracy: 0.2496\n",
            "Epoch 3: val_loss did not improve from 1.78970\n",
            "1047/1047 [==============================] - 171s 163ms/step - loss: 1.9185 - sparse_categorical_accuracy: 0.2496 - val_loss: 20.8686 - val_sparse_categorical_accuracy: 0.1025\n",
            "Epoch 4/50\n",
            "1047/1047 [==============================] - ETA: 0s - loss: 1.7966 - sparse_categorical_accuracy: 0.3182\n",
            "Epoch 4: val_loss did not improve from 1.78970\n",
            "1047/1047 [==============================] - 167s 159ms/step - loss: 1.7966 - sparse_categorical_accuracy: 0.3182 - val_loss: 2.3818 - val_sparse_categorical_accuracy: 0.2379\n",
            "Epoch 5/50\n",
            "1047/1047 [==============================] - ETA: 0s - loss: 1.5681 - sparse_categorical_accuracy: 0.4098\n",
            "Epoch 5: val_loss did not improve from 1.78970\n",
            "1047/1047 [==============================] - 171s 163ms/step - loss: 1.5681 - sparse_categorical_accuracy: 0.4098 - val_loss: 2.2375 - val_sparse_categorical_accuracy: 0.2568\n",
            "Epoch 6/50\n",
            "1047/1047 [==============================] - ETA: 0s - loss: 1.3502 - sparse_categorical_accuracy: 0.5272\n",
            "Epoch 6: val_loss did not improve from 1.78970\n",
            "1047/1047 [==============================] - 172s 164ms/step - loss: 1.3502 - sparse_categorical_accuracy: 0.5272 - val_loss: 2.4521 - val_sparse_categorical_accuracy: 0.3085\n",
            "Epoch 7/50\n",
            "1047/1047 [==============================] - ETA: 0s - loss: 1.2053 - sparse_categorical_accuracy: 0.5859\n",
            "Epoch 7: val_loss did not improve from 1.78970\n",
            "1047/1047 [==============================] - 168s 161ms/step - loss: 1.2053 - sparse_categorical_accuracy: 0.5859 - val_loss: 3.0921 - val_sparse_categorical_accuracy: 0.2713\n",
            "Epoch 8/50\n",
            "1047/1047 [==============================] - ETA: 0s - loss: 1.0993 - sparse_categorical_accuracy: 0.6305\n",
            "Epoch 8: val_loss did not improve from 1.78970\n",
            "1047/1047 [==============================] - 172s 164ms/step - loss: 1.0993 - sparse_categorical_accuracy: 0.6305 - val_loss: 11.1253 - val_sparse_categorical_accuracy: 0.1010\n",
            "Epoch 9/50\n",
            "1047/1047 [==============================] - ETA: 0s - loss: 1.0138 - sparse_categorical_accuracy: 0.6666\n",
            "Epoch 9: val_loss improved from 1.78970 to 1.64747, saving model to ch4\n",
            "1047/1047 [==============================] - 174s 166ms/step - loss: 1.0138 - sparse_categorical_accuracy: 0.6666 - val_loss: 1.6475 - val_sparse_categorical_accuracy: 0.5463\n",
            "Epoch 10/50\n",
            "1047/1047 [==============================] - ETA: 0s - loss: 0.9445 - sparse_categorical_accuracy: 0.6919\n",
            "Epoch 10: val_loss did not improve from 1.64747\n",
            "1047/1047 [==============================] - 172s 164ms/step - loss: 0.9445 - sparse_categorical_accuracy: 0.6919 - val_loss: 1.7124 - val_sparse_categorical_accuracy: 0.5817\n",
            "Epoch 11/50\n",
            "1047/1047 [==============================] - ETA: 0s - loss: 0.8840 - sparse_categorical_accuracy: 0.7160\n",
            "Epoch 11: val_loss did not improve from 1.64747\n",
            "1047/1047 [==============================] - 172s 165ms/step - loss: 0.8840 - sparse_categorical_accuracy: 0.7160 - val_loss: 4.4818 - val_sparse_categorical_accuracy: 0.2328\n",
            "Epoch 12/50\n",
            "1047/1047 [==============================] - ETA: 0s - loss: 0.8256 - sparse_categorical_accuracy: 0.7397\n",
            "Epoch 12: val_loss did not improve from 1.64747\n",
            "1047/1047 [==============================] - 173s 165ms/step - loss: 0.8256 - sparse_categorical_accuracy: 0.7397 - val_loss: 2.3348 - val_sparse_categorical_accuracy: 0.3639\n",
            "Epoch 13/50\n",
            "1047/1047 [==============================] - ETA: 0s - loss: 0.7722 - sparse_categorical_accuracy: 0.7589\n",
            "Epoch 13: val_loss did not improve from 1.64747\n",
            "1047/1047 [==============================] - 173s 165ms/step - loss: 0.7722 - sparse_categorical_accuracy: 0.7589 - val_loss: 3.7083 - val_sparse_categorical_accuracy: 0.2959\n",
            "Epoch 14/50\n",
            "1047/1047 [==============================] - ETA: 0s - loss: 0.7297 - sparse_categorical_accuracy: 0.7740\n",
            "Epoch 14: val_loss improved from 1.64747 to 1.29733, saving model to ch4\n",
            "1047/1047 [==============================] - 174s 166ms/step - loss: 0.7297 - sparse_categorical_accuracy: 0.7740 - val_loss: 1.2973 - val_sparse_categorical_accuracy: 0.6098\n",
            "Epoch 15/50\n",
            "1047/1047 [==============================] - ETA: 0s - loss: 0.6882 - sparse_categorical_accuracy: 0.7887\n",
            "Epoch 15: val_loss improved from 1.29733 to 1.27655, saving model to ch4\n",
            "1047/1047 [==============================] - 171s 163ms/step - loss: 0.6882 - sparse_categorical_accuracy: 0.7887 - val_loss: 1.2765 - val_sparse_categorical_accuracy: 0.6602\n",
            "Epoch 16/50\n",
            "1047/1047 [==============================] - ETA: 0s - loss: 0.6391 - sparse_categorical_accuracy: 0.8084\n",
            "Epoch 16: val_loss did not improve from 1.27655\n",
            "1047/1047 [==============================] - 172s 165ms/step - loss: 0.6391 - sparse_categorical_accuracy: 0.8084 - val_loss: 1.8510 - val_sparse_categorical_accuracy: 0.4535\n",
            "Epoch 17/50\n",
            "1047/1047 [==============================] - ETA: 0s - loss: 0.6018 - sparse_categorical_accuracy: 0.8219\n",
            "Epoch 17: val_loss did not improve from 1.27655\n",
            "1047/1047 [==============================] - 169s 162ms/step - loss: 0.6018 - sparse_categorical_accuracy: 0.8219 - val_loss: 2.6920 - val_sparse_categorical_accuracy: 0.4755\n",
            "Epoch 18/50\n",
            "1047/1047 [==============================] - ETA: 0s - loss: 0.5686 - sparse_categorical_accuracy: 0.8339\n",
            "Epoch 18: val_loss did not improve from 1.27655\n",
            "1047/1047 [==============================] - 172s 165ms/step - loss: 0.5686 - sparse_categorical_accuracy: 0.8339 - val_loss: 1.8641 - val_sparse_categorical_accuracy: 0.5596\n",
            "Epoch 19/50\n",
            "1047/1047 [==============================] - ETA: 0s - loss: 0.5244 - sparse_categorical_accuracy: 0.8493\n",
            "Epoch 19: val_loss did not improve from 1.27655\n",
            "1047/1047 [==============================] - 172s 165ms/step - loss: 0.5244 - sparse_categorical_accuracy: 0.8493 - val_loss: 9.1813 - val_sparse_categorical_accuracy: 0.1605\n",
            "Epoch 20/50\n",
            "1047/1047 [==============================] - ETA: 0s - loss: 0.4967 - sparse_categorical_accuracy: 0.8593\n",
            "Epoch 20: val_loss did not improve from 1.27655\n",
            "1047/1047 [==============================] - 173s 165ms/step - loss: 0.4967 - sparse_categorical_accuracy: 0.8593 - val_loss: 1.7481 - val_sparse_categorical_accuracy: 0.5547\n",
            "Epoch 21/50\n",
            "1047/1047 [==============================] - ETA: 0s - loss: 0.4623 - sparse_categorical_accuracy: 0.8716\n",
            "Epoch 21: val_loss did not improve from 1.27655\n",
            "1047/1047 [==============================] - 169s 162ms/step - loss: 0.4623 - sparse_categorical_accuracy: 0.8716 - val_loss: 1.6333 - val_sparse_categorical_accuracy: 0.6133\n",
            "Epoch 22/50\n",
            "1047/1047 [==============================] - ETA: 0s - loss: 0.4478 - sparse_categorical_accuracy: 0.8801\n",
            "Epoch 22: val_loss did not improve from 1.27655\n",
            "1047/1047 [==============================] - 172s 165ms/step - loss: 0.4478 - sparse_categorical_accuracy: 0.8801 - val_loss: 1.2965 - val_sparse_categorical_accuracy: 0.6871\n",
            "Epoch 23/50\n",
            "1047/1047 [==============================] - ETA: 0s - loss: 0.4167 - sparse_categorical_accuracy: 0.8874\n",
            "Epoch 23: val_loss improved from 1.27655 to 1.15394, saving model to ch4\n",
            "1047/1047 [==============================] - 174s 166ms/step - loss: 0.4167 - sparse_categorical_accuracy: 0.8874 - val_loss: 1.1539 - val_sparse_categorical_accuracy: 0.6442\n",
            "Epoch 24/50\n",
            "1047/1047 [==============================] - ETA: 0s - loss: 0.4022 - sparse_categorical_accuracy: 0.8941\n",
            "Epoch 24: val_loss did not improve from 1.15394\n",
            "1047/1047 [==============================] - 172s 165ms/step - loss: 0.4022 - sparse_categorical_accuracy: 0.8941 - val_loss: 1.2141 - val_sparse_categorical_accuracy: 0.6992\n",
            "Epoch 25/50\n",
            "1047/1047 [==============================] - ETA: 0s - loss: 0.3781 - sparse_categorical_accuracy: 0.9029\n",
            "Epoch 25: val_loss did not improve from 1.15394\n",
            "1047/1047 [==============================] - 172s 165ms/step - loss: 0.3781 - sparse_categorical_accuracy: 0.9029 - val_loss: 2.7780 - val_sparse_categorical_accuracy: 0.5299\n",
            "Epoch 26/50\n",
            "1047/1047 [==============================] - ETA: 0s - loss: 0.3627 - sparse_categorical_accuracy: 0.9089\n",
            "Epoch 26: val_loss did not improve from 1.15394\n",
            "1047/1047 [==============================] - 172s 165ms/step - loss: 0.3627 - sparse_categorical_accuracy: 0.9089 - val_loss: 1.4762 - val_sparse_categorical_accuracy: 0.6634\n",
            "Epoch 27/50\n",
            "1047/1047 [==============================] - ETA: 0s - loss: 0.3478 - sparse_categorical_accuracy: 0.9153\n",
            "Epoch 27: val_loss did not improve from 1.15394\n",
            "1047/1047 [==============================] - 172s 165ms/step - loss: 0.3478 - sparse_categorical_accuracy: 0.9153 - val_loss: 3.1914 - val_sparse_categorical_accuracy: 0.5181\n",
            "Epoch 28/50\n",
            "1047/1047 [==============================] - ETA: 0s - loss: 0.3394 - sparse_categorical_accuracy: 0.9151\n",
            "Epoch 28: val_loss did not improve from 1.15394\n",
            "1047/1047 [==============================] - 172s 164ms/step - loss: 0.3394 - sparse_categorical_accuracy: 0.9151 - val_loss: 1.3238 - val_sparse_categorical_accuracy: 0.6886\n",
            "Epoch 29/50\n",
            "1047/1047 [==============================] - ETA: 0s - loss: 0.3248 - sparse_categorical_accuracy: 0.9232\n",
            "Epoch 29: val_loss did not improve from 1.15394\n",
            "1047/1047 [==============================] - 172s 164ms/step - loss: 0.3248 - sparse_categorical_accuracy: 0.9232 - val_loss: 3.8219 - val_sparse_categorical_accuracy: 0.3891\n",
            "Epoch 30/50\n",
            "1047/1047 [==============================] - ETA: 0s - loss: 0.3097 - sparse_categorical_accuracy: 0.9281\n",
            "Epoch 30: val_loss did not improve from 1.15394\n",
            "1047/1047 [==============================] - 172s 164ms/step - loss: 0.3097 - sparse_categorical_accuracy: 0.9281 - val_loss: 2.6747 - val_sparse_categorical_accuracy: 0.5387\n",
            "Epoch 31/50\n",
            "1047/1047 [==============================] - ETA: 0s - loss: 0.3024 - sparse_categorical_accuracy: 0.9313\n",
            "Epoch 31: val_loss did not improve from 1.15394\n",
            "1047/1047 [==============================] - 172s 164ms/step - loss: 0.3024 - sparse_categorical_accuracy: 0.9313 - val_loss: 3.2581 - val_sparse_categorical_accuracy: 0.4844\n",
            "Epoch 32/50\n",
            "1047/1047 [==============================] - ETA: 0s - loss: 0.2947 - sparse_categorical_accuracy: 0.9348\n",
            "Epoch 32: val_loss did not improve from 1.15394\n",
            "1047/1047 [==============================] - 172s 164ms/step - loss: 0.2947 - sparse_categorical_accuracy: 0.9348 - val_loss: 1.4517 - val_sparse_categorical_accuracy: 0.7005\n",
            "Epoch 33/50\n",
            "1047/1047 [==============================] - ETA: 0s - loss: 0.2901 - sparse_categorical_accuracy: 0.9358\n",
            "Epoch 33: val_loss did not improve from 1.15394\n",
            "1047/1047 [==============================] - 172s 164ms/step - loss: 0.2901 - sparse_categorical_accuracy: 0.9358 - val_loss: 2.3316 - val_sparse_categorical_accuracy: 0.5327\n",
            "Epoch 34/50\n",
            "1047/1047 [==============================] - ETA: 0s - loss: 0.2834 - sparse_categorical_accuracy: 0.9388\n",
            "Epoch 34: val_loss did not improve from 1.15394\n",
            "1047/1047 [==============================] - 172s 164ms/step - loss: 0.2834 - sparse_categorical_accuracy: 0.9388 - val_loss: 10.0619 - val_sparse_categorical_accuracy: 0.3666\n",
            "Epoch 35/50\n",
            "1047/1047 [==============================] - ETA: 0s - loss: 0.2708 - sparse_categorical_accuracy: 0.9415\n",
            "Epoch 35: val_loss did not improve from 1.15394\n",
            "1047/1047 [==============================] - 172s 164ms/step - loss: 0.2708 - sparse_categorical_accuracy: 0.9415 - val_loss: 1.7083 - val_sparse_categorical_accuracy: 0.6965\n",
            "Epoch 36/50\n",
            "1047/1047 [==============================] - ETA: 0s - loss: 0.2699 - sparse_categorical_accuracy: 0.9444\n",
            "Epoch 36: val_loss did not improve from 1.15394\n",
            "1047/1047 [==============================] - 172s 164ms/step - loss: 0.2699 - sparse_categorical_accuracy: 0.9444 - val_loss: 2.8094 - val_sparse_categorical_accuracy: 0.4806\n",
            "Epoch 37/50\n",
            "1047/1047 [==============================] - ETA: 0s - loss: 0.2552 - sparse_categorical_accuracy: 0.9496\n",
            "Epoch 37: val_loss did not improve from 1.15394\n",
            "1047/1047 [==============================] - 172s 164ms/step - loss: 0.2552 - sparse_categorical_accuracy: 0.9496 - val_loss: 1.4961 - val_sparse_categorical_accuracy: 0.7104\n",
            "Epoch 38/50\n",
            "1047/1047 [==============================] - ETA: 0s - loss: 0.2507 - sparse_categorical_accuracy: 0.9502\n",
            "Epoch 38: val_loss did not improve from 1.15394\n",
            "1047/1047 [==============================] - 172s 164ms/step - loss: 0.2507 - sparse_categorical_accuracy: 0.9502 - val_loss: 2.0098 - val_sparse_categorical_accuracy: 0.6159\n",
            "Epoch 39/50\n",
            "1047/1047 [==============================] - ETA: 0s - loss: 0.2513 - sparse_categorical_accuracy: 0.9489\n",
            "Epoch 39: val_loss did not improve from 1.15394\n",
            "1047/1047 [==============================] - 172s 164ms/step - loss: 0.2513 - sparse_categorical_accuracy: 0.9489 - val_loss: 1.8346 - val_sparse_categorical_accuracy: 0.6799\n",
            "Epoch 40/50\n",
            "1047/1047 [==============================] - ETA: 0s - loss: 0.2435 - sparse_categorical_accuracy: 0.9525\n",
            "Epoch 40: val_loss did not improve from 1.15394\n",
            "1047/1047 [==============================] - 172s 164ms/step - loss: 0.2435 - sparse_categorical_accuracy: 0.9525 - val_loss: 6.2376 - val_sparse_categorical_accuracy: 0.2965\n",
            "Epoch 41/50\n",
            "1047/1047 [==============================] - ETA: 0s - loss: 0.2472 - sparse_categorical_accuracy: 0.9507\n",
            "Epoch 41: val_loss did not improve from 1.15394\n",
            "1047/1047 [==============================] - 172s 164ms/step - loss: 0.2472 - sparse_categorical_accuracy: 0.9507 - val_loss: 5.4496 - val_sparse_categorical_accuracy: 0.3521\n",
            "Epoch 42/50\n",
            "1047/1047 [==============================] - ETA: 0s - loss: 0.2350 - sparse_categorical_accuracy: 0.9546\n",
            "Epoch 42: val_loss did not improve from 1.15394\n",
            "1047/1047 [==============================] - 172s 164ms/step - loss: 0.2350 - sparse_categorical_accuracy: 0.9546 - val_loss: 1.4597 - val_sparse_categorical_accuracy: 0.6865\n",
            "Epoch 43/50\n",
            "1047/1047 [==============================] - ETA: 0s - loss: 0.2408 - sparse_categorical_accuracy: 0.9538\n",
            "Epoch 43: val_loss did not improve from 1.15394\n",
            "1047/1047 [==============================] - 168s 161ms/step - loss: 0.2408 - sparse_categorical_accuracy: 0.9538 - val_loss: 2.6997 - val_sparse_categorical_accuracy: 0.5078\n",
            "Epoch 44/50\n",
            "1047/1047 [==============================] - ETA: 0s - loss: 0.2343 - sparse_categorical_accuracy: 0.9565\n",
            "Epoch 44: val_loss did not improve from 1.15394\n",
            "1047/1047 [==============================] - 172s 164ms/step - loss: 0.2343 - sparse_categorical_accuracy: 0.9565 - val_loss: 3.6170 - val_sparse_categorical_accuracy: 0.5022\n",
            "Epoch 45/50\n",
            "1047/1047 [==============================] - ETA: 0s - loss: 0.2279 - sparse_categorical_accuracy: 0.9577\n",
            "Epoch 45: val_loss did not improve from 1.15394\n",
            "1047/1047 [==============================] - 172s 164ms/step - loss: 0.2279 - sparse_categorical_accuracy: 0.9577 - val_loss: 28.1897 - val_sparse_categorical_accuracy: 0.1147\n",
            "Epoch 46/50\n",
            "1047/1047 [==============================] - ETA: 0s - loss: 0.2330 - sparse_categorical_accuracy: 0.9557\n",
            "Epoch 46: val_loss did not improve from 1.15394\n",
            "1047/1047 [==============================] - 172s 164ms/step - loss: 0.2330 - sparse_categorical_accuracy: 0.9557 - val_loss: 9.9380 - val_sparse_categorical_accuracy: 0.2794\n",
            "Epoch 47/50\n",
            "1047/1047 [==============================] - ETA: 0s - loss: 0.2229 - sparse_categorical_accuracy: 0.9600\n",
            "Epoch 47: val_loss did not improve from 1.15394\n",
            "1047/1047 [==============================] - 172s 164ms/step - loss: 0.2229 - sparse_categorical_accuracy: 0.9600 - val_loss: 1.7337 - val_sparse_categorical_accuracy: 0.7016\n",
            "Epoch 48/50\n",
            "1047/1047 [==============================] - ETA: 0s - loss: 0.2215 - sparse_categorical_accuracy: 0.9616\n",
            "Epoch 48: val_loss did not improve from 1.15394\n",
            "1047/1047 [==============================] - 172s 164ms/step - loss: 0.2215 - sparse_categorical_accuracy: 0.9616 - val_loss: 2.3625 - val_sparse_categorical_accuracy: 0.6063\n",
            "Epoch 49/50\n",
            "1047/1047 [==============================] - ETA: 0s - loss: 0.2240 - sparse_categorical_accuracy: 0.9605\n",
            "Epoch 49: val_loss did not improve from 1.15394\n",
            "1047/1047 [==============================] - 172s 165ms/step - loss: 0.2240 - sparse_categorical_accuracy: 0.9605 - val_loss: 15.1833 - val_sparse_categorical_accuracy: 0.2162\n",
            "Epoch 50/50\n",
            "1047/1047 [==============================] - ETA: 0s - loss: 0.2158 - sparse_categorical_accuracy: 0.9613\n",
            "Epoch 50: val_loss did not improve from 1.15394\n",
            "1047/1047 [==============================] - 172s 164ms/step - loss: 0.2158 - sparse_categorical_accuracy: 0.9613 - val_loss: 1.5792 - val_sparse_categorical_accuracy: 0.6975\n"
          ]
        }
      ],
      "source": [
        "import cv2\n",
        "locN2 = LocationModelN()\n",
        "locN2.compile(\n",
        "    optimizer=tf.keras.optimizers.Adam(0.001),\n",
        "    loss='sparse_categorical_crossentropy',\n",
        "    metrics='sparse_categorical_accuracy'\n",
        ")\n",
        "#locN.load_weights('ch4')\n",
        "history = locN2.fit(x_train, y_train,validation_data=(x_val,y_val),epochs=50,callbacks=[checkpoint4,tensorboard_callback])"
      ]
    },
    {
      "cell_type": "code",
      "source": [
        "locN2.load_weights('/content/drive/MyDrive/locationModelN2')"
      ],
      "metadata": {
        "id": "im0IRiuHRymg",
        "colab": {
          "base_uri": "https://localhost:8080/",
          "height": 445
        },
        "outputId": "a82aa0f4-4a92-48ff-c876-214770eea0f6"
      },
      "execution_count": null,
      "outputs": [
        {
          "output_type": "error",
          "ename": "ValueError",
          "evalue": "ignored",
          "traceback": [
            "\u001b[0;31m---------------------------------------------------------------------------\u001b[0m",
            "\u001b[0;31mValueError\u001b[0m                                Traceback (most recent call last)",
            "\u001b[0;32m<ipython-input-14-c5c95ff3ce06>\u001b[0m in \u001b[0;36m<module>\u001b[0;34m()\u001b[0m\n\u001b[0;32m----> 1\u001b[0;31m \u001b[0mlocN2\u001b[0m\u001b[0;34m.\u001b[0m\u001b[0mload_weights\u001b[0m\u001b[0;34m(\u001b[0m\u001b[0;34m'/content/drive/MyDrive/locationModelN2'\u001b[0m\u001b[0;34m)\u001b[0m\u001b[0;34m\u001b[0m\u001b[0;34m\u001b[0m\u001b[0m\n\u001b[0m",
            "\u001b[0;32m/usr/local/lib/python3.7/dist-packages/keras/utils/traceback_utils.py\u001b[0m in \u001b[0;36merror_handler\u001b[0;34m(*args, **kwargs)\u001b[0m\n\u001b[1;32m     65\u001b[0m     \u001b[0;32mexcept\u001b[0m \u001b[0mException\u001b[0m \u001b[0;32mas\u001b[0m \u001b[0me\u001b[0m\u001b[0;34m:\u001b[0m  \u001b[0;31m# pylint: disable=broad-except\u001b[0m\u001b[0;34m\u001b[0m\u001b[0;34m\u001b[0m\u001b[0m\n\u001b[1;32m     66\u001b[0m       \u001b[0mfiltered_tb\u001b[0m \u001b[0;34m=\u001b[0m \u001b[0m_process_traceback_frames\u001b[0m\u001b[0;34m(\u001b[0m\u001b[0me\u001b[0m\u001b[0;34m.\u001b[0m\u001b[0m__traceback__\u001b[0m\u001b[0;34m)\u001b[0m\u001b[0;34m\u001b[0m\u001b[0;34m\u001b[0m\u001b[0m\n\u001b[0;32m---> 67\u001b[0;31m       \u001b[0;32mraise\u001b[0m \u001b[0me\u001b[0m\u001b[0;34m.\u001b[0m\u001b[0mwith_traceback\u001b[0m\u001b[0;34m(\u001b[0m\u001b[0mfiltered_tb\u001b[0m\u001b[0;34m)\u001b[0m \u001b[0;32mfrom\u001b[0m \u001b[0;32mNone\u001b[0m\u001b[0;34m\u001b[0m\u001b[0;34m\u001b[0m\u001b[0m\n\u001b[0m\u001b[1;32m     68\u001b[0m     \u001b[0;32mfinally\u001b[0m\u001b[0;34m:\u001b[0m\u001b[0;34m\u001b[0m\u001b[0;34m\u001b[0m\u001b[0m\n\u001b[1;32m     69\u001b[0m       \u001b[0;32mdel\u001b[0m \u001b[0mfiltered_tb\u001b[0m\u001b[0;34m\u001b[0m\u001b[0;34m\u001b[0m\u001b[0m\n",
            "\u001b[0;32m/usr/local/lib/python3.7/dist-packages/tensorflow/python/framework/tensor_shape.py\u001b[0m in \u001b[0;36massert_is_compatible_with\u001b[0;34m(self, other)\u001b[0m\n\u001b[1;32m   1165\u001b[0m     \"\"\"\n\u001b[1;32m   1166\u001b[0m     \u001b[0;32mif\u001b[0m \u001b[0;32mnot\u001b[0m \u001b[0mself\u001b[0m\u001b[0;34m.\u001b[0m\u001b[0mis_compatible_with\u001b[0m\u001b[0;34m(\u001b[0m\u001b[0mother\u001b[0m\u001b[0;34m)\u001b[0m\u001b[0;34m:\u001b[0m\u001b[0;34m\u001b[0m\u001b[0;34m\u001b[0m\u001b[0m\n\u001b[0;32m-> 1167\u001b[0;31m       \u001b[0;32mraise\u001b[0m \u001b[0mValueError\u001b[0m\u001b[0;34m(\u001b[0m\u001b[0;34m\"Shapes %s and %s are incompatible\"\u001b[0m \u001b[0;34m%\u001b[0m \u001b[0;34m(\u001b[0m\u001b[0mself\u001b[0m\u001b[0;34m,\u001b[0m \u001b[0mother\u001b[0m\u001b[0;34m)\u001b[0m\u001b[0;34m)\u001b[0m\u001b[0;34m\u001b[0m\u001b[0;34m\u001b[0m\u001b[0m\n\u001b[0m\u001b[1;32m   1168\u001b[0m \u001b[0;34m\u001b[0m\u001b[0m\n\u001b[1;32m   1169\u001b[0m   \u001b[0;32mdef\u001b[0m \u001b[0mmost_specific_compatible_shape\u001b[0m\u001b[0;34m(\u001b[0m\u001b[0mself\u001b[0m\u001b[0;34m,\u001b[0m \u001b[0mother\u001b[0m\u001b[0;34m)\u001b[0m\u001b[0;34m:\u001b[0m\u001b[0;34m\u001b[0m\u001b[0;34m\u001b[0m\u001b[0m\n",
            "\u001b[0;31mValueError\u001b[0m: Shapes (3, 3, 3, 64) and (3, 3, 12, 64) are incompatible"
          ]
        }
      ]
    },
    {
      "cell_type": "code",
      "source": [
        "import cv2\n",
        "locN2 = LocationModelN()\n",
        "locN2.compile(\n",
        "    optimizer=tf.keras.optimizers.Adam(0.001),\n",
        "    loss='sparse_categorical_crossentropy',\n",
        "    metrics='sparse_categorical_accuracy'\n",
        ")\n",
        "#locN.load_weights('ch4')\n",
        "#history = locN.fit(labeled_train_dataset,validation_data=labeled_val_dataset,epochs=50,callbacks=[checkpoint4,tensorboard_callback])\n",
        "history = locN2.fit(x_train, y_train,validation_data=(x_val,y_val),epochs=50,callbacks=[checkpoint3,tensorboard_callback])"
      ],
      "metadata": {
        "colab": {
          "base_uri": "https://localhost:8080/"
        },
        "id": "U2zd2z29N9LW",
        "outputId": "0a8b5d9f-a773-4578-96c3-67c313b13efe"
      },
      "execution_count": null,
      "outputs": [
        {
          "output_type": "stream",
          "name": "stdout",
          "text": [
            "WARNING:tensorflow:Model failed to serialize as JSON. Ignoring... \n",
            "Layer LocationEncoding has arguments ['self', 'filters1', 'filters2']\n",
            "in `__init__` and therefore must override `get_config()`.\n",
            "\n",
            "Example:\n",
            "\n",
            "class CustomLayer(keras.layers.Layer):\n",
            "    def __init__(self, arg1, arg2):\n",
            "        super().__init__()\n",
            "        self.arg1 = arg1\n",
            "        self.arg2 = arg2\n",
            "\n",
            "    def get_config(self):\n",
            "        config = super().get_config()\n",
            "        config.update({\n",
            "            \"arg1\": self.arg1,\n",
            "            \"arg2\": self.arg2,\n",
            "        })\n",
            "        return config\n"
          ]
        },
        {
          "output_type": "stream",
          "name": "stderr",
          "text": [
            "WARNING:tensorflow:Model failed to serialize as JSON. Ignoring... \n",
            "Layer LocationEncoding has arguments ['self', 'filters1', 'filters2']\n",
            "in `__init__` and therefore must override `get_config()`.\n",
            "\n",
            "Example:\n",
            "\n",
            "class CustomLayer(keras.layers.Layer):\n",
            "    def __init__(self, arg1, arg2):\n",
            "        super().__init__()\n",
            "        self.arg1 = arg1\n",
            "        self.arg2 = arg2\n",
            "\n",
            "    def get_config(self):\n",
            "        config = super().get_config()\n",
            "        config.update({\n",
            "            \"arg1\": self.arg1,\n",
            "            \"arg2\": self.arg2,\n",
            "        })\n",
            "        return config\n"
          ]
        },
        {
          "output_type": "stream",
          "name": "stdout",
          "text": [
            "Epoch 1/50\n",
            "1047/1047 [==============================] - ETA: 0s - loss: 3.2575 - sparse_categorical_accuracy: 0.1000\n",
            "Epoch 1: val_loss did not improve from 0.99269\n",
            "1047/1047 [==============================] - 354s 316ms/step - loss: 3.2575 - sparse_categorical_accuracy: 0.1000 - val_loss: 2.4703 - val_sparse_categorical_accuracy: 0.0984\n",
            "Epoch 2/50\n",
            "1047/1047 [==============================] - ETA: 0s - loss: 2.2364 - sparse_categorical_accuracy: 0.1796\n",
            "Epoch 2: val_loss did not improve from 0.99269\n",
            "1047/1047 [==============================] - 329s 314ms/step - loss: 2.2364 - sparse_categorical_accuracy: 0.1796 - val_loss: 2.7921 - val_sparse_categorical_accuracy: 0.1094\n",
            "Epoch 3/50\n",
            "1047/1047 [==============================] - ETA: 0s - loss: 2.0546 - sparse_categorical_accuracy: 0.2377\n",
            "Epoch 3: val_loss did not improve from 0.99269\n",
            "1047/1047 [==============================] - 329s 314ms/step - loss: 2.0546 - sparse_categorical_accuracy: 0.2377 - val_loss: 4.7576 - val_sparse_categorical_accuracy: 0.1458\n",
            "Epoch 4/50\n",
            "1047/1047 [==============================] - ETA: 0s - loss: 1.9647 - sparse_categorical_accuracy: 0.2707\n",
            "Epoch 4: val_loss did not improve from 0.99269\n",
            "1047/1047 [==============================] - 329s 314ms/step - loss: 1.9647 - sparse_categorical_accuracy: 0.2707 - val_loss: 2.3541 - val_sparse_categorical_accuracy: 0.1884\n",
            "Epoch 5/50\n",
            "1047/1047 [==============================] - ETA: 0s - loss: 1.8690 - sparse_categorical_accuracy: 0.3045\n",
            "Epoch 5: val_loss did not improve from 0.99269\n",
            "1047/1047 [==============================] - 329s 314ms/step - loss: 1.8690 - sparse_categorical_accuracy: 0.3045 - val_loss: 3.5724 - val_sparse_categorical_accuracy: 0.1393\n",
            "Epoch 6/50\n",
            "1047/1047 [==============================] - ETA: 0s - loss: 1.8260 - sparse_categorical_accuracy: 0.3249\n",
            "Epoch 6: val_loss did not improve from 0.99269\n",
            "1047/1047 [==============================] - 328s 314ms/step - loss: 1.8260 - sparse_categorical_accuracy: 0.3249 - val_loss: 1.8762 - val_sparse_categorical_accuracy: 0.3099\n",
            "Epoch 7/50\n",
            "1047/1047 [==============================] - ETA: 0s - loss: 1.7965 - sparse_categorical_accuracy: 0.3402\n",
            "Epoch 7: val_loss did not improve from 0.99269\n",
            "1047/1047 [==============================] - 321s 307ms/step - loss: 1.7965 - sparse_categorical_accuracy: 0.3402 - val_loss: 3.7446 - val_sparse_categorical_accuracy: 0.1100\n",
            "Epoch 8/50\n",
            "1047/1047 [==============================] - ETA: 0s - loss: 1.7660 - sparse_categorical_accuracy: 0.3566\n",
            "Epoch 8: val_loss did not improve from 0.99269\n",
            "1047/1047 [==============================] - 329s 314ms/step - loss: 1.7660 - sparse_categorical_accuracy: 0.3566 - val_loss: 7.2212 - val_sparse_categorical_accuracy: 0.1551\n",
            "Epoch 9/50\n",
            "1047/1047 [==============================] - ETA: 0s - loss: 1.7288 - sparse_categorical_accuracy: 0.3721\n",
            "Epoch 9: val_loss did not improve from 0.99269\n",
            "1047/1047 [==============================] - 321s 307ms/step - loss: 1.7288 - sparse_categorical_accuracy: 0.3721 - val_loss: 2.8786 - val_sparse_categorical_accuracy: 0.2126\n",
            "Epoch 10/50\n",
            "1047/1047 [==============================] - ETA: 0s - loss: 1.6893 - sparse_categorical_accuracy: 0.3929\n",
            "Epoch 10: val_loss did not improve from 0.99269\n",
            "1047/1047 [==============================] - 329s 314ms/step - loss: 1.6893 - sparse_categorical_accuracy: 0.3929 - val_loss: 2.9886 - val_sparse_categorical_accuracy: 0.2204\n",
            "Epoch 11/50\n",
            "1047/1047 [==============================] - ETA: 0s - loss: 1.6463 - sparse_categorical_accuracy: 0.4095\n",
            "Epoch 11: val_loss did not improve from 0.99269\n",
            "1047/1047 [==============================] - 329s 314ms/step - loss: 1.6463 - sparse_categorical_accuracy: 0.4095 - val_loss: 4.0188 - val_sparse_categorical_accuracy: 0.2030\n",
            "Epoch 12/50\n",
            "1047/1047 [==============================] - ETA: 0s - loss: 1.6142 - sparse_categorical_accuracy: 0.4286\n",
            "Epoch 12: val_loss did not improve from 0.99269\n",
            "1047/1047 [==============================] - 321s 307ms/step - loss: 1.6142 - sparse_categorical_accuracy: 0.4286 - val_loss: 1.5609 - val_sparse_categorical_accuracy: 0.4352\n",
            "Epoch 13/50\n",
            "1047/1047 [==============================] - ETA: 0s - loss: 1.5858 - sparse_categorical_accuracy: 0.4439\n",
            "Epoch 13: val_loss did not improve from 0.99269\n",
            "1047/1047 [==============================] - 328s 314ms/step - loss: 1.5858 - sparse_categorical_accuracy: 0.4439 - val_loss: 3.1130 - val_sparse_categorical_accuracy: 0.2101\n",
            "Epoch 14/50\n",
            "1047/1047 [==============================] - ETA: 0s - loss: 1.5564 - sparse_categorical_accuracy: 0.4541\n",
            "Epoch 14: val_loss did not improve from 0.99269\n",
            "1047/1047 [==============================] - 321s 307ms/step - loss: 1.5564 - sparse_categorical_accuracy: 0.4541 - val_loss: 2.2797 - val_sparse_categorical_accuracy: 0.2874\n",
            "Epoch 15/50\n",
            "1047/1047 [==============================] - ETA: 0s - loss: 1.5194 - sparse_categorical_accuracy: 0.4684\n",
            "Epoch 15: val_loss did not improve from 0.99269\n",
            "1047/1047 [==============================] - 328s 314ms/step - loss: 1.5194 - sparse_categorical_accuracy: 0.4684 - val_loss: 4.1374 - val_sparse_categorical_accuracy: 0.1894\n",
            "Epoch 16/50\n",
            "1047/1047 [==============================] - ETA: 0s - loss: 1.4898 - sparse_categorical_accuracy: 0.4777\n",
            "Epoch 16: val_loss did not improve from 0.99269\n",
            "1047/1047 [==============================] - 328s 314ms/step - loss: 1.4898 - sparse_categorical_accuracy: 0.4777 - val_loss: 4.3231 - val_sparse_categorical_accuracy: 0.2324\n",
            "Epoch 17/50\n",
            "1047/1047 [==============================] - ETA: 0s - loss: 1.4696 - sparse_categorical_accuracy: 0.4864\n",
            "Epoch 17: val_loss did not improve from 0.99269\n",
            "1047/1047 [==============================] - 328s 314ms/step - loss: 1.4696 - sparse_categorical_accuracy: 0.4864 - val_loss: 2.1068 - val_sparse_categorical_accuracy: 0.3352\n",
            "Epoch 18/50\n",
            "1047/1047 [==============================] - ETA: 0s - loss: 1.4452 - sparse_categorical_accuracy: 0.4987\n",
            "Epoch 18: val_loss did not improve from 0.99269\n",
            "1047/1047 [==============================] - 329s 314ms/step - loss: 1.4452 - sparse_categorical_accuracy: 0.4987 - val_loss: 7.1325 - val_sparse_categorical_accuracy: 0.2079\n",
            "Epoch 19/50\n",
            "1047/1047 [==============================] - ETA: 0s - loss: 1.4205 - sparse_categorical_accuracy: 0.5122\n",
            "Epoch 19: val_loss did not improve from 0.99269\n",
            "1047/1047 [==============================] - 328s 314ms/step - loss: 1.4205 - sparse_categorical_accuracy: 0.5122 - val_loss: 1.8173 - val_sparse_categorical_accuracy: 0.4017\n",
            "Epoch 20/50\n",
            "1047/1047 [==============================] - ETA: 0s - loss: 1.4071 - sparse_categorical_accuracy: 0.5140\n",
            "Epoch 20: val_loss did not improve from 0.99269\n",
            "1047/1047 [==============================] - 321s 307ms/step - loss: 1.4071 - sparse_categorical_accuracy: 0.5140 - val_loss: 2.3977 - val_sparse_categorical_accuracy: 0.3109\n",
            "Epoch 21/50\n",
            "1047/1047 [==============================] - ETA: 0s - loss: 1.3828 - sparse_categorical_accuracy: 0.5269\n",
            "Epoch 21: val_loss did not improve from 0.99269\n",
            "1047/1047 [==============================] - 321s 307ms/step - loss: 1.3828 - sparse_categorical_accuracy: 0.5269 - val_loss: 1.6565 - val_sparse_categorical_accuracy: 0.4504\n",
            "Epoch 22/50\n",
            "1047/1047 [==============================] - ETA: 0s - loss: 1.3665 - sparse_categorical_accuracy: 0.5337\n",
            "Epoch 22: val_loss did not improve from 0.99269\n",
            "1047/1047 [==============================] - 328s 314ms/step - loss: 1.3665 - sparse_categorical_accuracy: 0.5337 - val_loss: 1.8544 - val_sparse_categorical_accuracy: 0.3954\n",
            "Epoch 23/50\n",
            "1047/1047 [==============================] - ETA: 0s - loss: 1.3484 - sparse_categorical_accuracy: 0.5436\n",
            "Epoch 23: val_loss did not improve from 0.99269\n",
            "1047/1047 [==============================] - 328s 314ms/step - loss: 1.3484 - sparse_categorical_accuracy: 0.5436 - val_loss: 5.3175 - val_sparse_categorical_accuracy: 0.1856\n",
            "Epoch 24/50\n",
            "1047/1047 [==============================] - ETA: 0s - loss: 1.3301 - sparse_categorical_accuracy: 0.5530\n",
            "Epoch 24: val_loss did not improve from 0.99269\n",
            "1047/1047 [==============================] - 328s 314ms/step - loss: 1.3301 - sparse_categorical_accuracy: 0.5530 - val_loss: 5.1907 - val_sparse_categorical_accuracy: 0.1539\n",
            "Epoch 25/50\n",
            "1047/1047 [==============================] - ETA: 0s - loss: 1.3179 - sparse_categorical_accuracy: 0.5522\n",
            "Epoch 25: val_loss did not improve from 0.99269\n",
            "1047/1047 [==============================] - 328s 314ms/step - loss: 1.3179 - sparse_categorical_accuracy: 0.5522 - val_loss: 1.2998 - val_sparse_categorical_accuracy: 0.5759\n",
            "Epoch 26/50\n",
            "1047/1047 [==============================] - ETA: 0s - loss: 1.3055 - sparse_categorical_accuracy: 0.5627\n",
            "Epoch 26: val_loss did not improve from 0.99269\n",
            "1047/1047 [==============================] - 321s 307ms/step - loss: 1.3055 - sparse_categorical_accuracy: 0.5627 - val_loss: 3.0340 - val_sparse_categorical_accuracy: 0.3161\n",
            "Epoch 27/50\n",
            "1047/1047 [==============================] - ETA: 0s - loss: 1.2914 - sparse_categorical_accuracy: 0.5684\n",
            "Epoch 27: val_loss did not improve from 0.99269\n",
            "1047/1047 [==============================] - 329s 314ms/step - loss: 1.2914 - sparse_categorical_accuracy: 0.5684 - val_loss: 5.3234 - val_sparse_categorical_accuracy: 0.1364\n",
            "Epoch 28/50\n",
            "1047/1047 [==============================] - ETA: 0s - loss: 1.2840 - sparse_categorical_accuracy: 0.5726\n",
            "Epoch 28: val_loss did not improve from 0.99269\n",
            "1047/1047 [==============================] - 328s 314ms/step - loss: 1.2840 - sparse_categorical_accuracy: 0.5726 - val_loss: 5.2980 - val_sparse_categorical_accuracy: 0.2628\n",
            "Epoch 29/50\n",
            "1047/1047 [==============================] - ETA: 0s - loss: 1.2585 - sparse_categorical_accuracy: 0.5825\n",
            "Epoch 29: val_loss did not improve from 0.99269\n",
            "1047/1047 [==============================] - 328s 314ms/step - loss: 1.2585 - sparse_categorical_accuracy: 0.5825 - val_loss: 1.7658 - val_sparse_categorical_accuracy: 0.4564\n",
            "Epoch 30/50\n",
            "1047/1047 [==============================] - ETA: 0s - loss: 1.2500 - sparse_categorical_accuracy: 0.5843\n",
            "Epoch 30: val_loss did not improve from 0.99269\n",
            "1047/1047 [==============================] - 329s 314ms/step - loss: 1.2500 - sparse_categorical_accuracy: 0.5843 - val_loss: 1.4689 - val_sparse_categorical_accuracy: 0.5280\n",
            "Epoch 31/50\n",
            "1047/1047 [==============================] - ETA: 0s - loss: 1.2339 - sparse_categorical_accuracy: 0.5943\n",
            "Epoch 31: val_loss did not improve from 0.99269\n",
            "1047/1047 [==============================] - 328s 314ms/step - loss: 1.2339 - sparse_categorical_accuracy: 0.5943 - val_loss: 12.5533 - val_sparse_categorical_accuracy: 0.1843\n",
            "Epoch 32/50\n",
            "1047/1047 [==============================] - ETA: 0s - loss: 1.2254 - sparse_categorical_accuracy: 0.5958\n",
            "Epoch 32: val_loss did not improve from 0.99269\n",
            "1047/1047 [==============================] - 328s 313ms/step - loss: 1.2254 - sparse_categorical_accuracy: 0.5958 - val_loss: 1.5569 - val_sparse_categorical_accuracy: 0.5225\n",
            "Epoch 33/50\n",
            "1047/1047 [==============================] - ETA: 0s - loss: 1.2144 - sparse_categorical_accuracy: 0.6015\n",
            "Epoch 33: val_loss did not improve from 0.99269\n",
            "1047/1047 [==============================] - 328s 314ms/step - loss: 1.2144 - sparse_categorical_accuracy: 0.6015 - val_loss: 9.6167 - val_sparse_categorical_accuracy: 0.1821\n",
            "Epoch 34/50\n",
            "1047/1047 [==============================] - ETA: 0s - loss: 1.2082 - sparse_categorical_accuracy: 0.6048\n",
            "Epoch 34: val_loss did not improve from 0.99269\n",
            "1047/1047 [==============================] - 328s 314ms/step - loss: 1.2082 - sparse_categorical_accuracy: 0.6048 - val_loss: 11.7810 - val_sparse_categorical_accuracy: 0.1060\n",
            "Epoch 35/50\n",
            "1047/1047 [==============================] - ETA: 0s - loss: 1.2010 - sparse_categorical_accuracy: 0.6081\n",
            "Epoch 35: val_loss did not improve from 0.99269\n",
            "1047/1047 [==============================] - 328s 314ms/step - loss: 1.2010 - sparse_categorical_accuracy: 0.6081 - val_loss: 8.4203 - val_sparse_categorical_accuracy: 0.2213\n",
            "Epoch 36/50\n",
            "1047/1047 [==============================] - ETA: 0s - loss: 1.1905 - sparse_categorical_accuracy: 0.6112\n",
            "Epoch 36: val_loss did not improve from 0.99269\n",
            "1047/1047 [==============================] - 328s 314ms/step - loss: 1.1905 - sparse_categorical_accuracy: 0.6112 - val_loss: 2.2267 - val_sparse_categorical_accuracy: 0.4386\n",
            "Epoch 37/50\n",
            "1047/1047 [==============================] - ETA: 0s - loss: 1.1756 - sparse_categorical_accuracy: 0.6161\n",
            "Epoch 37: val_loss did not improve from 0.99269\n",
            "1047/1047 [==============================] - 328s 314ms/step - loss: 1.1756 - sparse_categorical_accuracy: 0.6161 - val_loss: 2.3650 - val_sparse_categorical_accuracy: 0.3660\n",
            "Epoch 38/50\n",
            "1047/1047 [==============================] - ETA: 0s - loss: 1.1703 - sparse_categorical_accuracy: 0.6219\n",
            "Epoch 38: val_loss did not improve from 0.99269\n",
            "1047/1047 [==============================] - 321s 307ms/step - loss: 1.1703 - sparse_categorical_accuracy: 0.6219 - val_loss: 8.2824 - val_sparse_categorical_accuracy: 0.1805\n",
            "Epoch 39/50\n",
            "1047/1047 [==============================] - ETA: 0s - loss: 1.1615 - sparse_categorical_accuracy: 0.6268\n",
            "Epoch 39: val_loss did not improve from 0.99269\n",
            "1047/1047 [==============================] - 328s 314ms/step - loss: 1.1615 - sparse_categorical_accuracy: 0.6268 - val_loss: 6.4216 - val_sparse_categorical_accuracy: 0.2635\n",
            "Epoch 40/50\n",
            "1047/1047 [==============================] - ETA: 0s - loss: 1.1574 - sparse_categorical_accuracy: 0.6238\n",
            "Epoch 40: val_loss did not improve from 0.99269\n",
            "1047/1047 [==============================] - 328s 314ms/step - loss: 1.1574 - sparse_categorical_accuracy: 0.6238 - val_loss: 2.9675 - val_sparse_categorical_accuracy: 0.2954\n",
            "Epoch 41/50\n",
            "1047/1047 [==============================] - ETA: 0s - loss: 1.1511 - sparse_categorical_accuracy: 0.6288\n",
            "Epoch 41: val_loss did not improve from 0.99269\n",
            "1047/1047 [==============================] - 328s 314ms/step - loss: 1.1511 - sparse_categorical_accuracy: 0.6288 - val_loss: 6.2338 - val_sparse_categorical_accuracy: 0.1297\n",
            "Epoch 42/50\n",
            "1047/1047 [==============================] - ETA: 0s - loss: 1.1410 - sparse_categorical_accuracy: 0.6333\n",
            "Epoch 42: val_loss did not improve from 0.99269\n",
            "1047/1047 [==============================] - 328s 314ms/step - loss: 1.1410 - sparse_categorical_accuracy: 0.6333 - val_loss: 6.7002 - val_sparse_categorical_accuracy: 0.2552\n",
            "Epoch 43/50\n",
            "1047/1047 [==============================] - ETA: 0s - loss: 1.1333 - sparse_categorical_accuracy: 0.6347\n",
            "Epoch 43: val_loss did not improve from 0.99269\n",
            "1047/1047 [==============================] - 328s 314ms/step - loss: 1.1333 - sparse_categorical_accuracy: 0.6347 - val_loss: 7.7684 - val_sparse_categorical_accuracy: 0.1878\n",
            "Epoch 44/50\n",
            "1047/1047 [==============================] - ETA: 0s - loss: 1.1213 - sparse_categorical_accuracy: 0.6405\n",
            "Epoch 44: val_loss did not improve from 0.99269\n",
            "1047/1047 [==============================] - 321s 307ms/step - loss: 1.1213 - sparse_categorical_accuracy: 0.6405 - val_loss: 1.9610 - val_sparse_categorical_accuracy: 0.4357\n",
            "Epoch 45/50\n",
            "1047/1047 [==============================] - ETA: 0s - loss: 1.1140 - sparse_categorical_accuracy: 0.6418\n",
            "Epoch 45: val_loss did not improve from 0.99269\n",
            "1047/1047 [==============================] - 328s 314ms/step - loss: 1.1140 - sparse_categorical_accuracy: 0.6418 - val_loss: 9.4530 - val_sparse_categorical_accuracy: 0.2245\n",
            "Epoch 46/50\n",
            "1047/1047 [==============================] - ETA: 0s - loss: 1.1100 - sparse_categorical_accuracy: 0.6426\n",
            "Epoch 46: val_loss did not improve from 0.99269\n",
            "1047/1047 [==============================] - 328s 314ms/step - loss: 1.1100 - sparse_categorical_accuracy: 0.6426 - val_loss: 2.2009 - val_sparse_categorical_accuracy: 0.4328\n",
            "Epoch 47/50\n",
            "1047/1047 [==============================] - ETA: 0s - loss: 1.1036 - sparse_categorical_accuracy: 0.6493\n",
            "Epoch 47: val_loss did not improve from 0.99269\n",
            "1047/1047 [==============================] - 328s 314ms/step - loss: 1.1036 - sparse_categorical_accuracy: 0.6493 - val_loss: 8.3404 - val_sparse_categorical_accuracy: 0.1859\n",
            "Epoch 48/50\n",
            "1047/1047 [==============================] - ETA: 0s - loss: 1.0964 - sparse_categorical_accuracy: 0.6496\n",
            "Epoch 48: val_loss did not improve from 0.99269\n",
            "1047/1047 [==============================] - 329s 314ms/step - loss: 1.0964 - sparse_categorical_accuracy: 0.6496 - val_loss: 6.5043 - val_sparse_categorical_accuracy: 0.3362\n",
            "Epoch 49/50\n",
            "1047/1047 [==============================] - ETA: 0s - loss: 1.0738 - sparse_categorical_accuracy: 0.6600\n",
            "Epoch 49: val_loss did not improve from 0.99269\n",
            "1047/1047 [==============================] - 321s 307ms/step - loss: 1.0738 - sparse_categorical_accuracy: 0.6600 - val_loss: 10.7239 - val_sparse_categorical_accuracy: 0.1326\n",
            "Epoch 50/50\n",
            "1047/1047 [==============================] - ETA: 0s - loss: 1.0784 - sparse_categorical_accuracy: 0.6579\n",
            "Epoch 50: val_loss did not improve from 0.99269\n",
            "1047/1047 [==============================] - 321s 307ms/step - loss: 1.0784 - sparse_categorical_accuracy: 0.6579 - val_loss: 1.7762 - val_sparse_categorical_accuracy: 0.5508\n"
          ]
        }
      ]
    },
    {
      "cell_type": "code",
      "execution_count": null,
      "metadata": {
        "colab": {
          "base_uri": "https://localhost:8080/",
          "height": 1000
        },
        "id": "Cy2Uq4JBqfHJ",
        "outputId": "72901d3b-e961-48b2-e0ba-1c8a1ed4b610"
      },
      "outputs": [
        {
          "output_type": "stream",
          "name": "stdout",
          "text": [
            "WARNING:tensorflow:Model failed to serialize as JSON. Ignoring... \n",
            "Layer LocationEncoding has arguments ['self', 'filters1', 'filters2']\n",
            "in `__init__` and therefore must override `get_config()`.\n",
            "\n",
            "Example:\n",
            "\n",
            "class CustomLayer(keras.layers.Layer):\n",
            "    def __init__(self, arg1, arg2):\n",
            "        super().__init__()\n",
            "        self.arg1 = arg1\n",
            "        self.arg2 = arg2\n",
            "\n",
            "    def get_config(self):\n",
            "        config = super().get_config()\n",
            "        config.update({\n",
            "            \"arg1\": self.arg1,\n",
            "            \"arg2\": self.arg2,\n",
            "        })\n",
            "        return config\n"
          ]
        },
        {
          "output_type": "stream",
          "name": "stderr",
          "text": [
            "WARNING:tensorflow:Model failed to serialize as JSON. Ignoring... \n",
            "Layer LocationEncoding has arguments ['self', 'filters1', 'filters2']\n",
            "in `__init__` and therefore must override `get_config()`.\n",
            "\n",
            "Example:\n",
            "\n",
            "class CustomLayer(keras.layers.Layer):\n",
            "    def __init__(self, arg1, arg2):\n",
            "        super().__init__()\n",
            "        self.arg1 = arg1\n",
            "        self.arg2 = arg2\n",
            "\n",
            "    def get_config(self):\n",
            "        config = super().get_config()\n",
            "        config.update({\n",
            "            \"arg1\": self.arg1,\n",
            "            \"arg2\": self.arg2,\n",
            "        })\n",
            "        return config\n"
          ]
        },
        {
          "output_type": "stream",
          "name": "stdout",
          "text": [
            "Epoch 1/50\n",
            "1047/1047 [==============================] - ETA: 0s - loss: 3.0636 - sparse_categorical_accuracy: 0.1282\n",
            "Epoch 1: val_loss improved from inf to 2.10808, saving model to ch4\n",
            "1047/1047 [==============================] - 200s 175ms/step - loss: 3.0636 - sparse_categorical_accuracy: 0.1282 - val_loss: 2.1081 - val_sparse_categorical_accuracy: 0.1974\n",
            "Epoch 2/50\n",
            "1047/1047 [==============================] - ETA: 0s - loss: 2.0001 - sparse_categorical_accuracy: 0.2257\n",
            "Epoch 2: val_loss did not improve from 2.10808\n",
            "1047/1047 [==============================] - 173s 165ms/step - loss: 2.0001 - sparse_categorical_accuracy: 0.2257 - val_loss: 3.6107 - val_sparse_categorical_accuracy: 0.1004\n",
            "Epoch 3/50\n",
            "1047/1047 [==============================] - ETA: 0s - loss: 1.8970 - sparse_categorical_accuracy: 0.2661\n",
            "Epoch 3: val_loss did not improve from 2.10808\n",
            "1047/1047 [==============================] - 172s 164ms/step - loss: 1.8970 - sparse_categorical_accuracy: 0.2661 - val_loss: 2.6931 - val_sparse_categorical_accuracy: 0.1525\n",
            "Epoch 4/50\n",
            "1047/1047 [==============================] - ETA: 0s - loss: 1.6961 - sparse_categorical_accuracy: 0.3591\n",
            "Epoch 4: val_loss did not improve from 2.10808\n",
            "1047/1047 [==============================] - 169s 162ms/step - loss: 1.6961 - sparse_categorical_accuracy: 0.3591 - val_loss: 2.6475 - val_sparse_categorical_accuracy: 0.2557\n",
            "Epoch 5/50\n",
            "1047/1047 [==============================] - ETA: 0s - loss: 1.5257 - sparse_categorical_accuracy: 0.4242\n",
            "Epoch 5: val_loss improved from 2.10808 to 1.65604, saving model to ch4\n",
            "1047/1047 [==============================] - 174s 166ms/step - loss: 1.5257 - sparse_categorical_accuracy: 0.4242 - val_loss: 1.6560 - val_sparse_categorical_accuracy: 0.3860\n",
            "Epoch 6/50\n",
            "1047/1047 [==============================] - ETA: 0s - loss: 1.4382 - sparse_categorical_accuracy: 0.4667\n",
            "Epoch 6: val_loss did not improve from 1.65604\n",
            "1047/1047 [==============================] - 172s 165ms/step - loss: 1.4382 - sparse_categorical_accuracy: 0.4667 - val_loss: 2.1865 - val_sparse_categorical_accuracy: 0.2770\n",
            "Epoch 7/50\n",
            "1047/1047 [==============================] - ETA: 0s - loss: 1.3625 - sparse_categorical_accuracy: 0.5065\n",
            "Epoch 7: val_loss did not improve from 1.65604\n",
            "1047/1047 [==============================] - 172s 165ms/step - loss: 1.3625 - sparse_categorical_accuracy: 0.5065 - val_loss: 3.7570 - val_sparse_categorical_accuracy: 0.1728\n",
            "Epoch 8/50\n",
            "1047/1047 [==============================] - ETA: 0s - loss: 1.2838 - sparse_categorical_accuracy: 0.5441\n",
            "Epoch 8: val_loss did not improve from 1.65604\n",
            "1047/1047 [==============================] - 172s 164ms/step - loss: 1.2838 - sparse_categorical_accuracy: 0.5441 - val_loss: 6.1835 - val_sparse_categorical_accuracy: 0.1259\n",
            "Epoch 9/50\n",
            "1047/1047 [==============================] - ETA: 0s - loss: 1.2057 - sparse_categorical_accuracy: 0.5788\n",
            "Epoch 9: val_loss did not improve from 1.65604\n",
            "1047/1047 [==============================] - 172s 165ms/step - loss: 1.2057 - sparse_categorical_accuracy: 0.5788 - val_loss: 3.2742 - val_sparse_categorical_accuracy: 0.2697\n",
            "Epoch 10/50\n",
            "1047/1047 [==============================] - ETA: 0s - loss: 1.1323 - sparse_categorical_accuracy: 0.6067\n",
            "Epoch 10: val_loss did not improve from 1.65604\n",
            "1047/1047 [==============================] - 172s 164ms/step - loss: 1.1323 - sparse_categorical_accuracy: 0.6067 - val_loss: 5.7822 - val_sparse_categorical_accuracy: 0.1924\n",
            "Epoch 11/50\n",
            "1047/1047 [==============================] - ETA: 0s - loss: 1.0665 - sparse_categorical_accuracy: 0.6333\n",
            "Epoch 11: val_loss did not improve from 1.65604\n",
            "1047/1047 [==============================] - 172s 165ms/step - loss: 1.0665 - sparse_categorical_accuracy: 0.6333 - val_loss: 1.8631 - val_sparse_categorical_accuracy: 0.4975\n",
            "Epoch 12/50\n",
            "1047/1047 [==============================] - ETA: 0s - loss: 1.0001 - sparse_categorical_accuracy: 0.6582\n",
            "Epoch 12: val_loss did not improve from 1.65604\n",
            "1047/1047 [==============================] - 172s 164ms/step - loss: 1.0001 - sparse_categorical_accuracy: 0.6582 - val_loss: 5.1885 - val_sparse_categorical_accuracy: 0.2492\n",
            "Epoch 13/50\n",
            "1047/1047 [==============================] - ETA: 0s - loss: 0.9404 - sparse_categorical_accuracy: 0.6847\n",
            "Epoch 13: val_loss did not improve from 1.65604\n",
            "1047/1047 [==============================] - 168s 161ms/step - loss: 0.9404 - sparse_categorical_accuracy: 0.6847 - val_loss: 7.1461 - val_sparse_categorical_accuracy: 0.1916\n",
            "Epoch 14/50\n",
            "1047/1047 [==============================] - ETA: 0s - loss: 0.8830 - sparse_categorical_accuracy: 0.7084\n",
            "Epoch 14: val_loss did not improve from 1.65604\n",
            "1047/1047 [==============================] - 172s 165ms/step - loss: 0.8830 - sparse_categorical_accuracy: 0.7084 - val_loss: 2.2788 - val_sparse_categorical_accuracy: 0.4139\n",
            "Epoch 15/50\n",
            "1047/1047 [==============================] - ETA: 0s - loss: 0.8307 - sparse_categorical_accuracy: 0.7260\n",
            "Epoch 15: val_loss improved from 1.65604 to 1.37121, saving model to ch4\n",
            "1047/1047 [==============================] - 173s 165ms/step - loss: 0.8307 - sparse_categorical_accuracy: 0.7260 - val_loss: 1.3712 - val_sparse_categorical_accuracy: 0.5715\n",
            "Epoch 16/50\n",
            "1047/1047 [==============================] - ETA: 0s - loss: 0.7765 - sparse_categorical_accuracy: 0.7464\n",
            "Epoch 16: val_loss did not improve from 1.37121\n",
            "1047/1047 [==============================] - 172s 164ms/step - loss: 0.7765 - sparse_categorical_accuracy: 0.7464 - val_loss: 2.9688 - val_sparse_categorical_accuracy: 0.3413\n",
            "Epoch 17/50\n",
            "1047/1047 [==============================] - ETA: 0s - loss: 0.7388 - sparse_categorical_accuracy: 0.7639\n",
            "Epoch 17: val_loss improved from 1.37121 to 1.20411, saving model to ch4\n",
            "1047/1047 [==============================] - 174s 166ms/step - loss: 0.7388 - sparse_categorical_accuracy: 0.7639 - val_loss: 1.2041 - val_sparse_categorical_accuracy: 0.6632\n",
            "Epoch 18/50\n",
            "1047/1047 [==============================] - ETA: 0s - loss: 0.6988 - sparse_categorical_accuracy: 0.7773\n",
            "Epoch 18: val_loss did not improve from 1.20411\n",
            "1047/1047 [==============================] - 172s 164ms/step - loss: 0.6988 - sparse_categorical_accuracy: 0.7773 - val_loss: 2.9977 - val_sparse_categorical_accuracy: 0.3808\n",
            "Epoch 19/50\n",
            "1047/1047 [==============================] - ETA: 0s - loss: 0.6412 - sparse_categorical_accuracy: 0.7998\n",
            "Epoch 19: val_loss did not improve from 1.20411\n",
            "1047/1047 [==============================] - 169s 161ms/step - loss: 0.6412 - sparse_categorical_accuracy: 0.7998 - val_loss: 4.2634 - val_sparse_categorical_accuracy: 0.3691\n",
            "Epoch 20/50\n",
            "1047/1047 [==============================] - ETA: 0s - loss: 0.6157 - sparse_categorical_accuracy: 0.8103\n",
            "Epoch 20: val_loss improved from 1.20411 to 1.11127, saving model to ch4\n",
            "1047/1047 [==============================] - 174s 166ms/step - loss: 0.6157 - sparse_categorical_accuracy: 0.8103 - val_loss: 1.1113 - val_sparse_categorical_accuracy: 0.6679\n",
            "Epoch 21/50\n",
            "1047/1047 [==============================] - ETA: 0s - loss: 0.5790 - sparse_categorical_accuracy: 0.8181\n",
            "Epoch 21: val_loss did not improve from 1.11127\n",
            "1047/1047 [==============================] - 172s 164ms/step - loss: 0.5790 - sparse_categorical_accuracy: 0.8181 - val_loss: 1.8931 - val_sparse_categorical_accuracy: 0.5727\n",
            "Epoch 22/50\n",
            "1047/1047 [==============================] - ETA: 0s - loss: 0.5479 - sparse_categorical_accuracy: 0.8343\n",
            "Epoch 22: val_loss did not improve from 1.11127\n",
            "1047/1047 [==============================] - 172s 164ms/step - loss: 0.5479 - sparse_categorical_accuracy: 0.8343 - val_loss: 3.4212 - val_sparse_categorical_accuracy: 0.3675\n",
            "Epoch 23/50\n",
            "1047/1047 [==============================] - ETA: 0s - loss: 0.5201 - sparse_categorical_accuracy: 0.8453\n",
            "Epoch 23: val_loss did not improve from 1.11127\n",
            "1047/1047 [==============================] - 172s 164ms/step - loss: 0.5201 - sparse_categorical_accuracy: 0.8453 - val_loss: 5.0047 - val_sparse_categorical_accuracy: 0.3393\n",
            "Epoch 24/50\n",
            "1047/1047 [==============================] - ETA: 0s - loss: 0.4923 - sparse_categorical_accuracy: 0.8536\n",
            "Epoch 24: val_loss did not improve from 1.11127\n",
            "1047/1047 [==============================] - 172s 164ms/step - loss: 0.4923 - sparse_categorical_accuracy: 0.8536 - val_loss: 11.4770 - val_sparse_categorical_accuracy: 0.1081\n",
            "Epoch 25/50\n",
            "1047/1047 [==============================] - ETA: 0s - loss: 0.4720 - sparse_categorical_accuracy: 0.8634\n",
            "Epoch 25: val_loss did not improve from 1.11127\n",
            "1047/1047 [==============================] - 172s 164ms/step - loss: 0.4720 - sparse_categorical_accuracy: 0.8634 - val_loss: 6.0994 - val_sparse_categorical_accuracy: 0.2040\n",
            "Epoch 26/50\n",
            "1047/1047 [==============================] - ETA: 0s - loss: 0.4442 - sparse_categorical_accuracy: 0.8735\n",
            "Epoch 26: val_loss did not improve from 1.11127\n",
            "1047/1047 [==============================] - 168s 161ms/step - loss: 0.4442 - sparse_categorical_accuracy: 0.8735 - val_loss: 1.2325 - val_sparse_categorical_accuracy: 0.6701\n",
            "Epoch 27/50\n",
            "1047/1047 [==============================] - ETA: 0s - loss: 0.4338 - sparse_categorical_accuracy: 0.8781\n",
            "Epoch 27: val_loss did not improve from 1.11127\n",
            "1047/1047 [==============================] - 172s 164ms/step - loss: 0.4338 - sparse_categorical_accuracy: 0.8781 - val_loss: 6.3888 - val_sparse_categorical_accuracy: 0.3066\n",
            "Epoch 28/50\n",
            "1047/1047 [==============================] - ETA: 0s - loss: 0.4105 - sparse_categorical_accuracy: 0.8908\n",
            "Epoch 28: val_loss did not improve from 1.11127\n",
            "1047/1047 [==============================] - 172s 164ms/step - loss: 0.4105 - sparse_categorical_accuracy: 0.8908 - val_loss: 1.3507 - val_sparse_categorical_accuracy: 0.6574\n",
            "Epoch 29/50\n",
            "1047/1047 [==============================] - ETA: 0s - loss: 0.3952 - sparse_categorical_accuracy: 0.8950\n",
            "Epoch 29: val_loss did not improve from 1.11127\n",
            "1047/1047 [==============================] - 168s 161ms/step - loss: 0.3952 - sparse_categorical_accuracy: 0.8950 - val_loss: 1.2053 - val_sparse_categorical_accuracy: 0.6764\n",
            "Epoch 30/50\n",
            "1047/1047 [==============================] - ETA: 0s - loss: 0.3787 - sparse_categorical_accuracy: 0.9018\n",
            "Epoch 30: val_loss did not improve from 1.11127\n",
            "1047/1047 [==============================] - 172s 164ms/step - loss: 0.3787 - sparse_categorical_accuracy: 0.9018 - val_loss: 1.7175 - val_sparse_categorical_accuracy: 0.5978\n",
            "Epoch 31/50\n",
            "1047/1047 [==============================] - ETA: 0s - loss: 0.3668 - sparse_categorical_accuracy: 0.9056\n",
            "Epoch 31: val_loss did not improve from 1.11127\n",
            "1047/1047 [==============================] - 172s 164ms/step - loss: 0.3668 - sparse_categorical_accuracy: 0.9056 - val_loss: 2.0028 - val_sparse_categorical_accuracy: 0.5988\n",
            "Epoch 32/50\n",
            "1047/1047 [==============================] - ETA: 0s - loss: 0.3525 - sparse_categorical_accuracy: 0.9111\n",
            "Epoch 32: val_loss did not improve from 1.11127\n",
            "1047/1047 [==============================] - 172s 164ms/step - loss: 0.3525 - sparse_categorical_accuracy: 0.9111 - val_loss: 4.2747 - val_sparse_categorical_accuracy: 0.4070\n",
            "Epoch 33/50\n",
            "1047/1047 [==============================] - ETA: 0s - loss: 0.3437 - sparse_categorical_accuracy: 0.9161\n",
            "Epoch 33: val_loss did not improve from 1.11127\n",
            "1047/1047 [==============================] - 168s 161ms/step - loss: 0.3437 - sparse_categorical_accuracy: 0.9161 - val_loss: 1.7656 - val_sparse_categorical_accuracy: 0.5707\n",
            "Epoch 34/50\n",
            "1047/1047 [==============================] - ETA: 0s - loss: 0.3563 - sparse_categorical_accuracy: 0.9090\n",
            "Epoch 34: val_loss did not improve from 1.11127\n",
            "1047/1047 [==============================] - 172s 164ms/step - loss: 0.3563 - sparse_categorical_accuracy: 0.9090 - val_loss: 4.4444 - val_sparse_categorical_accuracy: 0.3987\n",
            "Epoch 35/50\n",
            "1047/1047 [==============================] - ETA: 0s - loss: 0.3094 - sparse_categorical_accuracy: 0.9278\n",
            "Epoch 35: val_loss did not improve from 1.11127\n",
            "1047/1047 [==============================] - 172s 164ms/step - loss: 0.3094 - sparse_categorical_accuracy: 0.9278 - val_loss: 2.1801 - val_sparse_categorical_accuracy: 0.5810\n",
            "Epoch 36/50\n",
            "1047/1047 [==============================] - ETA: 0s - loss: 0.3158 - sparse_categorical_accuracy: 0.9248\n",
            "Epoch 36: val_loss did not improve from 1.11127\n",
            "1047/1047 [==============================] - 172s 164ms/step - loss: 0.3158 - sparse_categorical_accuracy: 0.9248 - val_loss: 22.7670 - val_sparse_categorical_accuracy: 0.1014\n",
            "Epoch 37/50\n",
            "1047/1047 [==============================] - ETA: 0s - loss: 0.3070 - sparse_categorical_accuracy: 0.9300\n",
            "Epoch 37: val_loss did not improve from 1.11127\n",
            "1047/1047 [==============================] - 168s 161ms/step - loss: 0.3070 - sparse_categorical_accuracy: 0.9300 - val_loss: 1.7593 - val_sparse_categorical_accuracy: 0.6681\n",
            "Epoch 38/50\n",
            "1047/1047 [==============================] - ETA: 0s - loss: 0.2980 - sparse_categorical_accuracy: 0.9322\n",
            "Epoch 38: val_loss did not improve from 1.11127\n",
            "1047/1047 [==============================] - 172s 164ms/step - loss: 0.2980 - sparse_categorical_accuracy: 0.9322 - val_loss: 2.5862 - val_sparse_categorical_accuracy: 0.5360\n",
            "Epoch 39/50\n",
            "1047/1047 [==============================] - ETA: 0s - loss: 0.2949 - sparse_categorical_accuracy: 0.9349\n",
            "Epoch 39: val_loss did not improve from 1.11127\n",
            "1047/1047 [==============================] - 172s 164ms/step - loss: 0.2949 - sparse_categorical_accuracy: 0.9349 - val_loss: 1.5824 - val_sparse_categorical_accuracy: 0.6735\n",
            "Epoch 40/50\n",
            "1047/1047 [==============================] - ETA: 0s - loss: 0.2829 - sparse_categorical_accuracy: 0.9374\n",
            "Epoch 40: val_loss did not improve from 1.11127\n",
            "1047/1047 [==============================] - 172s 164ms/step - loss: 0.2829 - sparse_categorical_accuracy: 0.9374 - val_loss: 1.8349 - val_sparse_categorical_accuracy: 0.6222\n",
            "Epoch 41/50\n",
            "1047/1047 [==============================] - ETA: 0s - loss: 0.2796 - sparse_categorical_accuracy: 0.9399\n",
            "Epoch 41: val_loss did not improve from 1.11127\n",
            "1047/1047 [==============================] - 172s 164ms/step - loss: 0.2796 - sparse_categorical_accuracy: 0.9399 - val_loss: 1.4017 - val_sparse_categorical_accuracy: 0.6300\n",
            "Epoch 42/50\n",
            " 273/1047 [======>.......................] - ETA: 1:36 - loss: 0.2533 - sparse_categorical_accuracy: 0.9510"
          ]
        },
        {
          "output_type": "error",
          "ename": "KeyboardInterrupt",
          "evalue": "ignored",
          "traceback": [
            "\u001b[0;31m---------------------------------------------------------------------------\u001b[0m",
            "\u001b[0;31mKeyboardInterrupt\u001b[0m                         Traceback (most recent call last)",
            "\u001b[0;32m<ipython-input-8-044edcdcfcb5>\u001b[0m in \u001b[0;36m<module>\u001b[0;34m()\u001b[0m\n\u001b[1;32m      8\u001b[0m \u001b[0;31m#locN.load_weights('ch4')\u001b[0m\u001b[0;34m\u001b[0m\u001b[0;34m\u001b[0m\u001b[0;34m\u001b[0m\u001b[0m\n\u001b[1;32m      9\u001b[0m \u001b[0;31m#history = locN.fit(labeled_train_dataset,validation_data=labeled_val_dataset,epochs=50,callbacks=[checkpoint4,tensorboard_callback])\u001b[0m\u001b[0;34m\u001b[0m\u001b[0;34m\u001b[0m\u001b[0;34m\u001b[0m\u001b[0m\n\u001b[0;32m---> 10\u001b[0;31m \u001b[0mhistory\u001b[0m \u001b[0;34m=\u001b[0m \u001b[0mlocN\u001b[0m\u001b[0;34m.\u001b[0m\u001b[0mfit\u001b[0m\u001b[0;34m(\u001b[0m\u001b[0mx_train\u001b[0m\u001b[0;34m,\u001b[0m \u001b[0my_train\u001b[0m\u001b[0;34m,\u001b[0m\u001b[0mvalidation_data\u001b[0m\u001b[0;34m=\u001b[0m\u001b[0;34m(\u001b[0m\u001b[0mx_val\u001b[0m\u001b[0;34m,\u001b[0m\u001b[0my_val\u001b[0m\u001b[0;34m)\u001b[0m\u001b[0;34m,\u001b[0m\u001b[0mepochs\u001b[0m\u001b[0;34m=\u001b[0m\u001b[0;36m50\u001b[0m\u001b[0;34m,\u001b[0m\u001b[0mcallbacks\u001b[0m\u001b[0;34m=\u001b[0m\u001b[0;34m[\u001b[0m\u001b[0mcheckpoint4\u001b[0m\u001b[0;34m,\u001b[0m\u001b[0mtensorboard_callback\u001b[0m\u001b[0;34m]\u001b[0m\u001b[0;34m)\u001b[0m\u001b[0;34m\u001b[0m\u001b[0;34m\u001b[0m\u001b[0m\n\u001b[0m",
            "\u001b[0;32m/usr/local/lib/python3.7/dist-packages/keras/utils/traceback_utils.py\u001b[0m in \u001b[0;36merror_handler\u001b[0;34m(*args, **kwargs)\u001b[0m\n\u001b[1;32m     62\u001b[0m     \u001b[0mfiltered_tb\u001b[0m \u001b[0;34m=\u001b[0m \u001b[0;32mNone\u001b[0m\u001b[0;34m\u001b[0m\u001b[0;34m\u001b[0m\u001b[0m\n\u001b[1;32m     63\u001b[0m     \u001b[0;32mtry\u001b[0m\u001b[0;34m:\u001b[0m\u001b[0;34m\u001b[0m\u001b[0;34m\u001b[0m\u001b[0m\n\u001b[0;32m---> 64\u001b[0;31m       \u001b[0;32mreturn\u001b[0m \u001b[0mfn\u001b[0m\u001b[0;34m(\u001b[0m\u001b[0;34m*\u001b[0m\u001b[0margs\u001b[0m\u001b[0;34m,\u001b[0m \u001b[0;34m**\u001b[0m\u001b[0mkwargs\u001b[0m\u001b[0;34m)\u001b[0m\u001b[0;34m\u001b[0m\u001b[0;34m\u001b[0m\u001b[0m\n\u001b[0m\u001b[1;32m     65\u001b[0m     \u001b[0;32mexcept\u001b[0m \u001b[0mException\u001b[0m \u001b[0;32mas\u001b[0m \u001b[0me\u001b[0m\u001b[0;34m:\u001b[0m  \u001b[0;31m# pylint: disable=broad-except\u001b[0m\u001b[0;34m\u001b[0m\u001b[0;34m\u001b[0m\u001b[0m\n\u001b[1;32m     66\u001b[0m       \u001b[0mfiltered_tb\u001b[0m \u001b[0;34m=\u001b[0m \u001b[0m_process_traceback_frames\u001b[0m\u001b[0;34m(\u001b[0m\u001b[0me\u001b[0m\u001b[0;34m.\u001b[0m\u001b[0m__traceback__\u001b[0m\u001b[0;34m)\u001b[0m\u001b[0;34m\u001b[0m\u001b[0;34m\u001b[0m\u001b[0m\n",
            "\u001b[0;32m/usr/local/lib/python3.7/dist-packages/keras/engine/training.py\u001b[0m in \u001b[0;36mfit\u001b[0;34m(self, x, y, batch_size, epochs, verbose, callbacks, validation_split, validation_data, shuffle, class_weight, sample_weight, initial_epoch, steps_per_epoch, validation_steps, validation_batch_size, validation_freq, max_queue_size, workers, use_multiprocessing)\u001b[0m\n\u001b[1;32m   1382\u001b[0m                 _r=1):\n\u001b[1;32m   1383\u001b[0m               \u001b[0mcallbacks\u001b[0m\u001b[0;34m.\u001b[0m\u001b[0mon_train_batch_begin\u001b[0m\u001b[0;34m(\u001b[0m\u001b[0mstep\u001b[0m\u001b[0;34m)\u001b[0m\u001b[0;34m\u001b[0m\u001b[0;34m\u001b[0m\u001b[0m\n\u001b[0;32m-> 1384\u001b[0;31m               \u001b[0mtmp_logs\u001b[0m \u001b[0;34m=\u001b[0m \u001b[0mself\u001b[0m\u001b[0;34m.\u001b[0m\u001b[0mtrain_function\u001b[0m\u001b[0;34m(\u001b[0m\u001b[0miterator\u001b[0m\u001b[0;34m)\u001b[0m\u001b[0;34m\u001b[0m\u001b[0;34m\u001b[0m\u001b[0m\n\u001b[0m\u001b[1;32m   1385\u001b[0m               \u001b[0;32mif\u001b[0m \u001b[0mdata_handler\u001b[0m\u001b[0;34m.\u001b[0m\u001b[0mshould_sync\u001b[0m\u001b[0;34m:\u001b[0m\u001b[0;34m\u001b[0m\u001b[0;34m\u001b[0m\u001b[0m\n\u001b[1;32m   1386\u001b[0m                 \u001b[0mcontext\u001b[0m\u001b[0;34m.\u001b[0m\u001b[0masync_wait\u001b[0m\u001b[0;34m(\u001b[0m\u001b[0;34m)\u001b[0m\u001b[0;34m\u001b[0m\u001b[0;34m\u001b[0m\u001b[0m\n",
            "\u001b[0;32m/usr/local/lib/python3.7/dist-packages/tensorflow/python/util/traceback_utils.py\u001b[0m in \u001b[0;36merror_handler\u001b[0;34m(*args, **kwargs)\u001b[0m\n\u001b[1;32m    148\u001b[0m     \u001b[0mfiltered_tb\u001b[0m \u001b[0;34m=\u001b[0m \u001b[0;32mNone\u001b[0m\u001b[0;34m\u001b[0m\u001b[0;34m\u001b[0m\u001b[0m\n\u001b[1;32m    149\u001b[0m     \u001b[0;32mtry\u001b[0m\u001b[0;34m:\u001b[0m\u001b[0;34m\u001b[0m\u001b[0;34m\u001b[0m\u001b[0m\n\u001b[0;32m--> 150\u001b[0;31m       \u001b[0;32mreturn\u001b[0m \u001b[0mfn\u001b[0m\u001b[0;34m(\u001b[0m\u001b[0;34m*\u001b[0m\u001b[0margs\u001b[0m\u001b[0;34m,\u001b[0m \u001b[0;34m**\u001b[0m\u001b[0mkwargs\u001b[0m\u001b[0;34m)\u001b[0m\u001b[0;34m\u001b[0m\u001b[0;34m\u001b[0m\u001b[0m\n\u001b[0m\u001b[1;32m    151\u001b[0m     \u001b[0;32mexcept\u001b[0m \u001b[0mException\u001b[0m \u001b[0;32mas\u001b[0m \u001b[0me\u001b[0m\u001b[0;34m:\u001b[0m\u001b[0;34m\u001b[0m\u001b[0;34m\u001b[0m\u001b[0m\n\u001b[1;32m    152\u001b[0m       \u001b[0mfiltered_tb\u001b[0m \u001b[0;34m=\u001b[0m \u001b[0m_process_traceback_frames\u001b[0m\u001b[0;34m(\u001b[0m\u001b[0me\u001b[0m\u001b[0;34m.\u001b[0m\u001b[0m__traceback__\u001b[0m\u001b[0;34m)\u001b[0m\u001b[0;34m\u001b[0m\u001b[0;34m\u001b[0m\u001b[0m\n",
            "\u001b[0;32m/usr/local/lib/python3.7/dist-packages/tensorflow/python/eager/def_function.py\u001b[0m in \u001b[0;36m__call__\u001b[0;34m(self, *args, **kwds)\u001b[0m\n\u001b[1;32m    913\u001b[0m \u001b[0;34m\u001b[0m\u001b[0m\n\u001b[1;32m    914\u001b[0m       \u001b[0;32mwith\u001b[0m \u001b[0mOptionalXlaContext\u001b[0m\u001b[0;34m(\u001b[0m\u001b[0mself\u001b[0m\u001b[0;34m.\u001b[0m\u001b[0m_jit_compile\u001b[0m\u001b[0;34m)\u001b[0m\u001b[0;34m:\u001b[0m\u001b[0;34m\u001b[0m\u001b[0;34m\u001b[0m\u001b[0m\n\u001b[0;32m--> 915\u001b[0;31m         \u001b[0mresult\u001b[0m \u001b[0;34m=\u001b[0m \u001b[0mself\u001b[0m\u001b[0;34m.\u001b[0m\u001b[0m_call\u001b[0m\u001b[0;34m(\u001b[0m\u001b[0;34m*\u001b[0m\u001b[0margs\u001b[0m\u001b[0;34m,\u001b[0m \u001b[0;34m**\u001b[0m\u001b[0mkwds\u001b[0m\u001b[0;34m)\u001b[0m\u001b[0;34m\u001b[0m\u001b[0;34m\u001b[0m\u001b[0m\n\u001b[0m\u001b[1;32m    916\u001b[0m \u001b[0;34m\u001b[0m\u001b[0m\n\u001b[1;32m    917\u001b[0m       \u001b[0mnew_tracing_count\u001b[0m \u001b[0;34m=\u001b[0m \u001b[0mself\u001b[0m\u001b[0;34m.\u001b[0m\u001b[0mexperimental_get_tracing_count\u001b[0m\u001b[0;34m(\u001b[0m\u001b[0;34m)\u001b[0m\u001b[0;34m\u001b[0m\u001b[0;34m\u001b[0m\u001b[0m\n",
            "\u001b[0;32m/usr/local/lib/python3.7/dist-packages/tensorflow/python/eager/def_function.py\u001b[0m in \u001b[0;36m_call\u001b[0;34m(self, *args, **kwds)\u001b[0m\n\u001b[1;32m    945\u001b[0m       \u001b[0;31m# In this case we have created variables on the first call, so we run the\u001b[0m\u001b[0;34m\u001b[0m\u001b[0;34m\u001b[0m\u001b[0;34m\u001b[0m\u001b[0m\n\u001b[1;32m    946\u001b[0m       \u001b[0;31m# defunned version which is guaranteed to never create variables.\u001b[0m\u001b[0;34m\u001b[0m\u001b[0;34m\u001b[0m\u001b[0;34m\u001b[0m\u001b[0m\n\u001b[0;32m--> 947\u001b[0;31m       \u001b[0;32mreturn\u001b[0m \u001b[0mself\u001b[0m\u001b[0;34m.\u001b[0m\u001b[0m_stateless_fn\u001b[0m\u001b[0;34m(\u001b[0m\u001b[0;34m*\u001b[0m\u001b[0margs\u001b[0m\u001b[0;34m,\u001b[0m \u001b[0;34m**\u001b[0m\u001b[0mkwds\u001b[0m\u001b[0;34m)\u001b[0m  \u001b[0;31m# pylint: disable=not-callable\u001b[0m\u001b[0;34m\u001b[0m\u001b[0;34m\u001b[0m\u001b[0m\n\u001b[0m\u001b[1;32m    948\u001b[0m     \u001b[0;32melif\u001b[0m \u001b[0mself\u001b[0m\u001b[0;34m.\u001b[0m\u001b[0m_stateful_fn\u001b[0m \u001b[0;32mis\u001b[0m \u001b[0;32mnot\u001b[0m \u001b[0;32mNone\u001b[0m\u001b[0;34m:\u001b[0m\u001b[0;34m\u001b[0m\u001b[0;34m\u001b[0m\u001b[0m\n\u001b[1;32m    949\u001b[0m       \u001b[0;31m# Release the lock early so that multiple threads can perform the call\u001b[0m\u001b[0;34m\u001b[0m\u001b[0;34m\u001b[0m\u001b[0;34m\u001b[0m\u001b[0m\n",
            "\u001b[0;32m/usr/local/lib/python3.7/dist-packages/tensorflow/python/eager/function.py\u001b[0m in \u001b[0;36m__call__\u001b[0;34m(self, *args, **kwargs)\u001b[0m\n\u001b[1;32m   2955\u001b[0m        filtered_flat_args) = self._maybe_define_function(args, kwargs)\n\u001b[1;32m   2956\u001b[0m     return graph_function._call_flat(\n\u001b[0;32m-> 2957\u001b[0;31m         filtered_flat_args, captured_inputs=graph_function.captured_inputs)  # pylint: disable=protected-access\n\u001b[0m\u001b[1;32m   2958\u001b[0m \u001b[0;34m\u001b[0m\u001b[0m\n\u001b[1;32m   2959\u001b[0m   \u001b[0;34m@\u001b[0m\u001b[0mproperty\u001b[0m\u001b[0;34m\u001b[0m\u001b[0;34m\u001b[0m\u001b[0m\n",
            "\u001b[0;32m/usr/local/lib/python3.7/dist-packages/tensorflow/python/eager/function.py\u001b[0m in \u001b[0;36m_call_flat\u001b[0;34m(self, args, captured_inputs, cancellation_manager)\u001b[0m\n\u001b[1;32m   1852\u001b[0m       \u001b[0;31m# No tape is watching; skip to running the function.\u001b[0m\u001b[0;34m\u001b[0m\u001b[0;34m\u001b[0m\u001b[0;34m\u001b[0m\u001b[0m\n\u001b[1;32m   1853\u001b[0m       return self._build_call_outputs(self._inference_function.call(\n\u001b[0;32m-> 1854\u001b[0;31m           ctx, args, cancellation_manager=cancellation_manager))\n\u001b[0m\u001b[1;32m   1855\u001b[0m     forward_backward = self._select_forward_and_backward_functions(\n\u001b[1;32m   1856\u001b[0m         \u001b[0margs\u001b[0m\u001b[0;34m,\u001b[0m\u001b[0;34m\u001b[0m\u001b[0;34m\u001b[0m\u001b[0m\n",
            "\u001b[0;32m/usr/local/lib/python3.7/dist-packages/tensorflow/python/eager/function.py\u001b[0m in \u001b[0;36mcall\u001b[0;34m(self, ctx, args, cancellation_manager)\u001b[0m\n\u001b[1;32m    502\u001b[0m               \u001b[0minputs\u001b[0m\u001b[0;34m=\u001b[0m\u001b[0margs\u001b[0m\u001b[0;34m,\u001b[0m\u001b[0;34m\u001b[0m\u001b[0;34m\u001b[0m\u001b[0m\n\u001b[1;32m    503\u001b[0m               \u001b[0mattrs\u001b[0m\u001b[0;34m=\u001b[0m\u001b[0mattrs\u001b[0m\u001b[0;34m,\u001b[0m\u001b[0;34m\u001b[0m\u001b[0;34m\u001b[0m\u001b[0m\n\u001b[0;32m--> 504\u001b[0;31m               ctx=ctx)\n\u001b[0m\u001b[1;32m    505\u001b[0m         \u001b[0;32melse\u001b[0m\u001b[0;34m:\u001b[0m\u001b[0;34m\u001b[0m\u001b[0;34m\u001b[0m\u001b[0m\n\u001b[1;32m    506\u001b[0m           outputs = execute.execute_with_cancellation(\n",
            "\u001b[0;32m/usr/local/lib/python3.7/dist-packages/tensorflow/python/eager/execute.py\u001b[0m in \u001b[0;36mquick_execute\u001b[0;34m(op_name, num_outputs, inputs, attrs, ctx, name)\u001b[0m\n\u001b[1;32m     53\u001b[0m     \u001b[0mctx\u001b[0m\u001b[0;34m.\u001b[0m\u001b[0mensure_initialized\u001b[0m\u001b[0;34m(\u001b[0m\u001b[0;34m)\u001b[0m\u001b[0;34m\u001b[0m\u001b[0;34m\u001b[0m\u001b[0m\n\u001b[1;32m     54\u001b[0m     tensors = pywrap_tfe.TFE_Py_Execute(ctx._handle, device_name, op_name,\n\u001b[0;32m---> 55\u001b[0;31m                                         inputs, attrs, num_outputs)\n\u001b[0m\u001b[1;32m     56\u001b[0m   \u001b[0;32mexcept\u001b[0m \u001b[0mcore\u001b[0m\u001b[0;34m.\u001b[0m\u001b[0m_NotOkStatusException\u001b[0m \u001b[0;32mas\u001b[0m \u001b[0me\u001b[0m\u001b[0;34m:\u001b[0m\u001b[0;34m\u001b[0m\u001b[0;34m\u001b[0m\u001b[0m\n\u001b[1;32m     57\u001b[0m     \u001b[0;32mif\u001b[0m \u001b[0mname\u001b[0m \u001b[0;32mis\u001b[0m \u001b[0;32mnot\u001b[0m \u001b[0;32mNone\u001b[0m\u001b[0;34m:\u001b[0m\u001b[0;34m\u001b[0m\u001b[0;34m\u001b[0m\u001b[0m\n",
            "\u001b[0;31mKeyboardInterrupt\u001b[0m: "
          ]
        }
      ],
      "source": [
        "import cv2\n",
        "locN = LocationModelN()\n",
        "locN.compile(\n",
        "    optimizer=tf.keras.optimizers.Adam(0.001),\n",
        "    loss='sparse_categorical_crossentropy',\n",
        "    metrics='sparse_categorical_accuracy'\n",
        ")\n",
        "#locN.load_weights('ch4')\n",
        "#history = locN.fit(labeled_train_dataset,validation_data=labeled_val_dataset,epochs=50,callbacks=[checkpoint4,tensorboard_callback])\n",
        "history = locN.fit(x_train, y_train,validation_data=(x_val,y_val),epochs=50,callbacks=[checkpoint4,tensorboard_callback])"
      ]
    },
    {
      "cell_type": "code",
      "source": [
        "locN.load_weights('ch4')"
      ],
      "metadata": {
        "colab": {
          "base_uri": "https://localhost:8080/"
        },
        "id": "Qn_H704p7Shz",
        "outputId": "c738ed10-ca8e-4c67-987f-45eb098f01e1"
      },
      "execution_count": null,
      "outputs": [
        {
          "output_type": "execute_result",
          "data": {
            "text/plain": [
              "<tensorflow.python.training.tracking.util.CheckpointLoadStatus at 0x7f045c7af1d0>"
            ]
          },
          "metadata": {},
          "execution_count": 15
        }
      ]
    },
    {
      "cell_type": "code",
      "source": [
        "locN.evaluate(test_X,test_y)"
      ],
      "metadata": {
        "colab": {
          "base_uri": "https://localhost:8080/"
        },
        "id": "QQPCQK4-oY-7",
        "outputId": "dc7275a5-1b4b-4969-cffe-fe54ee408bfb"
      },
      "execution_count": null,
      "outputs": [
        {
          "output_type": "stream",
          "name": "stdout",
          "text": [
            "313/313 [==============================] - 24s 77ms/step - loss: 1.0779 - sparse_categorical_accuracy: 0.6467\n"
          ]
        },
        {
          "output_type": "execute_result",
          "data": {
            "text/plain": [
              "[1.0778511762619019, 0.6467000246047974]"
            ]
          },
          "metadata": {},
          "execution_count": 17
        }
      ]
    },
    {
      "cell_type": "code",
      "execution_count": null,
      "metadata": {
        "colab": {
          "base_uri": "https://localhost:8080/"
        },
        "id": "jLjjIP4U5CAF",
        "outputId": "9e729e07-a70d-4f99-9103-87a5bb547b1e"
      },
      "outputs": [
        {
          "name": "stdout",
          "output_type": "stream",
          "text": [
            "63/63 [==============================] - 62s 979ms/step - loss: 2.9049 - sparse_categorical_accuracy: 0.5520\n"
          ]
        },
        {
          "data": {
            "text/plain": [
              "[2.904898166656494, 0.5519999861717224]"
            ]
          },
          "execution_count": 31,
          "metadata": {},
          "output_type": "execute_result"
        }
      ],
      "source": [
        "locN.evaluate(test_dataset)"
      ]
    },
    {
      "cell_type": "code",
      "source": [
        "locN2.evaluate(test_dataset)"
      ],
      "metadata": {
        "colab": {
          "base_uri": "https://localhost:8080/"
        },
        "id": "TKX3SPJlYoH3",
        "outputId": "f78c8fd2-2fb8-4365-f03a-33afbb619293"
      },
      "execution_count": null,
      "outputs": [
        {
          "output_type": "stream",
          "name": "stdout",
          "text": [
            "63/63 [==============================] - 72s 969ms/step - loss: 2.2880 - sparse_categorical_accuracy: 0.5339\n"
          ]
        },
        {
          "output_type": "execute_result",
          "data": {
            "text/plain": [
              "[2.287968158721924, 0.5338749885559082]"
            ]
          },
          "metadata": {},
          "execution_count": 19
        }
      ]
    },
    {
      "cell_type": "code",
      "source": [
        "#n1.evaluate(test_dataset)\n",
        "normal = NormalModel()\n",
        "normal.compile(\n",
        "    optimizer=tf.keras.optimizers.Adam(0.001),\n",
        "    loss='sparse_categorical_crossentropy',\n",
        "    metrics='sparse_categorical_accuracy'\n",
        ")\n",
        "history = normal.fit(x_train, y_train,validation_data=(x_val,y_val),epochs=50,callbacks=[checkpoint3,tensorboard_callback])"
      ],
      "metadata": {
        "colab": {
          "base_uri": "https://localhost:8080/"
        },
        "id": "1tmEychksFXl",
        "outputId": "a2965b13-3aa7-45b6-f56d-b2ce550d6353"
      },
      "execution_count": null,
      "outputs": [
        {
          "output_type": "stream",
          "name": "stdout",
          "text": [
            "Epoch 1/50\n",
            "1047/1047 [==============================] - ETA: 0s - loss: 2.3414 - sparse_categorical_accuracy: 0.1594\n",
            "Epoch 1: val_loss improved from inf to 1.86592, saving model to ch3\n",
            "1047/1047 [==============================] - 19s 17ms/step - loss: 2.3414 - sparse_categorical_accuracy: 0.1594 - val_loss: 1.8659 - val_sparse_categorical_accuracy: 0.2783\n",
            "Epoch 2/50\n",
            "1045/1047 [============================>.] - ETA: 0s - loss: 1.7479 - sparse_categorical_accuracy: 0.3254\n",
            "Epoch 2: val_loss improved from 1.86592 to 1.70393, saving model to ch3\n",
            "1047/1047 [==============================] - 18s 17ms/step - loss: 1.7479 - sparse_categorical_accuracy: 0.3255 - val_loss: 1.7039 - val_sparse_categorical_accuracy: 0.3442\n",
            "Epoch 3/50\n",
            "1045/1047 [============================>.] - ETA: 0s - loss: 1.5477 - sparse_categorical_accuracy: 0.4090\n",
            "Epoch 3: val_loss improved from 1.70393 to 1.47868, saving model to ch3\n",
            "1047/1047 [==============================] - 18s 17ms/step - loss: 1.5475 - sparse_categorical_accuracy: 0.4091 - val_loss: 1.4787 - val_sparse_categorical_accuracy: 0.4504\n",
            "Epoch 4/50\n",
            "1044/1047 [============================>.] - ETA: 0s - loss: 1.3970 - sparse_categorical_accuracy: 0.4777\n",
            "Epoch 4: val_loss improved from 1.47868 to 1.39933, saving model to ch3\n",
            "1047/1047 [==============================] - 18s 17ms/step - loss: 1.3971 - sparse_categorical_accuracy: 0.4776 - val_loss: 1.3993 - val_sparse_categorical_accuracy: 0.4867\n",
            "Epoch 5/50\n",
            "1045/1047 [============================>.] - ETA: 0s - loss: 1.2600 - sparse_categorical_accuracy: 0.5383\n",
            "Epoch 5: val_loss improved from 1.39933 to 1.21128, saving model to ch3\n",
            "1047/1047 [==============================] - 18s 17ms/step - loss: 1.2599 - sparse_categorical_accuracy: 0.5383 - val_loss: 1.2113 - val_sparse_categorical_accuracy: 0.5607\n",
            "Epoch 6/50\n",
            "1046/1047 [============================>.] - ETA: 0s - loss: 1.1533 - sparse_categorical_accuracy: 0.5839\n",
            "Epoch 6: val_loss improved from 1.21128 to 1.17427, saving model to ch3\n",
            "1047/1047 [==============================] - 18s 17ms/step - loss: 1.1535 - sparse_categorical_accuracy: 0.5839 - val_loss: 1.1743 - val_sparse_categorical_accuracy: 0.5847\n",
            "Epoch 7/50\n",
            "1045/1047 [============================>.] - ETA: 0s - loss: 1.0514 - sparse_categorical_accuracy: 0.6260\n",
            "Epoch 7: val_loss improved from 1.17427 to 1.10391, saving model to ch3\n",
            "1047/1047 [==============================] - 18s 17ms/step - loss: 1.0518 - sparse_categorical_accuracy: 0.6259 - val_loss: 1.1039 - val_sparse_categorical_accuracy: 0.6165\n",
            "Epoch 8/50\n",
            "1045/1047 [============================>.] - ETA: 0s - loss: 0.9663 - sparse_categorical_accuracy: 0.6556\n",
            "Epoch 8: val_loss improved from 1.10391 to 1.09715, saving model to ch3\n",
            "1047/1047 [==============================] - 18s 17ms/step - loss: 0.9667 - sparse_categorical_accuracy: 0.6555 - val_loss: 1.0972 - val_sparse_categorical_accuracy: 0.6125\n",
            "Epoch 9/50\n",
            "1047/1047 [==============================] - ETA: 0s - loss: 0.8961 - sparse_categorical_accuracy: 0.6829\n",
            "Epoch 9: val_loss improved from 1.09715 to 1.03783, saving model to ch3\n",
            "1047/1047 [==============================] - 18s 17ms/step - loss: 0.8961 - sparse_categorical_accuracy: 0.6829 - val_loss: 1.0378 - val_sparse_categorical_accuracy: 0.6399\n",
            "Epoch 10/50\n",
            "1046/1047 [============================>.] - ETA: 0s - loss: 0.8206 - sparse_categorical_accuracy: 0.7101\n",
            "Epoch 10: val_loss improved from 1.03783 to 0.99269, saving model to ch3\n",
            "1047/1047 [==============================] - 18s 17ms/step - loss: 0.8204 - sparse_categorical_accuracy: 0.7102 - val_loss: 0.9927 - val_sparse_categorical_accuracy: 0.6584\n",
            "Epoch 11/50\n",
            "1045/1047 [============================>.] - ETA: 0s - loss: 0.7488 - sparse_categorical_accuracy: 0.7347\n",
            "Epoch 11: val_loss did not improve from 0.99269\n",
            "1047/1047 [==============================] - 17s 17ms/step - loss: 0.7486 - sparse_categorical_accuracy: 0.7348 - val_loss: 1.0196 - val_sparse_categorical_accuracy: 0.6532\n",
            "Epoch 12/50\n",
            "1046/1047 [============================>.] - ETA: 0s - loss: 0.6841 - sparse_categorical_accuracy: 0.7593\n",
            "Epoch 12: val_loss did not improve from 0.99269\n",
            "1047/1047 [==============================] - 17s 17ms/step - loss: 0.6840 - sparse_categorical_accuracy: 0.7594 - val_loss: 1.0388 - val_sparse_categorical_accuracy: 0.6540\n",
            "Epoch 13/50\n",
            "1045/1047 [============================>.] - ETA: 0s - loss: 0.6255 - sparse_categorical_accuracy: 0.7835\n",
            "Epoch 13: val_loss did not improve from 0.99269\n",
            "1047/1047 [==============================] - 17s 16ms/step - loss: 0.6254 - sparse_categorical_accuracy: 0.7835 - val_loss: 1.0017 - val_sparse_categorical_accuracy: 0.6663\n",
            "Epoch 14/50\n",
            "1047/1047 [==============================] - ETA: 0s - loss: 0.5605 - sparse_categorical_accuracy: 0.8038\n",
            "Epoch 14: val_loss did not improve from 0.99269\n",
            "1047/1047 [==============================] - 17s 16ms/step - loss: 0.5605 - sparse_categorical_accuracy: 0.8038 - val_loss: 1.0847 - val_sparse_categorical_accuracy: 0.6659\n",
            "Epoch 15/50\n",
            "1044/1047 [============================>.] - ETA: 0s - loss: 0.5199 - sparse_categorical_accuracy: 0.8215\n",
            "Epoch 15: val_loss did not improve from 0.99269\n",
            "1047/1047 [==============================] - 17s 16ms/step - loss: 0.5202 - sparse_categorical_accuracy: 0.8214 - val_loss: 1.1714 - val_sparse_categorical_accuracy: 0.6716\n",
            "Epoch 16/50\n",
            "1047/1047 [==============================] - ETA: 0s - loss: 0.8700 - sparse_categorical_accuracy: 0.6994\n",
            "Epoch 16: val_loss did not improve from 0.99269\n",
            "1047/1047 [==============================] - 18s 17ms/step - loss: 0.8700 - sparse_categorical_accuracy: 0.6994 - val_loss: 1.0727 - val_sparse_categorical_accuracy: 0.6695\n",
            "Epoch 17/50\n",
            "1045/1047 [============================>.] - ETA: 0s - loss: 0.4896 - sparse_categorical_accuracy: 0.8300\n",
            "Epoch 17: val_loss did not improve from 0.99269\n",
            "1047/1047 [==============================] - 17s 16ms/step - loss: 0.4895 - sparse_categorical_accuracy: 0.8301 - val_loss: 1.0787 - val_sparse_categorical_accuracy: 0.6822\n",
            "Epoch 18/50\n",
            "1045/1047 [============================>.] - ETA: 0s - loss: 0.3967 - sparse_categorical_accuracy: 0.8629\n",
            "Epoch 18: val_loss did not improve from 0.99269\n",
            "1047/1047 [==============================] - 17s 16ms/step - loss: 0.3965 - sparse_categorical_accuracy: 0.8629 - val_loss: 1.2257 - val_sparse_categorical_accuracy: 0.6815\n",
            "Epoch 19/50\n",
            "1044/1047 [============================>.] - ETA: 0s - loss: 0.3675 - sparse_categorical_accuracy: 0.8776\n",
            "Epoch 19: val_loss did not improve from 0.99269\n",
            "1047/1047 [==============================] - 17s 16ms/step - loss: 0.3688 - sparse_categorical_accuracy: 0.8773 - val_loss: 1.2496 - val_sparse_categorical_accuracy: 0.6796\n",
            "Epoch 20/50\n",
            "1045/1047 [============================>.] - ETA: 0s - loss: 0.3397 - sparse_categorical_accuracy: 0.8874\n",
            "Epoch 20: val_loss did not improve from 0.99269\n",
            "1047/1047 [==============================] - 17s 16ms/step - loss: 0.3401 - sparse_categorical_accuracy: 0.8871 - val_loss: 1.2812 - val_sparse_categorical_accuracy: 0.6709\n",
            "Epoch 21/50\n",
            "1047/1047 [==============================] - ETA: 0s - loss: 0.3308 - sparse_categorical_accuracy: 0.8898\n",
            "Epoch 21: val_loss did not improve from 0.99269\n",
            "1047/1047 [==============================] - 17s 16ms/step - loss: 0.3308 - sparse_categorical_accuracy: 0.8898 - val_loss: 1.1668 - val_sparse_categorical_accuracy: 0.6897\n",
            "Epoch 22/50\n",
            "1045/1047 [============================>.] - ETA: 0s - loss: 0.3279 - sparse_categorical_accuracy: 0.8891\n",
            "Epoch 22: val_loss did not improve from 0.99269\n",
            "1047/1047 [==============================] - 17s 16ms/step - loss: 0.3277 - sparse_categorical_accuracy: 0.8891 - val_loss: 1.4146 - val_sparse_categorical_accuracy: 0.6834\n",
            "Epoch 23/50\n",
            "1044/1047 [============================>.] - ETA: 0s - loss: 0.3016 - sparse_categorical_accuracy: 0.9012\n",
            "Epoch 23: val_loss did not improve from 0.99269\n",
            "1047/1047 [==============================] - 17s 16ms/step - loss: 0.3016 - sparse_categorical_accuracy: 0.9012 - val_loss: 1.3516 - val_sparse_categorical_accuracy: 0.6923\n",
            "Epoch 24/50\n",
            "1045/1047 [============================>.] - ETA: 0s - loss: 0.2964 - sparse_categorical_accuracy: 0.9008\n",
            "Epoch 24: val_loss did not improve from 0.99269\n",
            "1047/1047 [==============================] - 17s 16ms/step - loss: 0.2965 - sparse_categorical_accuracy: 0.9007 - val_loss: 1.3351 - val_sparse_categorical_accuracy: 0.6864\n",
            "Epoch 25/50\n",
            "1047/1047 [==============================] - ETA: 0s - loss: 0.2699 - sparse_categorical_accuracy: 0.9134\n",
            "Epoch 25: val_loss did not improve from 0.99269\n",
            "1047/1047 [==============================] - 17s 16ms/step - loss: 0.2699 - sparse_categorical_accuracy: 0.9134 - val_loss: 1.3269 - val_sparse_categorical_accuracy: 0.6846\n",
            "Epoch 26/50\n",
            "1044/1047 [============================>.] - ETA: 0s - loss: 0.2396 - sparse_categorical_accuracy: 0.9221\n",
            "Epoch 26: val_loss did not improve from 0.99269\n",
            "1047/1047 [==============================] - 17s 17ms/step - loss: 0.2393 - sparse_categorical_accuracy: 0.9221 - val_loss: 1.4180 - val_sparse_categorical_accuracy: 0.6962\n",
            "Epoch 27/50\n",
            "1045/1047 [============================>.] - ETA: 0s - loss: 0.3326 - sparse_categorical_accuracy: 0.8941\n",
            "Epoch 27: val_loss did not improve from 0.99269\n",
            "1047/1047 [==============================] - 17s 16ms/step - loss: 0.3327 - sparse_categorical_accuracy: 0.8941 - val_loss: 1.5880 - val_sparse_categorical_accuracy: 0.6820\n",
            "Epoch 28/50\n",
            "1044/1047 [============================>.] - ETA: 0s - loss: 0.2597 - sparse_categorical_accuracy: 0.9174\n",
            "Epoch 28: val_loss did not improve from 0.99269\n",
            "1047/1047 [==============================] - 17s 17ms/step - loss: 0.2593 - sparse_categorical_accuracy: 0.9176 - val_loss: 1.5839 - val_sparse_categorical_accuracy: 0.6992\n",
            "Epoch 29/50\n",
            "1044/1047 [============================>.] - ETA: 0s - loss: 0.2109 - sparse_categorical_accuracy: 0.9326\n",
            "Epoch 29: val_loss did not improve from 0.99269\n",
            "1047/1047 [==============================] - 17s 16ms/step - loss: 0.2108 - sparse_categorical_accuracy: 0.9326 - val_loss: 1.6535 - val_sparse_categorical_accuracy: 0.6768\n",
            "Epoch 30/50\n",
            "1045/1047 [============================>.] - ETA: 0s - loss: 0.1935 - sparse_categorical_accuracy: 0.9399\n",
            "Epoch 30: val_loss did not improve from 0.99269\n",
            "1047/1047 [==============================] - 17s 16ms/step - loss: 0.1937 - sparse_categorical_accuracy: 0.9398 - val_loss: 1.5002 - val_sparse_categorical_accuracy: 0.6802\n",
            "Epoch 31/50\n",
            "1047/1047 [==============================] - ETA: 0s - loss: 0.1997 - sparse_categorical_accuracy: 0.9369\n",
            "Epoch 31: val_loss did not improve from 0.99269\n",
            "1047/1047 [==============================] - 17s 17ms/step - loss: 0.1997 - sparse_categorical_accuracy: 0.9369 - val_loss: 1.4622 - val_sparse_categorical_accuracy: 0.6742\n",
            "Epoch 32/50\n",
            "1045/1047 [============================>.] - ETA: 0s - loss: 0.2168 - sparse_categorical_accuracy: 0.9334\n",
            "Epoch 32: val_loss did not improve from 0.99269\n",
            "1047/1047 [==============================] - 17s 17ms/step - loss: 0.2172 - sparse_categorical_accuracy: 0.9334 - val_loss: 1.4654 - val_sparse_categorical_accuracy: 0.6807\n",
            "Epoch 33/50\n",
            "1044/1047 [============================>.] - ETA: 0s - loss: 0.1947 - sparse_categorical_accuracy: 0.9382\n",
            "Epoch 33: val_loss did not improve from 0.99269\n",
            "1047/1047 [==============================] - 17s 17ms/step - loss: 0.1947 - sparse_categorical_accuracy: 0.9381 - val_loss: 1.3731 - val_sparse_categorical_accuracy: 0.6890\n",
            "Epoch 34/50\n",
            "1045/1047 [============================>.] - ETA: 0s - loss: 0.2090 - sparse_categorical_accuracy: 0.9362\n",
            "Epoch 34: val_loss did not improve from 0.99269\n",
            "1047/1047 [==============================] - 17s 16ms/step - loss: 0.2091 - sparse_categorical_accuracy: 0.9361 - val_loss: 1.4986 - val_sparse_categorical_accuracy: 0.6885\n",
            "Epoch 35/50\n",
            "1045/1047 [============================>.] - ETA: 0s - loss: 0.1838 - sparse_categorical_accuracy: 0.9423\n",
            "Epoch 35: val_loss did not improve from 0.99269\n",
            "1047/1047 [==============================] - 17s 16ms/step - loss: 0.1839 - sparse_categorical_accuracy: 0.9423 - val_loss: 1.7289 - val_sparse_categorical_accuracy: 0.6925\n",
            "Epoch 36/50\n",
            "1044/1047 [============================>.] - ETA: 0s - loss: 0.2530 - sparse_categorical_accuracy: 0.9216\n",
            "Epoch 36: val_loss did not improve from 0.99269\n",
            "1047/1047 [==============================] - 17s 16ms/step - loss: 0.2525 - sparse_categorical_accuracy: 0.9218 - val_loss: 1.5344 - val_sparse_categorical_accuracy: 0.7010\n",
            "Epoch 37/50\n",
            "1047/1047 [==============================] - ETA: 0s - loss: 0.2101 - sparse_categorical_accuracy: 0.9379\n",
            "Epoch 37: val_loss did not improve from 0.99269\n",
            "1047/1047 [==============================] - 17s 16ms/step - loss: 0.2101 - sparse_categorical_accuracy: 0.9379 - val_loss: 1.7305 - val_sparse_categorical_accuracy: 0.6940\n",
            "Epoch 38/50\n",
            "1044/1047 [============================>.] - ETA: 0s - loss: 0.1586 - sparse_categorical_accuracy: 0.9509\n",
            "Epoch 38: val_loss did not improve from 0.99269\n",
            "1047/1047 [==============================] - 17s 17ms/step - loss: 0.1587 - sparse_categorical_accuracy: 0.9509 - val_loss: 2.0891 - val_sparse_categorical_accuracy: 0.6879\n",
            "Epoch 39/50\n",
            "1047/1047 [==============================] - ETA: 0s - loss: 0.4411 - sparse_categorical_accuracy: 0.8733\n",
            "Epoch 39: val_loss did not improve from 0.99269\n",
            "1047/1047 [==============================] - 17s 17ms/step - loss: 0.4411 - sparse_categorical_accuracy: 0.8733 - val_loss: 1.6035 - val_sparse_categorical_accuracy: 0.6939\n",
            "Epoch 40/50\n",
            "1044/1047 [============================>.] - ETA: 0s - loss: 0.1428 - sparse_categorical_accuracy: 0.9599\n",
            "Epoch 40: val_loss did not improve from 0.99269\n",
            "1047/1047 [==============================] - 17s 17ms/step - loss: 0.1428 - sparse_categorical_accuracy: 0.9599 - val_loss: 1.8206 - val_sparse_categorical_accuracy: 0.6976\n",
            "Epoch 41/50\n",
            "1044/1047 [============================>.] - ETA: 0s - loss: 0.2449 - sparse_categorical_accuracy: 0.9289\n",
            "Epoch 41: val_loss did not improve from 0.99269\n",
            "1047/1047 [==============================] - 17s 16ms/step - loss: 0.2449 - sparse_categorical_accuracy: 0.9289 - val_loss: 1.3295 - val_sparse_categorical_accuracy: 0.6622\n",
            "Epoch 42/50\n",
            "1047/1047 [==============================] - ETA: 0s - loss: 0.1909 - sparse_categorical_accuracy: 0.9428\n",
            "Epoch 42: val_loss did not improve from 0.99269\n",
            "1047/1047 [==============================] - 17s 17ms/step - loss: 0.1909 - sparse_categorical_accuracy: 0.9428 - val_loss: 2.0129 - val_sparse_categorical_accuracy: 0.7000\n",
            "Epoch 43/50\n",
            "1045/1047 [============================>.] - ETA: 0s - loss: 0.2372 - sparse_categorical_accuracy: 0.9270\n",
            "Epoch 43: val_loss did not improve from 0.99269\n",
            "1047/1047 [==============================] - 17s 17ms/step - loss: 0.2370 - sparse_categorical_accuracy: 0.9270 - val_loss: 2.0375 - val_sparse_categorical_accuracy: 0.6818\n",
            "Epoch 44/50\n",
            "1044/1047 [============================>.] - ETA: 0s - loss: 0.1645 - sparse_categorical_accuracy: 0.9516\n",
            "Epoch 44: val_loss did not improve from 0.99269\n",
            "1047/1047 [==============================] - 17s 17ms/step - loss: 0.1642 - sparse_categorical_accuracy: 0.9517 - val_loss: 1.6203 - val_sparse_categorical_accuracy: 0.6886\n",
            "Epoch 45/50\n",
            "1044/1047 [============================>.] - ETA: 0s - loss: 0.1313 - sparse_categorical_accuracy: 0.9617\n",
            "Epoch 45: val_loss did not improve from 0.99269\n",
            "1047/1047 [==============================] - 17s 17ms/step - loss: 0.1314 - sparse_categorical_accuracy: 0.9616 - val_loss: 1.6893 - val_sparse_categorical_accuracy: 0.6945\n",
            "Epoch 46/50\n",
            "1047/1047 [==============================] - ETA: 0s - loss: 0.1920 - sparse_categorical_accuracy: 0.9436\n",
            "Epoch 46: val_loss did not improve from 0.99269\n",
            "1047/1047 [==============================] - 17s 17ms/step - loss: 0.1920 - sparse_categorical_accuracy: 0.9436 - val_loss: 1.3334 - val_sparse_categorical_accuracy: 0.6358\n",
            "Epoch 47/50\n",
            "1047/1047 [==============================] - ETA: 0s - loss: 0.1648 - sparse_categorical_accuracy: 0.9530\n",
            "Epoch 47: val_loss did not improve from 0.99269\n",
            "1047/1047 [==============================] - 17s 17ms/step - loss: 0.1648 - sparse_categorical_accuracy: 0.9530 - val_loss: 1.6299 - val_sparse_categorical_accuracy: 0.6994\n",
            "Epoch 48/50\n",
            "1046/1047 [============================>.] - ETA: 0s - loss: 0.2090 - sparse_categorical_accuracy: 0.9397\n",
            "Epoch 48: val_loss did not improve from 0.99269\n",
            "1047/1047 [==============================] - 17s 17ms/step - loss: 0.2088 - sparse_categorical_accuracy: 0.9398 - val_loss: 1.9569 - val_sparse_categorical_accuracy: 0.7021\n",
            "Epoch 49/50\n",
            "1047/1047 [==============================] - ETA: 0s - loss: 0.1415 - sparse_categorical_accuracy: 0.9581\n",
            "Epoch 49: val_loss did not improve from 0.99269\n",
            "1047/1047 [==============================] - 17s 17ms/step - loss: 0.1415 - sparse_categorical_accuracy: 0.9581 - val_loss: 1.9381 - val_sparse_categorical_accuracy: 0.6976\n",
            "Epoch 50/50\n",
            "1045/1047 [============================>.] - ETA: 0s - loss: 0.1587 - sparse_categorical_accuracy: 0.9556\n",
            "Epoch 50: val_loss did not improve from 0.99269\n",
            "1047/1047 [==============================] - 17s 16ms/step - loss: 0.1587 - sparse_categorical_accuracy: 0.9556 - val_loss: 1.7591 - val_sparse_categorical_accuracy: 0.7016\n"
          ]
        }
      ]
    },
    {
      "cell_type": "code",
      "execution_count": null,
      "metadata": {
        "colab": {
          "base_uri": "https://localhost:8080/"
        },
        "id": "Z0OWAjr5wCRM",
        "outputId": "e6c91dd5-4cbe-4ce4-d3b5-1ae96636dbcb"
      },
      "outputs": [
        {
          "output_type": "stream",
          "name": "stdout",
          "text": [
            "Epoch 1/40\n",
            "30/30 [==============================] - ETA: 0s - loss: 9.0117 - sparse_categorical_accuracy: 0.1061\n",
            "Epoch 1: val_loss improved from inf to 2.30041, saving model to ch3\n",
            "30/30 [==============================] - 21s 308ms/step - loss: 9.0117 - sparse_categorical_accuracy: 0.1061 - val_loss: 2.3004 - val_sparse_categorical_accuracy: 0.0950\n",
            "Epoch 2/40\n",
            "29/30 [============================>.] - ETA: 0s - loss: 2.2973 - sparse_categorical_accuracy: 0.1137\n",
            "Epoch 2: val_loss did not improve from 2.30041\n",
            "30/30 [==============================] - 9s 272ms/step - loss: 2.2968 - sparse_categorical_accuracy: 0.1139 - val_loss: 2.4607 - val_sparse_categorical_accuracy: 0.0930\n",
            "Epoch 3/40\n",
            "29/30 [============================>.] - ETA: 0s - loss: 2.2925 - sparse_categorical_accuracy: 0.1199\n",
            "Epoch 3: val_loss did not improve from 2.30041\n",
            "30/30 [==============================] - 9s 253ms/step - loss: 2.2929 - sparse_categorical_accuracy: 0.1192 - val_loss: 2.3035 - val_sparse_categorical_accuracy: 0.1060\n",
            "Epoch 4/40\n",
            "29/30 [============================>.] - ETA: 0s - loss: 2.3190 - sparse_categorical_accuracy: 0.0983\n",
            "Epoch 4: val_loss did not improve from 2.30041\n",
            "30/30 [==============================] - 8s 236ms/step - loss: 2.3188 - sparse_categorical_accuracy: 0.0992 - val_loss: 2.3023 - val_sparse_categorical_accuracy: 0.1030\n",
            "Epoch 5/40\n",
            "29/30 [============================>.] - ETA: 0s - loss: 2.3029 - sparse_categorical_accuracy: 0.0981\n",
            "Epoch 5: val_loss did not improve from 2.30041\n",
            "30/30 [==============================] - 8s 237ms/step - loss: 2.3025 - sparse_categorical_accuracy: 0.0984 - val_loss: 2.4462 - val_sparse_categorical_accuracy: 0.0950\n",
            "Epoch 6/40\n",
            "29/30 [============================>.] - ETA: 0s - loss: 2.3072 - sparse_categorical_accuracy: 0.1048\n",
            "Epoch 6: val_loss did not improve from 2.30041\n",
            "30/30 [==============================] - 9s 271ms/step - loss: 2.3073 - sparse_categorical_accuracy: 0.1043 - val_loss: 2.3025 - val_sparse_categorical_accuracy: 0.0950\n",
            "Epoch 7/40\n",
            "29/30 [============================>.] - ETA: 0s - loss: 2.3095 - sparse_categorical_accuracy: 0.1156\n",
            "Epoch 7: val_loss did not improve from 2.30041\n",
            "30/30 [==============================] - 9s 274ms/step - loss: 2.3094 - sparse_categorical_accuracy: 0.1157 - val_loss: 2.3016 - val_sparse_categorical_accuracy: 0.0890\n",
            "Epoch 8/40\n",
            "29/30 [============================>.] - ETA: 0s - loss: 2.3720 - sparse_categorical_accuracy: 0.1070\n",
            "Epoch 8: val_loss improved from 2.30041 to 2.30027, saving model to ch3\n",
            "30/30 [==============================] - 8s 266ms/step - loss: 2.3721 - sparse_categorical_accuracy: 0.1067 - val_loss: 2.3003 - val_sparse_categorical_accuracy: 0.1030\n",
            "Epoch 9/40\n",
            "29/30 [============================>.] - ETA: 0s - loss: 2.3094 - sparse_categorical_accuracy: 0.1048\n",
            "Epoch 9: val_loss improved from 2.30027 to 2.29554, saving model to ch3\n",
            "30/30 [==============================] - 8s 262ms/step - loss: 2.3093 - sparse_categorical_accuracy: 0.1045 - val_loss: 2.2955 - val_sparse_categorical_accuracy: 0.1180\n",
            "Epoch 10/40\n",
            "29/30 [============================>.] - ETA: 0s - loss: 2.2643 - sparse_categorical_accuracy: 0.1317\n",
            "Epoch 10: val_loss did not improve from 2.29554\n",
            "30/30 [==============================] - 8s 235ms/step - loss: 2.2655 - sparse_categorical_accuracy: 0.1315 - val_loss: 2.3137 - val_sparse_categorical_accuracy: 0.1160\n",
            "Epoch 11/40\n",
            "29/30 [============================>.] - ETA: 0s - loss: 2.1170 - sparse_categorical_accuracy: 0.1641\n",
            "Epoch 11: val_loss improved from 2.29554 to 2.07505, saving model to ch3\n",
            "30/30 [==============================] - 9s 299ms/step - loss: 2.1176 - sparse_categorical_accuracy: 0.1653 - val_loss: 2.0751 - val_sparse_categorical_accuracy: 0.1460\n",
            "Epoch 12/40\n",
            "29/30 [============================>.] - ETA: 0s - loss: 2.0139 - sparse_categorical_accuracy: 0.1983\n",
            "Epoch 12: val_loss improved from 2.07505 to 2.02485, saving model to ch3\n",
            "30/30 [==============================] - 9s 298ms/step - loss: 2.0153 - sparse_categorical_accuracy: 0.1968 - val_loss: 2.0249 - val_sparse_categorical_accuracy: 0.1610\n",
            "Epoch 13/40\n",
            "29/30 [============================>.] - ETA: 0s - loss: 1.9191 - sparse_categorical_accuracy: 0.2177\n",
            "Epoch 13: val_loss improved from 2.02485 to 1.88315, saving model to ch3\n",
            "30/30 [==============================] - 8s 261ms/step - loss: 1.9183 - sparse_categorical_accuracy: 0.2173 - val_loss: 1.8831 - val_sparse_categorical_accuracy: 0.2580\n",
            "Epoch 14/40\n",
            "29/30 [============================>.] - ETA: 0s - loss: 1.8164 - sparse_categorical_accuracy: 0.2500\n",
            "Epoch 14: val_loss improved from 1.88315 to 1.87043, saving model to ch3\n",
            "30/30 [==============================] - 8s 262ms/step - loss: 1.8155 - sparse_categorical_accuracy: 0.2504 - val_loss: 1.8704 - val_sparse_categorical_accuracy: 0.2520\n",
            "Epoch 15/40\n",
            "29/30 [============================>.] - ETA: 0s - loss: 1.7854 - sparse_categorical_accuracy: 0.2675\n",
            "Epoch 15: val_loss improved from 1.87043 to 1.75160, saving model to ch3\n",
            "30/30 [==============================] - 10s 311ms/step - loss: 1.7861 - sparse_categorical_accuracy: 0.2672 - val_loss: 1.7516 - val_sparse_categorical_accuracy: 0.2630\n",
            "Epoch 16/40\n",
            "29/30 [============================>.] - ETA: 0s - loss: 1.6893 - sparse_categorical_accuracy: 0.3033\n",
            "Epoch 16: val_loss did not improve from 1.75160\n",
            "30/30 [==============================] - 8s 239ms/step - loss: 1.6882 - sparse_categorical_accuracy: 0.3053 - val_loss: 1.7943 - val_sparse_categorical_accuracy: 0.2720\n",
            "Epoch 17/40\n",
            "29/30 [============================>.] - ETA: 0s - loss: 1.6551 - sparse_categorical_accuracy: 0.3144\n",
            "Epoch 17: val_loss improved from 1.75160 to 1.71434, saving model to ch3\n",
            "30/30 [==============================] - 8s 262ms/step - loss: 1.6531 - sparse_categorical_accuracy: 0.3149 - val_loss: 1.7143 - val_sparse_categorical_accuracy: 0.3140\n",
            "Epoch 18/40\n",
            "29/30 [============================>.] - ETA: 0s - loss: 1.5975 - sparse_categorical_accuracy: 0.3486\n",
            "Epoch 18: val_loss improved from 1.71434 to 1.67399, saving model to ch3\n",
            "30/30 [==============================] - 8s 261ms/step - loss: 1.5988 - sparse_categorical_accuracy: 0.3480 - val_loss: 1.6740 - val_sparse_categorical_accuracy: 0.3050\n",
            "Epoch 19/40\n",
            "29/30 [============================>.] - ETA: 0s - loss: 1.5995 - sparse_categorical_accuracy: 0.3464\n",
            "Epoch 19: val_loss improved from 1.67399 to 1.64475, saving model to ch3\n",
            "30/30 [==============================] - 9s 298ms/step - loss: 1.6007 - sparse_categorical_accuracy: 0.3461 - val_loss: 1.6447 - val_sparse_categorical_accuracy: 0.3300\n",
            "Epoch 20/40\n",
            "29/30 [============================>.] - ETA: 0s - loss: 1.5495 - sparse_categorical_accuracy: 0.3785\n",
            "Epoch 20: val_loss improved from 1.64475 to 1.58083, saving model to ch3\n",
            "30/30 [==============================] - 8s 261ms/step - loss: 1.5486 - sparse_categorical_accuracy: 0.3776 - val_loss: 1.5808 - val_sparse_categorical_accuracy: 0.3670\n",
            "Epoch 21/40\n",
            "29/30 [============================>.] - ETA: 0s - loss: 1.4962 - sparse_categorical_accuracy: 0.4036\n",
            "Epoch 21: val_loss did not improve from 1.58083\n",
            "30/30 [==============================] - 9s 271ms/step - loss: 1.4990 - sparse_categorical_accuracy: 0.4021 - val_loss: 1.5824 - val_sparse_categorical_accuracy: 0.3460\n",
            "Epoch 22/40\n",
            "29/30 [============================>.] - ETA: 0s - loss: 1.4677 - sparse_categorical_accuracy: 0.4046\n",
            "Epoch 22: val_loss did not improve from 1.58083\n",
            "30/30 [==============================] - 9s 292ms/step - loss: 1.4638 - sparse_categorical_accuracy: 0.4061 - val_loss: 1.5888 - val_sparse_categorical_accuracy: 0.3790\n",
            "Epoch 23/40\n",
            "29/30 [============================>.] - ETA: 0s - loss: 1.4270 - sparse_categorical_accuracy: 0.4321\n",
            "Epoch 23: val_loss improved from 1.58083 to 1.58048, saving model to ch3\n",
            "30/30 [==============================] - 8s 264ms/step - loss: 1.4268 - sparse_categorical_accuracy: 0.4307 - val_loss: 1.5805 - val_sparse_categorical_accuracy: 0.3820\n",
            "Epoch 24/40\n",
            "29/30 [============================>.] - ETA: 0s - loss: 1.3584 - sparse_categorical_accuracy: 0.4677\n",
            "Epoch 24: val_loss improved from 1.58048 to 1.51281, saving model to ch3\n",
            "30/30 [==============================] - 8s 263ms/step - loss: 1.3589 - sparse_categorical_accuracy: 0.4672 - val_loss: 1.5128 - val_sparse_categorical_accuracy: 0.4200\n",
            "Epoch 25/40\n",
            "29/30 [============================>.] - ETA: 0s - loss: 1.3294 - sparse_categorical_accuracy: 0.4774\n",
            "Epoch 25: val_loss did not improve from 1.51281\n",
            "30/30 [==============================] - 8s 236ms/step - loss: 1.3304 - sparse_categorical_accuracy: 0.4763 - val_loss: 1.6161 - val_sparse_categorical_accuracy: 0.3990\n",
            "Epoch 26/40\n",
            "29/30 [============================>.] - ETA: 0s - loss: 1.2971 - sparse_categorical_accuracy: 0.4876\n",
            "Epoch 26: val_loss did not improve from 1.51281\n",
            "30/30 [==============================] - 9s 272ms/step - loss: 1.2981 - sparse_categorical_accuracy: 0.4869 - val_loss: 1.5388 - val_sparse_categorical_accuracy: 0.4230\n",
            "Epoch 27/40\n",
            "29/30 [============================>.] - ETA: 0s - loss: 1.2546 - sparse_categorical_accuracy: 0.5046\n",
            "Epoch 27: val_loss did not improve from 1.51281\n",
            "30/30 [==============================] - 9s 273ms/step - loss: 1.2531 - sparse_categorical_accuracy: 0.5051 - val_loss: 1.5865 - val_sparse_categorical_accuracy: 0.4250\n",
            "Epoch 28/40\n",
            "29/30 [============================>.] - ETA: 0s - loss: 1.2311 - sparse_categorical_accuracy: 0.5283\n",
            "Epoch 28: val_loss did not improve from 1.51281\n",
            "30/30 [==============================] - 9s 272ms/step - loss: 1.2303 - sparse_categorical_accuracy: 0.5277 - val_loss: 1.6064 - val_sparse_categorical_accuracy: 0.4170\n",
            "Epoch 29/40\n",
            "29/30 [============================>.] - ETA: 0s - loss: 1.2099 - sparse_categorical_accuracy: 0.5272\n",
            "Epoch 29: val_loss improved from 1.51281 to 1.42685, saving model to ch3\n",
            "30/30 [==============================] - 9s 298ms/step - loss: 1.2095 - sparse_categorical_accuracy: 0.5275 - val_loss: 1.4268 - val_sparse_categorical_accuracy: 0.4680\n",
            "Epoch 30/40\n",
            "29/30 [============================>.] - ETA: 0s - loss: 1.1165 - sparse_categorical_accuracy: 0.5593\n",
            "Epoch 30: val_loss did not improve from 1.42685\n",
            "30/30 [==============================] - 8s 237ms/step - loss: 1.1169 - sparse_categorical_accuracy: 0.5595 - val_loss: 1.4993 - val_sparse_categorical_accuracy: 0.4630\n",
            "Epoch 31/40\n",
            "29/30 [============================>.] - ETA: 0s - loss: 1.0281 - sparse_categorical_accuracy: 0.6048\n",
            "Epoch 31: val_loss did not improve from 1.42685\n",
            "30/30 [==============================] - 9s 271ms/step - loss: 1.0283 - sparse_categorical_accuracy: 0.6045 - val_loss: 1.5498 - val_sparse_categorical_accuracy: 0.4890\n",
            "Epoch 32/40\n",
            "29/30 [============================>.] - ETA: 0s - loss: 0.9838 - sparse_categorical_accuracy: 0.6245\n",
            "Epoch 32: val_loss did not improve from 1.42685\n",
            "30/30 [==============================] - 9s 275ms/step - loss: 0.9826 - sparse_categorical_accuracy: 0.6264 - val_loss: 1.4987 - val_sparse_categorical_accuracy: 0.4830\n",
            "Epoch 33/40\n",
            "29/30 [============================>.] - ETA: 0s - loss: 0.8820 - sparse_categorical_accuracy: 0.6627\n",
            "Epoch 33: val_loss did not improve from 1.42685\n",
            "30/30 [==============================] - 9s 272ms/step - loss: 0.8804 - sparse_categorical_accuracy: 0.6635 - val_loss: 1.7701 - val_sparse_categorical_accuracy: 0.4630\n",
            "Epoch 34/40\n",
            "29/30 [============================>.] - ETA: 0s - loss: 0.8906 - sparse_categorical_accuracy: 0.6668\n",
            "Epoch 34: val_loss did not improve from 1.42685\n",
            "30/30 [==============================] - 8s 239ms/step - loss: 0.8891 - sparse_categorical_accuracy: 0.6672 - val_loss: 1.6218 - val_sparse_categorical_accuracy: 0.4750\n",
            "Epoch 35/40\n",
            "29/30 [============================>.] - ETA: 0s - loss: 0.9220 - sparse_categorical_accuracy: 0.6689\n",
            "Epoch 35: val_loss did not improve from 1.42685\n",
            "30/30 [==============================] - 8s 237ms/step - loss: 0.9214 - sparse_categorical_accuracy: 0.6688 - val_loss: 1.5908 - val_sparse_categorical_accuracy: 0.4800\n",
            "Epoch 36/40\n",
            "29/30 [============================>.] - ETA: 0s - loss: 0.7844 - sparse_categorical_accuracy: 0.6994\n",
            "Epoch 36: val_loss did not improve from 1.42685\n",
            "30/30 [==============================] - 9s 273ms/step - loss: 0.7869 - sparse_categorical_accuracy: 0.6995 - val_loss: 1.6351 - val_sparse_categorical_accuracy: 0.5000\n",
            "Epoch 37/40\n",
            "29/30 [============================>.] - ETA: 0s - loss: 0.6757 - sparse_categorical_accuracy: 0.7516\n",
            "Epoch 37: val_loss did not improve from 1.42685\n",
            "30/30 [==============================] - 9s 271ms/step - loss: 0.6743 - sparse_categorical_accuracy: 0.7523 - val_loss: 1.7624 - val_sparse_categorical_accuracy: 0.4990\n",
            "Epoch 38/40\n",
            "29/30 [============================>.] - ETA: 0s - loss: 0.6116 - sparse_categorical_accuracy: 0.7783\n",
            "Epoch 38: val_loss did not improve from 1.42685\n",
            "30/30 [==============================] - 8s 236ms/step - loss: 0.6109 - sparse_categorical_accuracy: 0.7789 - val_loss: 1.8354 - val_sparse_categorical_accuracy: 0.4830\n",
            "Epoch 39/40\n",
            "29/30 [============================>.] - ETA: 0s - loss: 0.5554 - sparse_categorical_accuracy: 0.7947\n",
            "Epoch 39: val_loss did not improve from 1.42685\n",
            "30/30 [==============================] - 9s 273ms/step - loss: 0.5552 - sparse_categorical_accuracy: 0.7949 - val_loss: 1.8899 - val_sparse_categorical_accuracy: 0.4640\n",
            "Epoch 40/40\n",
            "29/30 [============================>.] - ETA: 0s - loss: 0.5560 - sparse_categorical_accuracy: 0.7958\n",
            "Epoch 40: val_loss did not improve from 1.42685\n",
            "30/30 [==============================] - 9s 273ms/step - loss: 0.5554 - sparse_categorical_accuracy: 0.7963 - val_loss: 1.9196 - val_sparse_categorical_accuracy: 0.5120\n"
          ]
        }
      ],
      "source": [
        "#n1.evaluate(test_dataset)\n",
        "normal = NormalModel()\n",
        "normal.compile(\n",
        "    optimizer=tf.keras.optimizers.Adam(0.001),\n",
        "    loss='sparse_categorical_crossentropy',\n",
        "    metrics='sparse_categorical_accuracy'\n",
        ")\n",
        "history = normal.fit(labeled_train_dataset,validation_data=labeled_val_dataset,epochs=40,callbacks=[checkpoint3,tensorboard_callback])"
      ]
    },
    {
      "cell_type": "code",
      "execution_count": null,
      "metadata": {
        "colab": {
          "background_save": true,
          "base_uri": "https://localhost:8080/"
        },
        "id": "J2kTqm2qCFCC",
        "outputId": "ca194651-1bbf-4aa0-f48e-1f968d4b19c8"
      },
      "outputs": [
        {
          "name": "stdout",
          "output_type": "stream",
          "text": [
            "Epoch 1/50\n",
            "30/30 [==============================] - ETA: 0s - loss: 2.1829 - sparse_categorical_accuracy: 0.2155  \n",
            "Epoch 1: val_loss improved from inf to 39.27564, saving model to ch2\n",
            "30/30 [==============================] - 2361s 79s/step - loss: 2.1829 - sparse_categorical_accuracy: 0.2155 - val_loss: 39.2756 - val_sparse_categorical_accuracy: 0.0860\n",
            "Epoch 2/50\n",
            "24/30 [=======================>......] - ETA: 7:25 - loss: 1.7299 - sparse_categorical_accuracy: 0.3001"
          ]
        },
        {
          "ename": "KeyboardInterrupt",
          "evalue": "ignored",
          "output_type": "error",
          "traceback": [
            "\u001b[0;31m---------------------------------------------------------------------------\u001b[0m",
            "\u001b[0;31mKeyboardInterrupt\u001b[0m                         Traceback (most recent call last)",
            "\u001b[0;32m<ipython-input-7-5f9143670457>\u001b[0m in \u001b[0;36m<module>\u001b[0;34m()\u001b[0m\n\u001b[1;32m      6\u001b[0m )\n\u001b[1;32m      7\u001b[0m \u001b[0;31m#modeln2.load_weights('ch2')\u001b[0m\u001b[0;34m\u001b[0m\u001b[0;34m\u001b[0m\u001b[0;34m\u001b[0m\u001b[0m\n\u001b[0;32m----> 8\u001b[0;31m \u001b[0mmodeln2\u001b[0m\u001b[0;34m.\u001b[0m\u001b[0mfit\u001b[0m\u001b[0;34m(\u001b[0m\u001b[0mlabeled_train_dataset\u001b[0m\u001b[0;34m,\u001b[0m\u001b[0mvalidation_data\u001b[0m\u001b[0;34m=\u001b[0m\u001b[0mlabeled_val_dataset\u001b[0m\u001b[0;34m,\u001b[0m\u001b[0mepochs\u001b[0m\u001b[0;34m=\u001b[0m\u001b[0;36m50\u001b[0m\u001b[0;34m,\u001b[0m\u001b[0mcallbacks\u001b[0m\u001b[0;34m=\u001b[0m\u001b[0;34m[\u001b[0m\u001b[0mcheckpoint2\u001b[0m\u001b[0;34m,\u001b[0m\u001b[0mtensorboard_callback\u001b[0m\u001b[0;34m]\u001b[0m\u001b[0;34m)\u001b[0m\u001b[0;34m\u001b[0m\u001b[0;34m\u001b[0m\u001b[0m\n\u001b[0m",
            "\u001b[0;32m/usr/local/lib/python3.7/dist-packages/keras/utils/traceback_utils.py\u001b[0m in \u001b[0;36merror_handler\u001b[0;34m(*args, **kwargs)\u001b[0m\n\u001b[1;32m     62\u001b[0m     \u001b[0mfiltered_tb\u001b[0m \u001b[0;34m=\u001b[0m \u001b[0;32mNone\u001b[0m\u001b[0;34m\u001b[0m\u001b[0;34m\u001b[0m\u001b[0m\n\u001b[1;32m     63\u001b[0m     \u001b[0;32mtry\u001b[0m\u001b[0;34m:\u001b[0m\u001b[0;34m\u001b[0m\u001b[0;34m\u001b[0m\u001b[0m\n\u001b[0;32m---> 64\u001b[0;31m       \u001b[0;32mreturn\u001b[0m \u001b[0mfn\u001b[0m\u001b[0;34m(\u001b[0m\u001b[0;34m*\u001b[0m\u001b[0margs\u001b[0m\u001b[0;34m,\u001b[0m \u001b[0;34m**\u001b[0m\u001b[0mkwargs\u001b[0m\u001b[0;34m)\u001b[0m\u001b[0;34m\u001b[0m\u001b[0;34m\u001b[0m\u001b[0m\n\u001b[0m\u001b[1;32m     65\u001b[0m     \u001b[0;32mexcept\u001b[0m \u001b[0mException\u001b[0m \u001b[0;32mas\u001b[0m \u001b[0me\u001b[0m\u001b[0;34m:\u001b[0m  \u001b[0;31m# pylint: disable=broad-except\u001b[0m\u001b[0;34m\u001b[0m\u001b[0;34m\u001b[0m\u001b[0m\n\u001b[1;32m     66\u001b[0m       \u001b[0mfiltered_tb\u001b[0m \u001b[0;34m=\u001b[0m \u001b[0m_process_traceback_frames\u001b[0m\u001b[0;34m(\u001b[0m\u001b[0me\u001b[0m\u001b[0;34m.\u001b[0m\u001b[0m__traceback__\u001b[0m\u001b[0;34m)\u001b[0m\u001b[0;34m\u001b[0m\u001b[0;34m\u001b[0m\u001b[0m\n",
            "\u001b[0;32m/usr/local/lib/python3.7/dist-packages/keras/engine/training.py\u001b[0m in \u001b[0;36mfit\u001b[0;34m(self, x, y, batch_size, epochs, verbose, callbacks, validation_split, validation_data, shuffle, class_weight, sample_weight, initial_epoch, steps_per_epoch, validation_steps, validation_batch_size, validation_freq, max_queue_size, workers, use_multiprocessing)\u001b[0m\n\u001b[1;32m   1382\u001b[0m                 _r=1):\n\u001b[1;32m   1383\u001b[0m               \u001b[0mcallbacks\u001b[0m\u001b[0;34m.\u001b[0m\u001b[0mon_train_batch_begin\u001b[0m\u001b[0;34m(\u001b[0m\u001b[0mstep\u001b[0m\u001b[0;34m)\u001b[0m\u001b[0;34m\u001b[0m\u001b[0;34m\u001b[0m\u001b[0m\n\u001b[0;32m-> 1384\u001b[0;31m               \u001b[0mtmp_logs\u001b[0m \u001b[0;34m=\u001b[0m \u001b[0mself\u001b[0m\u001b[0;34m.\u001b[0m\u001b[0mtrain_function\u001b[0m\u001b[0;34m(\u001b[0m\u001b[0miterator\u001b[0m\u001b[0;34m)\u001b[0m\u001b[0;34m\u001b[0m\u001b[0;34m\u001b[0m\u001b[0m\n\u001b[0m\u001b[1;32m   1385\u001b[0m               \u001b[0;32mif\u001b[0m \u001b[0mdata_handler\u001b[0m\u001b[0;34m.\u001b[0m\u001b[0mshould_sync\u001b[0m\u001b[0;34m:\u001b[0m\u001b[0;34m\u001b[0m\u001b[0;34m\u001b[0m\u001b[0m\n\u001b[1;32m   1386\u001b[0m                 \u001b[0mcontext\u001b[0m\u001b[0;34m.\u001b[0m\u001b[0masync_wait\u001b[0m\u001b[0;34m(\u001b[0m\u001b[0;34m)\u001b[0m\u001b[0;34m\u001b[0m\u001b[0;34m\u001b[0m\u001b[0m\n",
            "\u001b[0;32m/usr/local/lib/python3.7/dist-packages/tensorflow/python/util/traceback_utils.py\u001b[0m in \u001b[0;36merror_handler\u001b[0;34m(*args, **kwargs)\u001b[0m\n\u001b[1;32m    148\u001b[0m     \u001b[0mfiltered_tb\u001b[0m \u001b[0;34m=\u001b[0m \u001b[0;32mNone\u001b[0m\u001b[0;34m\u001b[0m\u001b[0;34m\u001b[0m\u001b[0m\n\u001b[1;32m    149\u001b[0m     \u001b[0;32mtry\u001b[0m\u001b[0;34m:\u001b[0m\u001b[0;34m\u001b[0m\u001b[0;34m\u001b[0m\u001b[0m\n\u001b[0;32m--> 150\u001b[0;31m       \u001b[0;32mreturn\u001b[0m \u001b[0mfn\u001b[0m\u001b[0;34m(\u001b[0m\u001b[0;34m*\u001b[0m\u001b[0margs\u001b[0m\u001b[0;34m,\u001b[0m \u001b[0;34m**\u001b[0m\u001b[0mkwargs\u001b[0m\u001b[0;34m)\u001b[0m\u001b[0;34m\u001b[0m\u001b[0;34m\u001b[0m\u001b[0m\n\u001b[0m\u001b[1;32m    151\u001b[0m     \u001b[0;32mexcept\u001b[0m \u001b[0mException\u001b[0m \u001b[0;32mas\u001b[0m \u001b[0me\u001b[0m\u001b[0;34m:\u001b[0m\u001b[0;34m\u001b[0m\u001b[0;34m\u001b[0m\u001b[0m\n\u001b[1;32m    152\u001b[0m       \u001b[0mfiltered_tb\u001b[0m \u001b[0;34m=\u001b[0m \u001b[0m_process_traceback_frames\u001b[0m\u001b[0;34m(\u001b[0m\u001b[0me\u001b[0m\u001b[0;34m.\u001b[0m\u001b[0m__traceback__\u001b[0m\u001b[0;34m)\u001b[0m\u001b[0;34m\u001b[0m\u001b[0;34m\u001b[0m\u001b[0m\n",
            "\u001b[0;32m/usr/local/lib/python3.7/dist-packages/tensorflow/python/eager/def_function.py\u001b[0m in \u001b[0;36m__call__\u001b[0;34m(self, *args, **kwds)\u001b[0m\n\u001b[1;32m    913\u001b[0m \u001b[0;34m\u001b[0m\u001b[0m\n\u001b[1;32m    914\u001b[0m       \u001b[0;32mwith\u001b[0m \u001b[0mOptionalXlaContext\u001b[0m\u001b[0;34m(\u001b[0m\u001b[0mself\u001b[0m\u001b[0;34m.\u001b[0m\u001b[0m_jit_compile\u001b[0m\u001b[0;34m)\u001b[0m\u001b[0;34m:\u001b[0m\u001b[0;34m\u001b[0m\u001b[0;34m\u001b[0m\u001b[0m\n\u001b[0;32m--> 915\u001b[0;31m         \u001b[0mresult\u001b[0m \u001b[0;34m=\u001b[0m \u001b[0mself\u001b[0m\u001b[0;34m.\u001b[0m\u001b[0m_call\u001b[0m\u001b[0;34m(\u001b[0m\u001b[0;34m*\u001b[0m\u001b[0margs\u001b[0m\u001b[0;34m,\u001b[0m \u001b[0;34m**\u001b[0m\u001b[0mkwds\u001b[0m\u001b[0;34m)\u001b[0m\u001b[0;34m\u001b[0m\u001b[0;34m\u001b[0m\u001b[0m\n\u001b[0m\u001b[1;32m    916\u001b[0m \u001b[0;34m\u001b[0m\u001b[0m\n\u001b[1;32m    917\u001b[0m       \u001b[0mnew_tracing_count\u001b[0m \u001b[0;34m=\u001b[0m \u001b[0mself\u001b[0m\u001b[0;34m.\u001b[0m\u001b[0mexperimental_get_tracing_count\u001b[0m\u001b[0;34m(\u001b[0m\u001b[0;34m)\u001b[0m\u001b[0;34m\u001b[0m\u001b[0;34m\u001b[0m\u001b[0m\n",
            "\u001b[0;32m/usr/local/lib/python3.7/dist-packages/tensorflow/python/eager/def_function.py\u001b[0m in \u001b[0;36m_call\u001b[0;34m(self, *args, **kwds)\u001b[0m\n\u001b[1;32m    945\u001b[0m       \u001b[0;31m# In this case we have created variables on the first call, so we run the\u001b[0m\u001b[0;34m\u001b[0m\u001b[0;34m\u001b[0m\u001b[0;34m\u001b[0m\u001b[0m\n\u001b[1;32m    946\u001b[0m       \u001b[0;31m# defunned version which is guaranteed to never create variables.\u001b[0m\u001b[0;34m\u001b[0m\u001b[0;34m\u001b[0m\u001b[0;34m\u001b[0m\u001b[0m\n\u001b[0;32m--> 947\u001b[0;31m       \u001b[0;32mreturn\u001b[0m \u001b[0mself\u001b[0m\u001b[0;34m.\u001b[0m\u001b[0m_stateless_fn\u001b[0m\u001b[0;34m(\u001b[0m\u001b[0;34m*\u001b[0m\u001b[0margs\u001b[0m\u001b[0;34m,\u001b[0m \u001b[0;34m**\u001b[0m\u001b[0mkwds\u001b[0m\u001b[0;34m)\u001b[0m  \u001b[0;31m# pylint: disable=not-callable\u001b[0m\u001b[0;34m\u001b[0m\u001b[0;34m\u001b[0m\u001b[0m\n\u001b[0m\u001b[1;32m    948\u001b[0m     \u001b[0;32melif\u001b[0m \u001b[0mself\u001b[0m\u001b[0;34m.\u001b[0m\u001b[0m_stateful_fn\u001b[0m \u001b[0;32mis\u001b[0m \u001b[0;32mnot\u001b[0m \u001b[0;32mNone\u001b[0m\u001b[0;34m:\u001b[0m\u001b[0;34m\u001b[0m\u001b[0;34m\u001b[0m\u001b[0m\n\u001b[1;32m    949\u001b[0m       \u001b[0;31m# Release the lock early so that multiple threads can perform the call\u001b[0m\u001b[0;34m\u001b[0m\u001b[0;34m\u001b[0m\u001b[0;34m\u001b[0m\u001b[0m\n",
            "\u001b[0;32m/usr/local/lib/python3.7/dist-packages/tensorflow/python/eager/function.py\u001b[0m in \u001b[0;36m__call__\u001b[0;34m(self, *args, **kwargs)\u001b[0m\n\u001b[1;32m   2955\u001b[0m        filtered_flat_args) = self._maybe_define_function(args, kwargs)\n\u001b[1;32m   2956\u001b[0m     return graph_function._call_flat(\n\u001b[0;32m-> 2957\u001b[0;31m         filtered_flat_args, captured_inputs=graph_function.captured_inputs)  # pylint: disable=protected-access\n\u001b[0m\u001b[1;32m   2958\u001b[0m \u001b[0;34m\u001b[0m\u001b[0m\n\u001b[1;32m   2959\u001b[0m   \u001b[0;34m@\u001b[0m\u001b[0mproperty\u001b[0m\u001b[0;34m\u001b[0m\u001b[0;34m\u001b[0m\u001b[0m\n",
            "\u001b[0;32m/usr/local/lib/python3.7/dist-packages/tensorflow/python/eager/function.py\u001b[0m in \u001b[0;36m_call_flat\u001b[0;34m(self, args, captured_inputs, cancellation_manager)\u001b[0m\n\u001b[1;32m   1852\u001b[0m       \u001b[0;31m# No tape is watching; skip to running the function.\u001b[0m\u001b[0;34m\u001b[0m\u001b[0;34m\u001b[0m\u001b[0;34m\u001b[0m\u001b[0m\n\u001b[1;32m   1853\u001b[0m       return self._build_call_outputs(self._inference_function.call(\n\u001b[0;32m-> 1854\u001b[0;31m           ctx, args, cancellation_manager=cancellation_manager))\n\u001b[0m\u001b[1;32m   1855\u001b[0m     forward_backward = self._select_forward_and_backward_functions(\n\u001b[1;32m   1856\u001b[0m         \u001b[0margs\u001b[0m\u001b[0;34m,\u001b[0m\u001b[0;34m\u001b[0m\u001b[0;34m\u001b[0m\u001b[0m\n",
            "\u001b[0;32m/usr/local/lib/python3.7/dist-packages/tensorflow/python/eager/function.py\u001b[0m in \u001b[0;36mcall\u001b[0;34m(self, ctx, args, cancellation_manager)\u001b[0m\n\u001b[1;32m    502\u001b[0m               \u001b[0minputs\u001b[0m\u001b[0;34m=\u001b[0m\u001b[0margs\u001b[0m\u001b[0;34m,\u001b[0m\u001b[0;34m\u001b[0m\u001b[0;34m\u001b[0m\u001b[0m\n\u001b[1;32m    503\u001b[0m               \u001b[0mattrs\u001b[0m\u001b[0;34m=\u001b[0m\u001b[0mattrs\u001b[0m\u001b[0;34m,\u001b[0m\u001b[0;34m\u001b[0m\u001b[0;34m\u001b[0m\u001b[0m\n\u001b[0;32m--> 504\u001b[0;31m               ctx=ctx)\n\u001b[0m\u001b[1;32m    505\u001b[0m         \u001b[0;32melse\u001b[0m\u001b[0;34m:\u001b[0m\u001b[0;34m\u001b[0m\u001b[0;34m\u001b[0m\u001b[0m\n\u001b[1;32m    506\u001b[0m           outputs = execute.execute_with_cancellation(\n",
            "\u001b[0;32m/usr/local/lib/python3.7/dist-packages/tensorflow/python/eager/execute.py\u001b[0m in \u001b[0;36mquick_execute\u001b[0;34m(op_name, num_outputs, inputs, attrs, ctx, name)\u001b[0m\n\u001b[1;32m     53\u001b[0m     \u001b[0mctx\u001b[0m\u001b[0;34m.\u001b[0m\u001b[0mensure_initialized\u001b[0m\u001b[0;34m(\u001b[0m\u001b[0;34m)\u001b[0m\u001b[0;34m\u001b[0m\u001b[0;34m\u001b[0m\u001b[0m\n\u001b[1;32m     54\u001b[0m     tensors = pywrap_tfe.TFE_Py_Execute(ctx._handle, device_name, op_name,\n\u001b[0;32m---> 55\u001b[0;31m                                         inputs, attrs, num_outputs)\n\u001b[0m\u001b[1;32m     56\u001b[0m   \u001b[0;32mexcept\u001b[0m \u001b[0mcore\u001b[0m\u001b[0;34m.\u001b[0m\u001b[0m_NotOkStatusException\u001b[0m \u001b[0;32mas\u001b[0m \u001b[0me\u001b[0m\u001b[0;34m:\u001b[0m\u001b[0;34m\u001b[0m\u001b[0;34m\u001b[0m\u001b[0m\n\u001b[1;32m     57\u001b[0m     \u001b[0;32mif\u001b[0m \u001b[0mname\u001b[0m \u001b[0;32mis\u001b[0m \u001b[0;32mnot\u001b[0m \u001b[0;32mNone\u001b[0m\u001b[0;34m:\u001b[0m\u001b[0;34m\u001b[0m\u001b[0;34m\u001b[0m\u001b[0m\n",
            "\u001b[0;31mKeyboardInterrupt\u001b[0m: "
          ]
        }
      ],
      "source": [
        "modeln2 = NormalModel2()\n",
        "modeln2.compile(\n",
        "    optimizer=tf.keras.optimizers.Adam(0.001),\n",
        "    loss='sparse_categorical_crossentropy',\n",
        "    metrics='sparse_categorical_accuracy'\n",
        ")\n",
        "#modeln2.load_weights('ch2')\n",
        "modeln2.fit(labeled_train_dataset,validation_data=labeled_val_dataset,epochs=50,callbacks=[checkpoint2,tensorboard_callback])"
      ]
    },
    {
      "cell_type": "code",
      "execution_count": null,
      "metadata": {
        "id": "Gl3gR_GLSdrH"
      },
      "outputs": [],
      "source": [
        "import cv2\n",
        "locationModel = LocationModel()\n",
        "locationModel.compile(\n",
        "    optimizer=tf.keras.optimizers.Adam(0.001),\n",
        "    loss='sparse_categorical_crossentropy',\n",
        "    metrics='sparse_categorical_accuracy'\n",
        ")\n",
        "history = locationModel.fit(labeled_train_dataset,validation_data=labeled_val_dataset,epochs=50,callbacks=[checkpoint1,tensorboard_callback])"
      ]
    },
    {
      "cell_type": "code",
      "execution_count": null,
      "metadata": {
        "colab": {
          "base_uri": "https://localhost:8080/"
        },
        "id": "lJLBNSXbdNWE",
        "outputId": "8b439d67-efc8-4ba0-f54a-011b25e5dd5a"
      },
      "outputs": [
        {
          "name": "stdout",
          "output_type": "stream",
          "text": [
            "63/63 [==============================] - 16s 248ms/step - loss: 3.4762 - sparse_categorical_accuracy: 0.5581\n"
          ]
        },
        {
          "data": {
            "text/plain": [
              "[3.476179838180542, 0.5581250190734863]"
            ]
          },
          "execution_count": 26,
          "metadata": {},
          "output_type": "execute_result"
        }
      ],
      "source": [
        "modeln2.evaluate(test_dataset)"
      ]
    },
    {
      "cell_type": "code",
      "execution_count": null,
      "metadata": {
        "id": "AaZxIyi-WzHL"
      },
      "outputs": [],
      "source": [
        "dm4 = LocationModel()\n",
        "dm4.compile(\n",
        "    optimizer=tf.keras.optimizers.Adam(0.001),\n",
        "    loss='sparse_categorical_crossentropy',\n",
        "    metrics='sparse_categorical_accuracy'\n",
        ")\n",
        "history = dm4.fit(labeled_train_dataset,validation_data=labeled_val_dataset,epochs=50,callbacks=[checkpoint1,tensorboard_callback])"
      ]
    },
    {
      "cell_type": "code",
      "execution_count": null,
      "metadata": {
        "id": "zKhC2tFrSsFE"
      },
      "outputs": [],
      "source": [
        "dmres = LocationModelRes()\n",
        "dmres.compile(\n",
        "    optimizer=tf.keras.optimizers.Adam(0.001),\n",
        "    loss='sparse_categorical_crossentropy',\n",
        "    metrics='sparse_categorical_accuracy'\n",
        ")\n",
        "history = dmres.fit(labeled_train_dataset,validation_data=labeled_val_dataset,epochs=50,callbacks=[checkpointLRes,tensorboard_callback])"
      ]
    },
    {
      "cell_type": "code",
      "execution_count": null,
      "metadata": {
        "colab": {
          "base_uri": "https://localhost:8080/"
        },
        "id": "kKlhQ9SF1OOP",
        "outputId": "f3becd52-2800-44af-b5a9-49b810c41d76"
      },
      "outputs": [
        {
          "name": "stdout",
          "output_type": "stream",
          "text": [
            "Test loss: 1.718310832977295 / Test accuracy: 0.550000011920929\n",
            "(3, 3, 12, 96)\n",
            "Test loss: 1.1809693574905396 / Test accuracy: 0.5661249756813049\n"
          ]
        }
      ],
      "source": [
        "score = dmres.evaluate(test_dataset,verbose=0,batch_size=10)\n",
        "print(f'Test loss: {score[0]} / Test accuracy: {score[1]}')\n",
        "dmres2 = LocationModelRes()\n",
        "dmres2.compile(\n",
        "    optimizer=tf.keras.optimizers.Adam(0.001),\n",
        "    loss='sparse_categorical_crossentropy',\n",
        "    metrics='sparse_categorical_accuracy'\n",
        ")\n",
        "dmres2.load_weights('chrsm')\n",
        "score = dmres2.evaluate(test_dataset,verbose=0,batch_size=10)\n",
        "print(f'Test loss: {score[0]} / Test accuracy: {score[1]}')"
      ]
    },
    {
      "cell_type": "code",
      "execution_count": null,
      "metadata": {
        "colab": {
          "base_uri": "https://localhost:8080/"
        },
        "id": "8492B1mBcfqF",
        "outputId": "baaa25d5-0de6-428f-f497-ddb10a33f4f1"
      },
      "outputs": [
        {
          "name": "stdout",
          "output_type": "stream",
          "text": [
            "Test loss: 1.575082540512085 / Test accuracy: 0.5715000033378601\n",
            "(3, 3, 12, 96)\n",
            "Test loss: 1.191939353942871 / Test accuracy: 0.562624990940094\n"
          ]
        }
      ],
      "source": [
        "score = dmres.evaluate(test_dataset,verbose=0,batch_size=10)\n",
        "print(f'Test loss: {score[0]} / Test accuracy: {score[1]}')\n",
        "dmres2 = LocationModelRes()\n",
        "dmres2.compile(\n",
        "    optimizer=tf.keras.optimizers.Adam(0.001),\n",
        "    loss='sparse_categorical_crossentropy',\n",
        "    metrics='sparse_categorical_accuracy'\n",
        ")\n",
        "dmres2.load_weights('chrsm')\n",
        "score = dmres2.evaluate(test_dataset,verbose=0,batch_size=10)\n",
        "print(f'Test loss: {score[0]} / Test accuracy: {score[1]}')"
      ]
    },
    {
      "cell_type": "code",
      "execution_count": null,
      "metadata": {
        "colab": {
          "base_uri": "https://localhost:8080/"
        },
        "id": "dufpoJv9zqIX",
        "outputId": "21c2ad36-8c45-4a65-9d9d-74bc9130cb05"
      },
      "outputs": [
        {
          "name": "stdout",
          "output_type": "stream",
          "text": [
            "800/800 [==============================] - 84s 105ms/step - loss: 1.7487 - sparse_categorical_accuracy: 0.5089\n",
            "Test loss: 1.7487246990203857 / Test accuracy: 0.5088750123977661\n"
          ]
        }
      ],
      "source": [
        "locN.load_weights('ch4')\n",
        "score = locN.evaluate(test_dataset)\n",
        "print(f'Test loss: {score[0]} / Test accuracy: {score[1]}')"
      ]
    },
    {
      "cell_type": "code",
      "execution_count": null,
      "metadata": {
        "id": "V3pGE_jRJMKZ"
      },
      "outputs": [],
      "source": [
        "locN.save_weights('/content/drive/MyDrive/locN')"
      ]
    },
    {
      "cell_type": "code",
      "execution_count": null,
      "metadata": {
        "id": "a340-w9Pxt2y"
      },
      "outputs": [],
      "source": [
        "modeln2.save_weights('/content/drive/MyDrive/n2')"
      ]
    },
    {
      "cell_type": "code",
      "execution_count": null,
      "metadata": {
        "id": "jnkKGfWgrbNi"
      },
      "outputs": [],
      "source": [
        "import cv2\n",
        "dmres.load_weights('chrsm')\n",
        "score = dmres.evaluate(test_dataset,verbose=0,batch_size=10)\n",
        "print(f'Test loss: {score[0]} / Test accuracy: {score[1]}')"
      ]
    },
    {
      "cell_type": "code",
      "execution_count": null,
      "metadata": {
        "id": "cvTtf_dnnxEU"
      },
      "outputs": [],
      "source": [
        "modelRes2.evaluate(test_dataset,verbose=0,batch_size=10)"
      ]
    },
    {
      "cell_type": "code",
      "execution_count": null,
      "metadata": {
        "id": "hpTX9531oDft"
      },
      "outputs": [],
      "source": [
        "modelRes2.load_weights('chr')\n",
        "modelRes2.evaluate(test_dataset,verbose=0,batch_size=10)"
      ]
    },
    {
      "cell_type": "code",
      "execution_count": null,
      "metadata": {
        "id": "vhwNRJ1XMqZf"
      },
      "outputs": [],
      "source": [
        "class AtrousLayer(tf.keras.layers.Layer):\n",
        "  def __init__(self, filters):\n",
        "    super(AtrousLayer, self, filters).__init__()\n",
        "    self.filters = filters\n",
        "    self.init=tf.keras.initializers.HeNormal()(shape=(3,3,self.filters,self.filters))\n",
        "    #self.filters1 = tf.Variable(initial_value=self.init,shape=[3,3,256,256],trainable=True)\n",
        "\n",
        "  def build(self, input_shape):\n",
        "    self.filters1 = tf.Variable(initial_value=self.init,shape=[3,3,self.filters,self.filters],trainable=True)\n",
        "\n",
        "  def call(self, inputs):\n",
        "    x1 = tf.nn.conv2d(inputs,self.filters1,(1,1),padding=\"SAME\")\n",
        "    x2 = tf.nn.atrous_conv2d(inputs,self.filters1,(1,1),padding=\"SAME\")\n",
        "    x3 = tf.nn.atrous_conv2d(inputs,self.filters1,(2,2),padding=\"SAME\")\n",
        "    x4 = tf.nn.atrous_conv2d(inputs,self.filters1,(4,4),padding=\"SAME\")\n",
        "    x11 = layers.Maximum()([x1,x2,x3,x4])\n",
        "    #eq = layers.Add()([tf.where(x11==x1,1.0,0.0),tf.where(x11==x2,1.0,0.0),tf.where(x11==x3,1.0,0.0)])\n",
        "    x4 = x11\n",
        "    return x11"
      ]
    },
    {
      "cell_type": "code",
      "execution_count": null,
      "metadata": {
        "colab": {
          "base_uri": "https://localhost:8080/"
        },
        "id": "rqSwhwl5dvtg",
        "outputId": "c2b95a1e-5e53-4d54-dc0f-5f85a9bd3e8e"
      },
      "outputs": [
        {
          "name": "stdout",
          "output_type": "stream",
          "text": [
            "(None, 64, 64, 12)\n"
          ]
        }
      ],
      "source": [
        "labeled_train_dataset_scale = labeled_train_dataset.unbatch().batch(1).map(lambda image,label:scale_img(image,label))"
      ]
    },
    {
      "cell_type": "code",
      "execution_count": null,
      "metadata": {
        "id": "ne5yKDSTmjUq"
      },
      "outputs": [],
      "source": [
        "def scale_img(image,label):\n",
        "  BATCH_SIZE = 1\n",
        "  NUM_BOXES = 1\n",
        "  IMAGE_HEIGHT = 64\n",
        "  IMAGE_WIDTH = 64\n",
        "  CHANNELS = 3\n",
        "  CROP_SIZE = (64, 64)\n",
        "\n",
        "  '''return tf.image.crop_and_resize(\n",
        "    image,\n",
        "    [[0.25,0.25,0.75,0.75]],\n",
        "    [0],\n",
        "    CROP_SIZE,\n",
        "    method='bilinear',\n",
        "    extrapolation_value=0.0,\n",
        "    name=None\n",
        "  ),'''\n",
        "  im = tf.pad(tf.image.resize_with_pad(image,32,32,method='bilinear'),[[0,0],[16,16],[16,16],[0,0]])\n",
        "  print(im.shape)\n",
        "  return im,label"
      ]
    },
    {
      "cell_type": "code",
      "execution_count": null,
      "metadata": {
        "id": "8j6fD04f6g4i"
      },
      "outputs": [],
      "source": [
        "score = n.evaluate(labeled_train_dataset_scale,verbose=0,batch_size=10)\n",
        "print(f'Test loss: {score[0]} / Test accuracy: {score[1]}')\n",
        "score = modeln2.evaluate(labeled_train_dataset_scale,verbose=0,batch_size=10)\n",
        "print(f'Test loss: {score[0]} / Test accuracy: {score[1]}')"
      ]
    },
    {
      "cell_type": "code",
      "execution_count": null,
      "metadata": {
        "colab": {
          "base_uri": "https://localhost:8080/"
        },
        "id": "YQ5tvQIrcTsa",
        "outputId": "65d66ce7-b348-40df-f836-a6f72d4a20a7"
      },
      "outputs": [
        {
          "name": "stdout",
          "output_type": "stream",
          "text": [
            "tf.Tensor(0.2175, shape=(), dtype=float64)\n",
            "tf.Tensor(174, shape=(), dtype=int32)\n"
          ]
        }
      ],
      "source": [
        "affine(locN,3,3,0,0,0,0)\n",
        "affine(locN,0,0,0,2,2,0)"
      ]
    },
    {
      "cell_type": "code",
      "execution_count": null,
      "metadata": {
        "colab": {
          "base_uri": "https://localhost:8080/"
        },
        "id": "5JLnTOxW79OH",
        "outputId": "23ec9cc6-9824-4e6a-e4aa-320370c6b8fb"
      },
      "outputs": [
        {
          "name": "stdout",
          "output_type": "stream",
          "text": [
            "tf.Tensor(0.71375, shape=(), dtype=float64)\n",
            "tf.Tensor(571, shape=(), dtype=int32)\n"
          ]
        }
      ],
      "source": [
        "affine(locN,0,0,0,2,2,0)"
      ]
    },
    {
      "cell_type": "code",
      "execution_count": null,
      "metadata": {
        "colab": {
          "base_uri": "https://localhost:8080/"
        },
        "id": "f2n33tUI1QZ4",
        "outputId": "add0e4f0-195d-4eca-c1a6-8f781dc0a010"
      },
      "outputs": [
        {
          "name": "stdout",
          "output_type": "stream",
          "text": [
            "tf.Tensor(0.71375, shape=(), dtype=float64)\n",
            "tf.Tensor(571, shape=(), dtype=int32)\n",
            "tf.Tensor(0.655, shape=(), dtype=float64)\n",
            "tf.Tensor(524, shape=(), dtype=int32)\n"
          ]
        }
      ],
      "source": [
        "affine(locN,0,0,0,2,2,0)\n",
        "affine(locN,2,2,5,2,0,0)"
      ]
    },
    {
      "cell_type": "code",
      "execution_count": null,
      "metadata": {
        "colab": {
          "base_uri": "https://localhost:8080/"
        },
        "id": "fVgpBOOjc9xi",
        "outputId": "246551e7-be09-44f6-8081-16392bcf9ee2"
      },
      "outputs": [
        {
          "name": "stdout",
          "output_type": "stream",
          "text": [
            "tf.Tensor(0.14875, shape=(), dtype=float64)\n",
            "tf.Tensor(119, shape=(), dtype=int32)\n",
            "tf.Tensor(0.71375, shape=(), dtype=float64)\n",
            "tf.Tensor(571, shape=(), dtype=int32)\n",
            "tf.Tensor(0.21375, shape=(), dtype=float64)\n",
            "tf.Tensor(171, shape=(), dtype=int32)\n",
            "tf.Tensor(0.465, shape=(), dtype=float64)\n",
            "tf.Tensor(372, shape=(), dtype=int32)\n"
          ]
        }
      ],
      "source": [
        "#shear/zoom and rotation\n",
        "affine(locN,0,0,0,0,3,3)\n",
        "affine(locN,0,0,5,2,0,0)\n",
        "affine(normal,0,0,0,0,3,3)\n",
        "affine(normal,0,0,5,2,0,0)"
      ]
    },
    {
      "cell_type": "code",
      "execution_count": null,
      "metadata": {
        "colab": {
          "base_uri": "https://localhost:8080/"
        },
        "id": "zOYMLIHTeMnV",
        "outputId": "4fbe7f36-3451-49da-cc37-fcaa940e0af5"
      },
      "outputs": [
        {
          "name": "stdout",
          "output_type": "stream",
          "text": [
            "tf.Tensor(0.14875, shape=(), dtype=float64)\n",
            "tf.Tensor(119, shape=(), dtype=int32)\n",
            "tf.Tensor(0.71375, shape=(), dtype=float64)\n",
            "tf.Tensor(571, shape=(), dtype=int32)\n",
            "tf.Tensor(0.045, shape=(), dtype=float64)\n",
            "tf.Tensor(36, shape=(), dtype=int32)\n",
            "tf.Tensor(0.00625, shape=(), dtype=float64)\n",
            "tf.Tensor(5, shape=(), dtype=int32)\n"
          ]
        }
      ],
      "source": [
        "affine(locN,0,0,0,0,3,3)\n",
        "affine(locN,0,0,5,2,0,0)\n",
        "affine(modeln2,0,0,0,0,3,3)\n",
        "affine(modeln2,0,0,5,2,0,0)"
      ]
    },
    {
      "cell_type": "code",
      "execution_count": null,
      "metadata": {
        "colab": {
          "base_uri": "https://localhost:8080/"
        },
        "id": "NyGllg4HEYO4",
        "outputId": "24a30668-44f4-441f-f493-f6853aaa3eb7"
      },
      "outputs": [
        {
          "name": "stdout",
          "output_type": "stream",
          "text": [
            "tf.Tensor(0.1425, shape=(), dtype=float64)\n",
            "tf.Tensor(114, shape=(), dtype=int32)\n",
            "tf.Tensor(0.155, shape=(), dtype=float64)\n",
            "tf.Tensor(124, shape=(), dtype=int32)\n"
          ]
        }
      ],
      "source": [
        "affine(locN,0,0,3,0,0,0)\n",
        "#affine(normal,0,0,0,0,3,3)\n",
        "affine(modeln2,0,0,3,0,0,0)"
      ]
    },
    {
      "cell_type": "code",
      "execution_count": null,
      "metadata": {
        "colab": {
          "base_uri": "https://localhost:8080/"
        },
        "id": "f0csknzRYM1t",
        "outputId": "7791fd6c-5cc4-45dc-94d6-bfc74226743a"
      },
      "outputs": [
        {
          "name": "stdout",
          "output_type": "stream",
          "text": [
            "tf.Tensor(0.15873015873015872, shape=(), dtype=float64)\n",
            "tf.Tensor(10, shape=(), dtype=int32)\n",
            "tf.Tensor(0.0, shape=(), dtype=float64)\n",
            "tf.Tensor(0, shape=(), dtype=int32)\n"
          ]
        }
      ],
      "source": [
        "affine(n,0,0,5,0,0,0)\n",
        "#affine(normal,0,0,0,0,3,3)\n",
        "affine(n2,0,0,5,0,0,0)"
      ]
    },
    {
      "cell_type": "code",
      "execution_count": null,
      "metadata": {
        "colab": {
          "base_uri": "https://localhost:8080/"
        },
        "id": "8xp3g9nNWHNp",
        "outputId": "a10b2e19-2ee9-49ca-8bc5-afa58a08c35a"
      },
      "outputs": [
        {
          "name": "stdout",
          "output_type": "stream",
          "text": [
            "tf.Tensor(0.1425, shape=(), dtype=float64)\n",
            "tf.Tensor(114, shape=(), dtype=int32)\n",
            "tf.Tensor(0.19875, shape=(), dtype=float64)\n",
            "tf.Tensor(159, shape=(), dtype=int32)\n"
          ]
        }
      ],
      "source": [
        "#only shear\n",
        "affine(locN,0,0,3,0,0,0)\n",
        "#affine(normal,0,0,0,0,3,3)\n",
        "affine(normal,0,0,3,0,0,0)"
      ]
    },
    {
      "cell_type": "code",
      "execution_count": null,
      "metadata": {
        "colab": {
          "base_uri": "https://localhost:8080/"
        },
        "id": "y_G15PCeIihy",
        "outputId": "01aa3520-4e2a-427d-9b7a-a0b331d22005"
      },
      "outputs": [
        {
          "name": "stdout",
          "output_type": "stream",
          "text": [
            "(8000, 64, 64, 12)\n",
            "(8000,)\n",
            "250/250 [==============================] - 65s 253ms/step - loss: 2.6772 - sparse_categorical_accuracy: 0.2724\n",
            "[2.677175998687744, 0.2723749876022339]\n",
            "63/63 [==============================] - 61s 955ms/step - loss: 1.6899 - sparse_categorical_accuracy: 0.4974\n",
            "[1.6899058818817139, 0.4973750114440918]\n"
          ]
        }
      ],
      "source": [
        "affine_rot(locN,0,0,3,0,0,5)"
      ]
    },
    {
      "cell_type": "code",
      "execution_count": null,
      "metadata": {
        "colab": {
          "base_uri": "https://localhost:8080/"
        },
        "id": "8owdUuKb6uzS",
        "outputId": "ec7d06c9-8448-4259-f92d-2b0c7d611118"
      },
      "outputs": [
        {
          "name": "stdout",
          "output_type": "stream",
          "text": [
            "(8000, 64, 64, 12)\n",
            "(8000,)\n",
            "250/250 [==============================] - 69s 259ms/step - loss: 3.8404 - sparse_categorical_accuracy: 0.2719\n",
            "[3.8403923511505127, 0.2718749940395355]\n",
            "63/63 [==============================] - 60s 949ms/step - loss: 2.5425 - sparse_categorical_accuracy: 0.4906\n",
            "[2.54251766204834, 0.4906249940395355]\n"
          ]
        }
      ],
      "source": [
        "affine_rot(locN2,0,0,3,0,0,5)"
      ]
    },
    {
      "cell_type": "code",
      "execution_count": null,
      "metadata": {
        "colab": {
          "base_uri": "https://localhost:8080/"
        },
        "id": "qG0ptz2TG3o-",
        "outputId": "d997eca2-5b7b-4052-86e1-397d7f9f5b2d"
      },
      "outputs": [
        {
          "name": "stdout",
          "output_type": "stream",
          "text": [
            "(8000, 64, 64, 12)\n",
            "(8000,)\n",
            "250/250 [==============================] - 68s 270ms/step - loss: 4.0961 - sparse_categorical_accuracy: 0.2709\n",
            "[4.096139430999756, 0.2708750069141388]\n",
            "63/63 [==============================] - 60s 949ms/step - loss: 2.5425 - sparse_categorical_accuracy: 0.4906\n",
            "[2.54251766204834, 0.4906249940395355]\n"
          ]
        }
      ],
      "source": [
        "affine_rot(locN2,0,0,3,0,0,10)"
      ]
    },
    {
      "cell_type": "code",
      "source": [
        "#affine_translate(locN2,2,2,0,0,0,0)\n",
        "affine_shear(locN2,2,2,5,0,0,0)"
      ],
      "metadata": {
        "colab": {
          "base_uri": "https://localhost:8080/"
        },
        "id": "-u6SYnaTcY9-",
        "outputId": "7e23afc2-0b15-4dd2-947e-0feb10fbab3f"
      },
      "execution_count": null,
      "outputs": [
        {
          "output_type": "stream",
          "name": "stdout",
          "text": [
            "(8000, 64, 64, 12)\n",
            "250/250 [==============================] - 65s 258ms/step - loss: 4.5111 - sparse_categorical_accuracy: 0.1269\n",
            "[4.5110859870910645, 0.12687499821186066]\n",
            "63/63 [==============================] - 61s 956ms/step - loss: 2.2934 - sparse_categorical_accuracy: 0.5340\n",
            "[2.293421745300293, 0.5339999794960022]\n"
          ]
        }
      ]
    },
    {
      "cell_type": "code",
      "source": [
        "affine_shear(locN2,2,2,2,0,0,0)"
      ],
      "metadata": {
        "colab": {
          "base_uri": "https://localhost:8080/"
        },
        "id": "RMhCUJ1zl0e3",
        "outputId": "e6560a23-dc87-43d3-9154-ba2948a4be51"
      },
      "execution_count": null,
      "outputs": [
        {
          "output_type": "stream",
          "name": "stdout",
          "text": [
            "(8000, 64, 64, 12)\n",
            "250/250 [==============================] - 64s 258ms/step - loss: 4.3710 - sparse_categorical_accuracy: 0.1850\n",
            "[4.3709797859191895, 0.1850000023841858]\n",
            "63/63 [==============================] - 61s 955ms/step - loss: 2.2934 - sparse_categorical_accuracy: 0.5340\n",
            "[2.293421745300293, 0.5339999794960022]\n"
          ]
        }
      ]
    },
    {
      "cell_type": "code",
      "source": [
        "affine_shear(locN2,2,2,5,0,0,0)"
      ],
      "metadata": {
        "id": "GgOCAaRrgzeV"
      },
      "execution_count": null,
      "outputs": []
    },
    {
      "cell_type": "code",
      "source": [
        "affine_translate(locN2,10,10,0,0,0,0)\n",
        "affine_translate(modeln2,10,10,0,0,0,0)"
      ],
      "metadata": {
        "colab": {
          "base_uri": "https://localhost:8080/"
        },
        "id": "s6IKO1K4oThu",
        "outputId": "fad45cf3-1b02-4954-c9a3-7c0cf205a5e8"
      },
      "execution_count": null,
      "outputs": [
        {
          "output_type": "stream",
          "name": "stdout",
          "text": [
            "250/250 [==============================] - 65s 258ms/step - loss: 2.4409 - sparse_categorical_accuracy: 0.4949\n",
            "[2.440918207168579, 0.4948750138282776]\n",
            "63/63 [==============================] - 61s 955ms/step - loss: 2.2934 - sparse_categorical_accuracy: 0.5340\n",
            "[2.293421745300293, 0.5339999794960022]\n",
            "250/250 [==============================] - 6s 24ms/step - loss: 4.2512 - sparse_categorical_accuracy: 0.3801\n",
            "[4.25121545791626, 0.3801249861717224]\n",
            "63/63 [==============================] - 13s 207ms/step - loss: 3.3983 - sparse_categorical_accuracy: 0.5190\n",
            "[3.3983154296875, 0.5189999938011169]\n"
          ]
        }
      ]
    },
    {
      "cell_type": "code",
      "execution_count": null,
      "metadata": {
        "colab": {
          "base_uri": "https://localhost:8080/"
        },
        "id": "vMS9UZ3yEHtC",
        "outputId": "300cafe7-d3cd-4b44-c376-7fc434695ff2"
      },
      "outputs": [
        {
          "name": "stdout",
          "output_type": "stream",
          "text": [
            "250/250 [==============================] - 64s 255ms/step - loss: 2.4902 - sparse_categorical_accuracy: 0.4902\n",
            "[2.4902303218841553, 0.49024999141693115]\n",
            "63/63 [==============================] - 60s 948ms/step - loss: 2.5425 - sparse_categorical_accuracy: 0.4906\n",
            "[2.54251766204834, 0.4906249940395355]\n"
          ]
        }
      ],
      "source": [
        "affine_translate(locN2,2,2,0,0,0,0)\n",
        "affine_shear(locN2,2,2,0,0,0,0)"
      ]
    },
    {
      "cell_type": "code",
      "source": [
        "affine_scale(normal,0,0,2,2,0,0)"
      ],
      "metadata": {
        "colab": {
          "base_uri": "https://localhost:8080/"
        },
        "id": "QIRD8WjmdGbJ",
        "outputId": "8f9537b7-f74e-466d-a08f-a51f35d087be"
      },
      "execution_count": null,
      "outputs": [
        {
          "output_type": "stream",
          "name": "stdout",
          "text": [
            "(8000, 64, 64, 12)\n",
            "(8000,)\n",
            "250/250 [==============================] - 3s 11ms/step - loss: 8.2850 - sparse_categorical_accuracy: 0.1000\n",
            "[8.284989356994629, 0.10000000149011612]\n",
            "63/63 [==============================] - 13s 198ms/step - loss: 2.9731 - sparse_categorical_accuracy: 0.4946\n",
            "[2.9730660915374756, 0.4946250021457672]\n"
          ]
        }
      ]
    },
    {
      "cell_type": "code",
      "execution_count": null,
      "metadata": {
        "colab": {
          "base_uri": "https://localhost:8080/"
        },
        "id": "Tnqn9QpGIkgR",
        "outputId": "b34c1cae-641b-475c-ad0c-1bb28c1c0f8a"
      },
      "outputs": [
        {
          "name": "stdout",
          "output_type": "stream",
          "text": [
            "(8000, 64, 64, 12)\n",
            "(8000,)\n",
            "250/250 [==============================] - 64s 256ms/step - loss: 4.8156 - sparse_categorical_accuracy: 0.1000\n",
            "[4.8155903816223145, 0.10000000149011612]\n",
            "63/63 [==============================] - 60s 952ms/step - loss: 2.5425 - sparse_categorical_accuracy: 0.4906\n",
            "[2.54251766204834, 0.4906249940395355]\n"
          ]
        }
      ],
      "source": [
        "affine_scale(locN2,0,0,2,2,0,0)"
      ]
    },
    {
      "cell_type": "code",
      "source": [
        "affine_scale(normal,0,0,2,2,0,0)"
      ],
      "metadata": {
        "colab": {
          "base_uri": "https://localhost:8080/"
        },
        "id": "8g2qLSPuHr6J",
        "outputId": "2ecf54a6-6d79-438a-98ab-4e3ad8fb6e7f"
      },
      "execution_count": null,
      "outputs": [
        {
          "output_type": "stream",
          "name": "stdout",
          "text": [
            "(8000, 64, 64, 12)\n",
            "(8000,)\n",
            "250/250 [==============================] - 3s 12ms/step - loss: 3.6155 - sparse_categorical_accuracy: 0.1000\n",
            "[3.615548610687256, 0.10000000149011612]\n",
            "63/63 [==============================] - 14s 217ms/step - loss: 1.8407 - sparse_categorical_accuracy: 0.5136\n",
            "[1.8406566381454468, 0.5136250257492065]\n"
          ]
        }
      ]
    },
    {
      "cell_type": "code",
      "source": [
        "H"
      ],
      "metadata": {
        "colab": {
          "base_uri": "https://localhost:8080/",
          "height": 167
        },
        "id": "1qP4qmkFv97I",
        "outputId": "a234d968-1518-4ec3-be80-bba71949d8b2"
      },
      "execution_count": null,
      "outputs": [
        {
          "output_type": "error",
          "ename": "NameError",
          "evalue": "ignored",
          "traceback": [
            "\u001b[0;31m---------------------------------------------------------------------------\u001b[0m",
            "\u001b[0;31mNameError\u001b[0m                                 Traceback (most recent call last)",
            "\u001b[0;32m<ipython-input-29-b408860bc2c0>\u001b[0m in \u001b[0;36m<module>\u001b[0;34m()\u001b[0m\n\u001b[0;32m----> 1\u001b[0;31m \u001b[0mH\u001b[0m\u001b[0;34m\u001b[0m\u001b[0;34m\u001b[0m\u001b[0m\n\u001b[0m",
            "\u001b[0;31mNameError\u001b[0m: name 'H' is not defined"
          ]
        }
      ]
    },
    {
      "cell_type": "code",
      "source": [
        "normal.save_weights('/content/drive/MyDrive/normal')"
      ],
      "metadata": {
        "id": "ACb9E23xIDwQ"
      },
      "execution_count": null,
      "outputs": []
    },
    {
      "cell_type": "code",
      "execution_count": null,
      "metadata": {
        "colab": {
          "base_uri": "https://localhost:8080/"
        },
        "id": "lPEUA0fXWpIh",
        "outputId": "e1e431ac-de21-4ad7-93e0-54689124bd12"
      },
      "outputs": [
        {
          "name": "stdout",
          "output_type": "stream",
          "text": [
            "250/250 [==============================] - 63s 254ms/step - loss: 1.7046 - sparse_categorical_accuracy: 0.4961\n",
            "[1.7045879364013672, 0.4961250126361847]\n",
            "63/63 [==============================] - 61s 964ms/step - loss: 1.6899 - sparse_categorical_accuracy: 0.4974\n",
            "[1.6899058818817139, 0.4973750114440918]\n"
          ]
        }
      ],
      "source": [
        "affine_translate(locN,2,2,0,0,0,0)"
      ]
    },
    {
      "cell_type": "code",
      "execution_count": null,
      "metadata": {
        "colab": {
          "base_uri": "https://localhost:8080/"
        },
        "id": "sRpzMW-fVmB0",
        "outputId": "900741fd-bd75-42b8-9e88-ae6f782a8bf7"
      },
      "outputs": [
        {
          "name": "stdout",
          "output_type": "stream",
          "text": [
            "(8000, 64, 64, 12)\n",
            "(8000,)\n",
            "250/250 [==============================] - 6s 23ms/step - loss: 4.5759 - sparse_categorical_accuracy: 0.1646\n",
            "[4.575926780700684, 0.16462500393390656]\n",
            "63/63 [==============================] - 13s 197ms/step - loss: 1.7134 - sparse_categorical_accuracy: 0.4235\n",
            "[1.7134194374084473, 0.4235000014305115]\n"
          ]
        }
      ],
      "source": [
        "affine_rot(modeln2,0,0,3,0,0,5)"
      ]
    },
    {
      "cell_type": "code",
      "execution_count": null,
      "metadata": {
        "colab": {
          "base_uri": "https://localhost:8080/"
        },
        "id": "oy-fXVmCX6Nn",
        "outputId": "ad93fe60-4964-4dda-e5db-858ffdb1eb9e"
      },
      "outputs": [
        {
          "name": "stdout",
          "output_type": "stream",
          "text": [
            "250/250 [==============================] - 6s 22ms/step - loss: 1.7194 - sparse_categorical_accuracy: 0.4198\n",
            "[1.7194149494171143, 0.41975000500679016]\n",
            "63/63 [==============================] - 12s 188ms/step - loss: 1.7134 - sparse_categorical_accuracy: 0.4235\n",
            "[1.7134194374084473, 0.4235000014305115]\n"
          ]
        }
      ],
      "source": [
        "affine_translate(modeln2,2,2,0,0,0,0)"
      ]
    },
    {
      "cell_type": "code",
      "execution_count": null,
      "metadata": {
        "colab": {
          "base_uri": "https://localhost:8080/"
        },
        "id": "YL4ydZXMZIYv",
        "outputId": "97727e1b-8db6-4df7-ddeb-55afc4efd0d2"
      },
      "outputs": [
        {
          "name": "stdout",
          "output_type": "stream",
          "text": [
            "tf.Tensor(0.71375, shape=(), dtype=float64)\n",
            "tf.Tensor(571, shape=(), dtype=int32)\n",
            "tf.Tensor(0.465, shape=(), dtype=float64)\n",
            "tf.Tensor(372, shape=(), dtype=int32)\n"
          ]
        }
      ],
      "source": [
        "#only zoom\n",
        "affine(locN,0,0,0,2,0,0)\n",
        "#affine(normal,0,0,0,0,3,3)\n",
        "affine(normal,0,0,0,2,0,0)"
      ]
    },
    {
      "cell_type": "code",
      "execution_count": null,
      "metadata": {
        "colab": {
          "base_uri": "https://localhost:8080/"
        },
        "id": "RcoQh56GNQXm",
        "outputId": "e4966a93-4e9b-48a8-8859-bdd262282072"
      },
      "outputs": [
        {
          "name": "stdout",
          "output_type": "stream",
          "text": [
            "2/2 [==============================] - 0s 7ms/step - loss: 0.0000e+00 - sparse_categorical_accuracy: 0.0000e+00\n",
            "[0.0, 0.0]\n",
            "63/63 [==============================] - 12s 188ms/step - loss: 2.8068 - sparse_categorical_accuracy: 0.5031\n",
            "[2.806838274002075, 0.503125011920929]\n"
          ]
        }
      ],
      "source": [
        "affine(modeln2,0,0,0,2,0,0)"
      ]
    },
    {
      "cell_type": "code",
      "execution_count": null,
      "metadata": {
        "id": "rdrNIBer6Jfi"
      },
      "outputs": [],
      "source": [
        "affine(locN2,0,0,0,2,0,0)"
      ]
    },
    {
      "cell_type": "code",
      "execution_count": null,
      "metadata": {
        "colab": {
          "base_uri": "https://localhost:8080/"
        },
        "id": "LTC0DjokKQ2c",
        "outputId": "fe210775-b251-4b4d-c069-5202c02bf79d"
      },
      "outputs": [
        {
          "name": "stdout",
          "output_type": "stream",
          "text": [
            "tf.Tensor(0.0, shape=(), dtype=float64)\n",
            "tf.Tensor(0, shape=(), dtype=int32)\n",
            "tf.Tensor(0.91375, shape=(), dtype=float64)\n",
            "tf.Tensor(731, shape=(), dtype=int32)\n"
          ]
        }
      ],
      "source": [
        "affine(locN,0,0,0,3,3,0)\n",
        "affine(normal,0,0,0,3,3,0)"
      ]
    },
    {
      "cell_type": "code",
      "execution_count": null,
      "metadata": {
        "colab": {
          "base_uri": "https://localhost:8080/"
        },
        "id": "iocCEPg9a1rA",
        "outputId": "b7e2e771-9b68-4759-8114-7d4d6d858462"
      },
      "outputs": [
        {
          "name": "stdout",
          "output_type": "stream",
          "text": [
            "Test loss: 3.482125759124756 / Test accuracy: 0.17679999768733978\n",
            "Test loss: 5.611385345458984 / Test accuracy: 0.19733333587646484\n"
          ]
        }
      ],
      "source": [
        "score = locN.evaluate(labeled_train_dataset_scale,verbose=0,batch_size=10)\n",
        "print(f'Test loss: {score[0]} / Test accuracy: {score[1]}')\n",
        "score = normal.evaluate(labeled_train_dataset_scale,verbose=0,batch_size=10)\n",
        "print(f'Test loss: {score[0]} / Test accuracy: {score[1]}')"
      ]
    },
    {
      "cell_type": "code",
      "execution_count": null,
      "metadata": {
        "colab": {
          "base_uri": "https://localhost:8080/"
        },
        "id": "ZmLj0aDZNLeg",
        "outputId": "38612866-8507-4bdc-ba47-6244d44a8df7"
      },
      "outputs": [
        {
          "name": "stdout",
          "output_type": "stream",
          "text": [
            "Test loss: 9.769747734069824 / Test accuracy: 0.15493333339691162\n"
          ]
        }
      ],
      "source": [
        "score = dmres.evaluate(labeled_train_dataset_scale,verbose=0,batch_size=10)\n",
        "print(f'Test loss: {score[0]} / Test accuracy: {score[1]}')"
      ]
    },
    {
      "cell_type": "code",
      "execution_count": null,
      "metadata": {
        "id": "rXE1JB1WPj_H"
      },
      "outputs": [],
      "source": [
        "score = n.evaluate(labeled_train_dataset_scale,verbose=0,batch_size=10)\n",
        "print(f'Test loss: {score[0]} / Test accuracy: {score[1]}')\n",
        "score = modeln2.evaluate(labeled_train_dataset_scale,verbose=0,batch_size=10)\n",
        "print(f'Test loss: {score[0]} / Test accuracy: {score[1]}')"
      ]
    },
    {
      "cell_type": "code",
      "execution_count": null,
      "metadata": {
        "id": "VhY3o-UfadXf"
      },
      "outputs": [],
      "source": [
        "score = dmres.evaluate(labeled_train_dataset_scale,verbose=0,batch_size=10)\n",
        "print(f'Test loss: {score[0]} / Test accuracy: {score[1]}')\n",
        "score = dm3.evaluate(labeled_train_dataset_scale,verbose=0,batch_size=10)\n",
        "print(f'Test loss: {score[0]} / Test accuracy: {score[1]}')\n",
        "score = dm4.evaluate(labeled_train_dataset_scale,verbose=0,batch_size=10)\n",
        "print(f'Test loss: {score[0]} / Test accuracy: {score[1]}')\n",
        "score = n.evaluate(labeled_train_dataset_scale,verbose=0,batch_size=10)\n",
        "print(f'Test loss: {score[0]} / Test accuracy: {score[1]}')"
      ]
    },
    {
      "cell_type": "code",
      "execution_count": null,
      "metadata": {
        "id": "3LGIF9tX5pQB"
      },
      "outputs": [],
      "source": [
        "score = modeln2.evaluate(test_dataset,verbose=0,batch_size=10)\n",
        "print(f'Test loss: {score[0]} / Test accuracy: {score[1]}')\n",
        "score = n.evaluate(test_dataset,verbose=0,batch_size=10)\n",
        "print(f'Test loss: {score[0]} / Test accuracy: {score[1]}')\n",
        "score = dm41.evaluate(test_dataset,verbose=0,batch_size=10)\n",
        "print(f'Test loss: {score[0]} / Test accuracy: {score[1]}')\n",
        "score = modelRes.evaluate(test_dataset,verbose=0,batch_size=10)\n",
        "print(f'Test loss: {score[0]} / Test accuracy: {score[1]}')"
      ]
    },
    {
      "cell_type": "code",
      "execution_count": null,
      "metadata": {
        "colab": {
          "base_uri": "https://localhost:8080/"
        },
        "id": "qCqViz96IGFK",
        "outputId": "53fe939a-d06b-441d-b816-e8154eb23195"
      },
      "outputs": [
        {
          "name": "stdout",
          "output_type": "stream",
          "text": [
            "tf.Tensor(0.0, shape=(), dtype=float64)\n",
            "tf.Tensor(0, shape=(), dtype=int32)\n"
          ]
        }
      ],
      "source": [
        "affine(dmres,1,0,3,0,0,0)"
      ]
    },
    {
      "cell_type": "code",
      "execution_count": null,
      "metadata": {
        "id": "bv0KVJa_Ypsq"
      },
      "outputs": [],
      "source": [
        "affine(modelRes)\n",
        "affine(dm41)\n",
        "affine(n)\n",
        "affine(modeln2)"
      ]
    },
    {
      "cell_type": "code",
      "execution_count": null,
      "metadata": {
        "id": "PCe0JxriaZ-e"
      },
      "outputs": [],
      "source": [
        "def affine_translate(model,tx,ty,shear,zx,zy,theta):\n",
        "    total_acc=0\n",
        "    n=0\n",
        "    predictions1 = model.predict(test_dataset)\n",
        "    image2 = []\n",
        "    labels = []\n",
        "    #image2 =np.array(image2)\n",
        "    for image,lab in test_dataset.unbatch(): \n",
        "      tr = tfa.image.translate(image,[tx,ty])\n",
        "      #image2=np.concatenate((image2,tr),axis=0)\n",
        "      image2.append(tr)\n",
        "      labels.append(lab)\n",
        "    #image2 = image2[1:,:,:,:]\n",
        "    image2 = tf.stack(image2,0)\n",
        "    labels = np.array(labels)\n",
        "    n+=image2.shape[0]\n",
        "    predictions2 = model.predict(image2)\n",
        "    accuracy = tf.reduce_sum(tf.cast(tf.argmax(predictions2, axis=-1) == tf.argmax(predictions1, axis=-1),dtype=tf.int32))\n",
        "    total_acc+=accuracy\n",
        "    print(model.evaluate(image2,labels))\n",
        "    print(model.evaluate(test_dataset))"
      ]
    },
    {
      "cell_type": "code",
      "source": [
        "def affine_shear(model,tx,ty,shear,zx,zy,theta):\n",
        "    total_acc=0\n",
        "    n=0\n",
        "    predictions1 = model.predict(test_dataset)\n",
        "    image2 = []\n",
        "    labels = []\n",
        "    #image2 =np.array(image2)\n",
        "    for image,lab in test_dataset.unbatch(): \n",
        "      tr = tfa.image.transform(image,(1,shear,0,0,1,0,0,0))\n",
        "      image2.append(tr)\n",
        "      labels.append(lab)\n",
        "    #image2 = image2[1:,:,:,:]\n",
        "    image2 = tf.stack(image2,0)\n",
        "    print(image2.shape)\n",
        "    labels = np.array(labels)\n",
        "    n+=image2.shape[0]\n",
        "    predictions2 = model.predict(image2)\n",
        "    accuracy = tf.reduce_sum(tf.cast(tf.argmax(predictions2, axis=-1) == tf.argmax(predictions1, axis=-1),dtype=tf.int32))\n",
        "    total_acc+=accuracy\n",
        "    print(model.evaluate(image2,labels))\n",
        "    print(model.evaluate(test_dataset))"
      ],
      "metadata": {
        "id": "VCRx9Zk7cqc0"
      },
      "execution_count": null,
      "outputs": []
    },
    {
      "cell_type": "code",
      "execution_count": null,
      "metadata": {
        "id": "AMI2bVT6FMBe"
      },
      "outputs": [],
      "source": [
        "def affine_rot(model,tx,ty,shear,zx,zy,theta):\n",
        "    total_acc=0\n",
        "    n=0\n",
        "    predictions1 = model.predict(test_dataset)\n",
        "    image2 = []\n",
        "    labels = []\n",
        "    #image2 =np.array(image2)\n",
        "    for image,lab in test_dataset.unbatch(): \n",
        "      tr = tfa.image.rotate(image,theta)\n",
        "      image2.append(tr)\n",
        "      labels.append(lab)\n",
        "    #image2 = image2[1:,:,:,:]\n",
        "    labels = np.array(labels)\n",
        "    image2 = tf.stack(image2,0)\n",
        "    print(image2.shape)\n",
        "    print(labels.shape)\n",
        "    n+=image2.shape[0]\n",
        "    predictions2 = model.predict(image2)\n",
        "    accuracy = tf.reduce_sum(tf.cast(tf.argmax(predictions2, axis=-1) == tf.argmax(predictions1, axis=-1),dtype=tf.int32))\n",
        "    total_acc+=accuracy\n",
        "    print(model.evaluate(image2,labels))\n",
        "    print(model.evaluate(test_dataset))"
      ]
    },
    {
      "cell_type": "code",
      "execution_count": null,
      "metadata": {
        "id": "sOapCBgdHbHq"
      },
      "outputs": [],
      "source": [
        "def affine_scale(model,tx,ty,shear,zx,zy,theta):\n",
        "    total_acc=0\n",
        "    n=0\n",
        "    predictions1 = model.predict(test_dataset)\n",
        "    image2 = []\n",
        "    labels = []\n",
        "    #image2 =np.array(image2)\n",
        "    for image,lab in test_dataset.unbatch(): \n",
        "      tr = tfa.image.transform(image,(zx,0,-2,0,zy,-2,0,0))\n",
        "      image2.append(tr)\n",
        "      labels.append(lab)\n",
        "    #image2 = image2[1:,:,:,:]\n",
        "    labels = np.array(labels)\n",
        "    image2 = tf.stack(image2,0)\n",
        "    print(image2.shape)\n",
        "    print(labels.shape)\n",
        "    n+=image2.shape[0]\n",
        "    predictions2 = model.predict(image2)\n",
        "    accuracy = tf.reduce_sum(tf.cast(tf.argmax(predictions2, axis=-1) == tf.argmax(predictions1, axis=-1),dtype=tf.int32))\n",
        "    total_acc+=accuracy\n",
        "    print(model.evaluate(image2,labels))\n",
        "    print(model.evaluate(test_dataset))"
      ]
    },
    {
      "cell_type": "code",
      "execution_count": null,
      "metadata": {
        "colab": {
          "base_uri": "https://localhost:8080/"
        },
        "id": "jIGu9nTlHS_H",
        "outputId": "c13ba88b-e749-46f4-9efa-58b96ca2f42c"
      },
      "outputs": [
        {
          "name": "stdout",
          "output_type": "stream",
          "text": [
            "<PrefetchDataset element_spec=(TensorSpec(shape=(None, 64, 64, 12), dtype=tf.float32, name=None), TensorSpec(shape=(None,), dtype=tf.int64, name=None))>\n"
          ]
        }
      ],
      "source": [
        "print(test_dataset)"
      ]
    },
    {
      "cell_type": "code",
      "execution_count": null,
      "metadata": {
        "id": "ZmZ4Tg_SLDoH"
      },
      "outputs": [],
      "source": [
        "def affine(model,tx,ty,shear,zx,zy,theta):\n",
        "    total_acc=0\n",
        "    n=0\n",
        "    predictions1 = tf.argmax(model.predict(test_dataset))\n",
        "    image2 = np.zeros((1,64,64,12))\n",
        "    image2 =np.array(image2)\n",
        "    for image,lab in test_dataset:\n",
        "      for img in image: \n",
        "        tr = tf.keras.preprocessing.image.apply_affine_transform(\n",
        "          img,\n",
        "          theta=theta,\n",
        "          tx=tx,\n",
        "          ty=ty,\n",
        "          shear=shear,\n",
        "          zx=zx,\n",
        "          zy=zy,\n",
        "          row_axis=1,\n",
        "          col_axis=2,\n",
        "          channel_axis=0,\n",
        "          fill_mode='constant',\n",
        "          cval=0.0\n",
        "        )\n",
        "      image2=np.concatenate((image2,tf.expand_dims(tr,0)),axis=0)\n",
        "    image2 = image2[1:,:,:,:]\n",
        "    n+=image2.shape[0]\n",
        "    predictions2 = model.predict(image2)\n",
        "    #accuracy = tf.reduce_sum(tf.cast(tf.argmax(predictions2, axis=-1) == tf.argmax(predictions1, axis=-1),dtype=tf.int32))\n",
        "    #total_acc+=accuracy\n",
        "    print(model.evaluate(image2))\n",
        "    print(model.evaluate(test_dataset))\n",
        "    #print(total_acc/n)\n",
        "    #print(total_acc)"
      ]
    },
    {
      "cell_type": "code",
      "execution_count": null,
      "metadata": {
        "id": "Kj9bpjSqcMa6"
      },
      "outputs": [],
      "source": [
        "def affine(model,tx,ty,shear,zx,zy,theta):\n",
        "    total_acc=0\n",
        "    n=0\n",
        "    predictions1 = tf.argmax(model.predict(test_dataset))\n",
        "    image2 = np.zeros((1,64,64,12))\n",
        "    image2 =np.array(image2)\n",
        "    for image,lab in test_dataset:\n",
        "      for img in image: \n",
        "        tr = tf.keras.preprocessing.image.apply_affine_transform(\n",
        "          img,\n",
        "          theta=theta,\n",
        "          tx=tx,\n",
        "          ty=ty,\n",
        "          shear=shear,\n",
        "          zx=zx,\n",
        "          zy=zy,\n",
        "          row_axis=1,\n",
        "          col_axis=2,\n",
        "          channel_axis=0,\n",
        "          fill_mode='constant',\n",
        "          cval=0.0\n",
        "        )\n",
        "      image2=np.concatenate((image2,tf.expand_dims(tr,0)),axis=0)\n",
        "    image2 = image2[1:,:,:,:]\n",
        "    n+=image2.shape[0]\n",
        "    predictions2 = model.predict(image2)\n",
        "    accuracy = tf.reduce_sum(tf.cast(tf.argmax(predictions2, axis=-1) == tf.argmax(predictions1, axis=-1),dtype=tf.int32))\n",
        "    total_acc+=accuracy\n",
        "    score = model.evaluate(test_dataset)\n",
        "    score2 = model.evaluate(image2)\n",
        "    print(total_acc/n)\n",
        "    print(total_acc)\n",
        "    print(score)\n",
        "    print(score2)"
      ]
    },
    {
      "cell_type": "code",
      "execution_count": null,
      "metadata": {
        "colab": {
          "base_uri": "https://localhost:8080/"
        },
        "id": "D2n49wQYQRDO",
        "outputId": "df43c7c3-b599-4a79-a0f5-c39c80de2335"
      },
      "outputs": [
        {
          "name": "stdout",
          "output_type": "stream",
          "text": [
            "tf.Tensor(0.04625, shape=(), dtype=float64)\n",
            "tf.Tensor(37, shape=(), dtype=int32)\n"
          ]
        }
      ],
      "source": [
        "affine(dmres,3,3,0,0,0,0)"
      ]
    },
    {
      "cell_type": "code",
      "execution_count": null,
      "metadata": {
        "id": "w7cn3Gpotn5i"
      },
      "outputs": [],
      "source": [
        "#Scaling\n",
        "affine(modelRes,0,0,0,2,2,0)\n",
        "affine(dm41,0,0,0,2,2,0)\n",
        "affine(n,0,0,0,2,2,0)\n",
        "affine(modeln2,0,0,0,2,2,0)"
      ]
    }
  ],
  "metadata": {
    "accelerator": "GPU",
    "colab": {
      "collapsed_sections": [],
      "name": "Copy of LocationEncoding of Early vision Object recognition.ipynb",
      "provenance": []
    },
    "gpuClass": "standard",
    "kernelspec": {
      "display_name": "Python 3",
      "name": "python3"
    },
    "language_info": {
      "name": "python"
    },
    "widgets": {
      "application/vnd.jupyter.widget-state+json": {
        "bd4b34ad190844d0aed10329b540326d": {
          "model_module": "@jupyter-widgets/controls",
          "model_name": "HBoxModel",
          "model_module_version": "1.5.0",
          "state": {
            "_dom_classes": [],
            "_model_module": "@jupyter-widgets/controls",
            "_model_module_version": "1.5.0",
            "_model_name": "HBoxModel",
            "_view_count": null,
            "_view_module": "@jupyter-widgets/controls",
            "_view_module_version": "1.5.0",
            "_view_name": "HBoxView",
            "box_style": "",
            "children": [
              "IPY_MODEL_bfe3418b6e5b4fb499747b231bd5a42e",
              "IPY_MODEL_83508650208942e59eaba836499926a7",
              "IPY_MODEL_549d63ff9f334bd69e6b3a69d85a4181"
            ],
            "layout": "IPY_MODEL_c4bf996fbc8a41b79ce723e3dddb9d12"
          }
        },
        "bfe3418b6e5b4fb499747b231bd5a42e": {
          "model_module": "@jupyter-widgets/controls",
          "model_name": "HTMLModel",
          "model_module_version": "1.5.0",
          "state": {
            "_dom_classes": [],
            "_model_module": "@jupyter-widgets/controls",
            "_model_module_version": "1.5.0",
            "_model_name": "HTMLModel",
            "_view_count": null,
            "_view_module": "@jupyter-widgets/controls",
            "_view_module_version": "1.5.0",
            "_view_name": "HTMLView",
            "description": "",
            "description_tooltip": null,
            "layout": "IPY_MODEL_a9ab4ba5a04842c8b5376e575bb8d464",
            "placeholder": "​",
            "style": "IPY_MODEL_5eee1ccfab2d421e8198aafb616f14f8",
            "value": "Dl Completed...: 100%"
          }
        },
        "83508650208942e59eaba836499926a7": {
          "model_module": "@jupyter-widgets/controls",
          "model_name": "FloatProgressModel",
          "model_module_version": "1.5.0",
          "state": {
            "_dom_classes": [],
            "_model_module": "@jupyter-widgets/controls",
            "_model_module_version": "1.5.0",
            "_model_name": "FloatProgressModel",
            "_view_count": null,
            "_view_module": "@jupyter-widgets/controls",
            "_view_module_version": "1.5.0",
            "_view_name": "ProgressView",
            "bar_style": "success",
            "description": "",
            "description_tooltip": null,
            "layout": "IPY_MODEL_78f454625d92471390d90ffda7f7a19b",
            "max": 1,
            "min": 0,
            "orientation": "horizontal",
            "style": "IPY_MODEL_b992c3ec23ab46a6a1d2b026c712ec0d",
            "value": 1
          }
        },
        "549d63ff9f334bd69e6b3a69d85a4181": {
          "model_module": "@jupyter-widgets/controls",
          "model_name": "HTMLModel",
          "model_module_version": "1.5.0",
          "state": {
            "_dom_classes": [],
            "_model_module": "@jupyter-widgets/controls",
            "_model_module_version": "1.5.0",
            "_model_name": "HTMLModel",
            "_view_count": null,
            "_view_module": "@jupyter-widgets/controls",
            "_view_module_version": "1.5.0",
            "_view_name": "HTMLView",
            "description": "",
            "description_tooltip": null,
            "layout": "IPY_MODEL_15de9808b97b45e98bd8a184ce036ea6",
            "placeholder": "​",
            "style": "IPY_MODEL_e8afcc560d61499d9f0cf7b98f5e4f77",
            "value": " 1/1 [02:49&lt;00:00, 136.15s/ url]"
          }
        },
        "c4bf996fbc8a41b79ce723e3dddb9d12": {
          "model_module": "@jupyter-widgets/base",
          "model_name": "LayoutModel",
          "model_module_version": "1.2.0",
          "state": {
            "_model_module": "@jupyter-widgets/base",
            "_model_module_version": "1.2.0",
            "_model_name": "LayoutModel",
            "_view_count": null,
            "_view_module": "@jupyter-widgets/base",
            "_view_module_version": "1.2.0",
            "_view_name": "LayoutView",
            "align_content": null,
            "align_items": null,
            "align_self": null,
            "border": null,
            "bottom": null,
            "display": null,
            "flex": null,
            "flex_flow": null,
            "grid_area": null,
            "grid_auto_columns": null,
            "grid_auto_flow": null,
            "grid_auto_rows": null,
            "grid_column": null,
            "grid_gap": null,
            "grid_row": null,
            "grid_template_areas": null,
            "grid_template_columns": null,
            "grid_template_rows": null,
            "height": null,
            "justify_content": null,
            "justify_items": null,
            "left": null,
            "margin": null,
            "max_height": null,
            "max_width": null,
            "min_height": null,
            "min_width": null,
            "object_fit": null,
            "object_position": null,
            "order": null,
            "overflow": null,
            "overflow_x": null,
            "overflow_y": null,
            "padding": null,
            "right": null,
            "top": null,
            "visibility": null,
            "width": null
          }
        },
        "a9ab4ba5a04842c8b5376e575bb8d464": {
          "model_module": "@jupyter-widgets/base",
          "model_name": "LayoutModel",
          "model_module_version": "1.2.0",
          "state": {
            "_model_module": "@jupyter-widgets/base",
            "_model_module_version": "1.2.0",
            "_model_name": "LayoutModel",
            "_view_count": null,
            "_view_module": "@jupyter-widgets/base",
            "_view_module_version": "1.2.0",
            "_view_name": "LayoutView",
            "align_content": null,
            "align_items": null,
            "align_self": null,
            "border": null,
            "bottom": null,
            "display": null,
            "flex": null,
            "flex_flow": null,
            "grid_area": null,
            "grid_auto_columns": null,
            "grid_auto_flow": null,
            "grid_auto_rows": null,
            "grid_column": null,
            "grid_gap": null,
            "grid_row": null,
            "grid_template_areas": null,
            "grid_template_columns": null,
            "grid_template_rows": null,
            "height": null,
            "justify_content": null,
            "justify_items": null,
            "left": null,
            "margin": null,
            "max_height": null,
            "max_width": null,
            "min_height": null,
            "min_width": null,
            "object_fit": null,
            "object_position": null,
            "order": null,
            "overflow": null,
            "overflow_x": null,
            "overflow_y": null,
            "padding": null,
            "right": null,
            "top": null,
            "visibility": null,
            "width": null
          }
        },
        "5eee1ccfab2d421e8198aafb616f14f8": {
          "model_module": "@jupyter-widgets/controls",
          "model_name": "DescriptionStyleModel",
          "model_module_version": "1.5.0",
          "state": {
            "_model_module": "@jupyter-widgets/controls",
            "_model_module_version": "1.5.0",
            "_model_name": "DescriptionStyleModel",
            "_view_count": null,
            "_view_module": "@jupyter-widgets/base",
            "_view_module_version": "1.2.0",
            "_view_name": "StyleView",
            "description_width": ""
          }
        },
        "78f454625d92471390d90ffda7f7a19b": {
          "model_module": "@jupyter-widgets/base",
          "model_name": "LayoutModel",
          "model_module_version": "1.2.0",
          "state": {
            "_model_module": "@jupyter-widgets/base",
            "_model_module_version": "1.2.0",
            "_model_name": "LayoutModel",
            "_view_count": null,
            "_view_module": "@jupyter-widgets/base",
            "_view_module_version": "1.2.0",
            "_view_name": "LayoutView",
            "align_content": null,
            "align_items": null,
            "align_self": null,
            "border": null,
            "bottom": null,
            "display": null,
            "flex": null,
            "flex_flow": null,
            "grid_area": null,
            "grid_auto_columns": null,
            "grid_auto_flow": null,
            "grid_auto_rows": null,
            "grid_column": null,
            "grid_gap": null,
            "grid_row": null,
            "grid_template_areas": null,
            "grid_template_columns": null,
            "grid_template_rows": null,
            "height": null,
            "justify_content": null,
            "justify_items": null,
            "left": null,
            "margin": null,
            "max_height": null,
            "max_width": null,
            "min_height": null,
            "min_width": null,
            "object_fit": null,
            "object_position": null,
            "order": null,
            "overflow": null,
            "overflow_x": null,
            "overflow_y": null,
            "padding": null,
            "right": null,
            "top": null,
            "visibility": null,
            "width": "20px"
          }
        },
        "b992c3ec23ab46a6a1d2b026c712ec0d": {
          "model_module": "@jupyter-widgets/controls",
          "model_name": "ProgressStyleModel",
          "model_module_version": "1.5.0",
          "state": {
            "_model_module": "@jupyter-widgets/controls",
            "_model_module_version": "1.5.0",
            "_model_name": "ProgressStyleModel",
            "_view_count": null,
            "_view_module": "@jupyter-widgets/base",
            "_view_module_version": "1.2.0",
            "_view_name": "StyleView",
            "bar_color": null,
            "description_width": ""
          }
        },
        "15de9808b97b45e98bd8a184ce036ea6": {
          "model_module": "@jupyter-widgets/base",
          "model_name": "LayoutModel",
          "model_module_version": "1.2.0",
          "state": {
            "_model_module": "@jupyter-widgets/base",
            "_model_module_version": "1.2.0",
            "_model_name": "LayoutModel",
            "_view_count": null,
            "_view_module": "@jupyter-widgets/base",
            "_view_module_version": "1.2.0",
            "_view_name": "LayoutView",
            "align_content": null,
            "align_items": null,
            "align_self": null,
            "border": null,
            "bottom": null,
            "display": null,
            "flex": null,
            "flex_flow": null,
            "grid_area": null,
            "grid_auto_columns": null,
            "grid_auto_flow": null,
            "grid_auto_rows": null,
            "grid_column": null,
            "grid_gap": null,
            "grid_row": null,
            "grid_template_areas": null,
            "grid_template_columns": null,
            "grid_template_rows": null,
            "height": null,
            "justify_content": null,
            "justify_items": null,
            "left": null,
            "margin": null,
            "max_height": null,
            "max_width": null,
            "min_height": null,
            "min_width": null,
            "object_fit": null,
            "object_position": null,
            "order": null,
            "overflow": null,
            "overflow_x": null,
            "overflow_y": null,
            "padding": null,
            "right": null,
            "top": null,
            "visibility": null,
            "width": null
          }
        },
        "e8afcc560d61499d9f0cf7b98f5e4f77": {
          "model_module": "@jupyter-widgets/controls",
          "model_name": "DescriptionStyleModel",
          "model_module_version": "1.5.0",
          "state": {
            "_model_module": "@jupyter-widgets/controls",
            "_model_module_version": "1.5.0",
            "_model_name": "DescriptionStyleModel",
            "_view_count": null,
            "_view_module": "@jupyter-widgets/base",
            "_view_module_version": "1.2.0",
            "_view_name": "StyleView",
            "description_width": ""
          }
        },
        "316a8c4dc2334c4285da0d9210a2b237": {
          "model_module": "@jupyter-widgets/controls",
          "model_name": "HBoxModel",
          "model_module_version": "1.5.0",
          "state": {
            "_dom_classes": [],
            "_model_module": "@jupyter-widgets/controls",
            "_model_module_version": "1.5.0",
            "_model_name": "HBoxModel",
            "_view_count": null,
            "_view_module": "@jupyter-widgets/controls",
            "_view_module_version": "1.5.0",
            "_view_name": "HBoxView",
            "box_style": "",
            "children": [
              "IPY_MODEL_1de3ab1b42494b16a78f7c0c06607be4",
              "IPY_MODEL_3e66820a8ff9464c9917f7d35eb900a5",
              "IPY_MODEL_6246e8137aa24895bcc525f736308ce3"
            ],
            "layout": "IPY_MODEL_f38b15b7e1da42f5bd24d1ea349c1d37"
          }
        },
        "1de3ab1b42494b16a78f7c0c06607be4": {
          "model_module": "@jupyter-widgets/controls",
          "model_name": "HTMLModel",
          "model_module_version": "1.5.0",
          "state": {
            "_dom_classes": [],
            "_model_module": "@jupyter-widgets/controls",
            "_model_module_version": "1.5.0",
            "_model_name": "HTMLModel",
            "_view_count": null,
            "_view_module": "@jupyter-widgets/controls",
            "_view_module_version": "1.5.0",
            "_view_name": "HTMLView",
            "description": "",
            "description_tooltip": null,
            "layout": "IPY_MODEL_98e9023815ef490f842694f94d04f7a3",
            "placeholder": "​",
            "style": "IPY_MODEL_db972f158d2e4046b04ed8e81ee86c05",
            "value": "Dl Size...: 100%"
          }
        },
        "3e66820a8ff9464c9917f7d35eb900a5": {
          "model_module": "@jupyter-widgets/controls",
          "model_name": "FloatProgressModel",
          "model_module_version": "1.5.0",
          "state": {
            "_dom_classes": [],
            "_model_module": "@jupyter-widgets/controls",
            "_model_module_version": "1.5.0",
            "_model_name": "FloatProgressModel",
            "_view_count": null,
            "_view_module": "@jupyter-widgets/controls",
            "_view_module_version": "1.5.0",
            "_view_name": "ProgressView",
            "bar_style": "success",
            "description": "",
            "description_tooltip": null,
            "layout": "IPY_MODEL_fa0058b1d8254d74aeb43c562d5b4338",
            "max": 1,
            "min": 0,
            "orientation": "horizontal",
            "style": "IPY_MODEL_d2bb5b7bbf4949a58471b007e9662ea6",
            "value": 1
          }
        },
        "6246e8137aa24895bcc525f736308ce3": {
          "model_module": "@jupyter-widgets/controls",
          "model_name": "HTMLModel",
          "model_module_version": "1.5.0",
          "state": {
            "_dom_classes": [],
            "_model_module": "@jupyter-widgets/controls",
            "_model_module_version": "1.5.0",
            "_model_name": "HTMLModel",
            "_view_count": null,
            "_view_module": "@jupyter-widgets/controls",
            "_view_module_version": "1.5.0",
            "_view_name": "HTMLView",
            "description": "",
            "description_tooltip": null,
            "layout": "IPY_MODEL_fd62cb19e35345e2a723478b56bba124",
            "placeholder": "​",
            "style": "IPY_MODEL_6aa8c27166be47fd8a8d3537158303c2",
            "value": " 2518/2518 [02:49&lt;00:00, 20.12 MiB/s]"
          }
        },
        "f38b15b7e1da42f5bd24d1ea349c1d37": {
          "model_module": "@jupyter-widgets/base",
          "model_name": "LayoutModel",
          "model_module_version": "1.2.0",
          "state": {
            "_model_module": "@jupyter-widgets/base",
            "_model_module_version": "1.2.0",
            "_model_name": "LayoutModel",
            "_view_count": null,
            "_view_module": "@jupyter-widgets/base",
            "_view_module_version": "1.2.0",
            "_view_name": "LayoutView",
            "align_content": null,
            "align_items": null,
            "align_self": null,
            "border": null,
            "bottom": null,
            "display": null,
            "flex": null,
            "flex_flow": null,
            "grid_area": null,
            "grid_auto_columns": null,
            "grid_auto_flow": null,
            "grid_auto_rows": null,
            "grid_column": null,
            "grid_gap": null,
            "grid_row": null,
            "grid_template_areas": null,
            "grid_template_columns": null,
            "grid_template_rows": null,
            "height": null,
            "justify_content": null,
            "justify_items": null,
            "left": null,
            "margin": null,
            "max_height": null,
            "max_width": null,
            "min_height": null,
            "min_width": null,
            "object_fit": null,
            "object_position": null,
            "order": null,
            "overflow": null,
            "overflow_x": null,
            "overflow_y": null,
            "padding": null,
            "right": null,
            "top": null,
            "visibility": null,
            "width": null
          }
        },
        "98e9023815ef490f842694f94d04f7a3": {
          "model_module": "@jupyter-widgets/base",
          "model_name": "LayoutModel",
          "model_module_version": "1.2.0",
          "state": {
            "_model_module": "@jupyter-widgets/base",
            "_model_module_version": "1.2.0",
            "_model_name": "LayoutModel",
            "_view_count": null,
            "_view_module": "@jupyter-widgets/base",
            "_view_module_version": "1.2.0",
            "_view_name": "LayoutView",
            "align_content": null,
            "align_items": null,
            "align_self": null,
            "border": null,
            "bottom": null,
            "display": null,
            "flex": null,
            "flex_flow": null,
            "grid_area": null,
            "grid_auto_columns": null,
            "grid_auto_flow": null,
            "grid_auto_rows": null,
            "grid_column": null,
            "grid_gap": null,
            "grid_row": null,
            "grid_template_areas": null,
            "grid_template_columns": null,
            "grid_template_rows": null,
            "height": null,
            "justify_content": null,
            "justify_items": null,
            "left": null,
            "margin": null,
            "max_height": null,
            "max_width": null,
            "min_height": null,
            "min_width": null,
            "object_fit": null,
            "object_position": null,
            "order": null,
            "overflow": null,
            "overflow_x": null,
            "overflow_y": null,
            "padding": null,
            "right": null,
            "top": null,
            "visibility": null,
            "width": null
          }
        },
        "db972f158d2e4046b04ed8e81ee86c05": {
          "model_module": "@jupyter-widgets/controls",
          "model_name": "DescriptionStyleModel",
          "model_module_version": "1.5.0",
          "state": {
            "_model_module": "@jupyter-widgets/controls",
            "_model_module_version": "1.5.0",
            "_model_name": "DescriptionStyleModel",
            "_view_count": null,
            "_view_module": "@jupyter-widgets/base",
            "_view_module_version": "1.2.0",
            "_view_name": "StyleView",
            "description_width": ""
          }
        },
        "fa0058b1d8254d74aeb43c562d5b4338": {
          "model_module": "@jupyter-widgets/base",
          "model_name": "LayoutModel",
          "model_module_version": "1.2.0",
          "state": {
            "_model_module": "@jupyter-widgets/base",
            "_model_module_version": "1.2.0",
            "_model_name": "LayoutModel",
            "_view_count": null,
            "_view_module": "@jupyter-widgets/base",
            "_view_module_version": "1.2.0",
            "_view_name": "LayoutView",
            "align_content": null,
            "align_items": null,
            "align_self": null,
            "border": null,
            "bottom": null,
            "display": null,
            "flex": null,
            "flex_flow": null,
            "grid_area": null,
            "grid_auto_columns": null,
            "grid_auto_flow": null,
            "grid_auto_rows": null,
            "grid_column": null,
            "grid_gap": null,
            "grid_row": null,
            "grid_template_areas": null,
            "grid_template_columns": null,
            "grid_template_rows": null,
            "height": null,
            "justify_content": null,
            "justify_items": null,
            "left": null,
            "margin": null,
            "max_height": null,
            "max_width": null,
            "min_height": null,
            "min_width": null,
            "object_fit": null,
            "object_position": null,
            "order": null,
            "overflow": null,
            "overflow_x": null,
            "overflow_y": null,
            "padding": null,
            "right": null,
            "top": null,
            "visibility": null,
            "width": "20px"
          }
        },
        "d2bb5b7bbf4949a58471b007e9662ea6": {
          "model_module": "@jupyter-widgets/controls",
          "model_name": "ProgressStyleModel",
          "model_module_version": "1.5.0",
          "state": {
            "_model_module": "@jupyter-widgets/controls",
            "_model_module_version": "1.5.0",
            "_model_name": "ProgressStyleModel",
            "_view_count": null,
            "_view_module": "@jupyter-widgets/base",
            "_view_module_version": "1.2.0",
            "_view_name": "StyleView",
            "bar_color": null,
            "description_width": ""
          }
        },
        "fd62cb19e35345e2a723478b56bba124": {
          "model_module": "@jupyter-widgets/base",
          "model_name": "LayoutModel",
          "model_module_version": "1.2.0",
          "state": {
            "_model_module": "@jupyter-widgets/base",
            "_model_module_version": "1.2.0",
            "_model_name": "LayoutModel",
            "_view_count": null,
            "_view_module": "@jupyter-widgets/base",
            "_view_module_version": "1.2.0",
            "_view_name": "LayoutView",
            "align_content": null,
            "align_items": null,
            "align_self": null,
            "border": null,
            "bottom": null,
            "display": null,
            "flex": null,
            "flex_flow": null,
            "grid_area": null,
            "grid_auto_columns": null,
            "grid_auto_flow": null,
            "grid_auto_rows": null,
            "grid_column": null,
            "grid_gap": null,
            "grid_row": null,
            "grid_template_areas": null,
            "grid_template_columns": null,
            "grid_template_rows": null,
            "height": null,
            "justify_content": null,
            "justify_items": null,
            "left": null,
            "margin": null,
            "max_height": null,
            "max_width": null,
            "min_height": null,
            "min_width": null,
            "object_fit": null,
            "object_position": null,
            "order": null,
            "overflow": null,
            "overflow_x": null,
            "overflow_y": null,
            "padding": null,
            "right": null,
            "top": null,
            "visibility": null,
            "width": null
          }
        },
        "6aa8c27166be47fd8a8d3537158303c2": {
          "model_module": "@jupyter-widgets/controls",
          "model_name": "DescriptionStyleModel",
          "model_module_version": "1.5.0",
          "state": {
            "_model_module": "@jupyter-widgets/controls",
            "_model_module_version": "1.5.0",
            "_model_name": "DescriptionStyleModel",
            "_view_count": null,
            "_view_module": "@jupyter-widgets/base",
            "_view_module_version": "1.2.0",
            "_view_name": "StyleView",
            "description_width": ""
          }
        },
        "4b90010f9be14b9d9e9c4d62055b00e5": {
          "model_module": "@jupyter-widgets/controls",
          "model_name": "HBoxModel",
          "model_module_version": "1.5.0",
          "state": {
            "_dom_classes": [],
            "_model_module": "@jupyter-widgets/controls",
            "_model_module_version": "1.5.0",
            "_model_name": "HBoxModel",
            "_view_count": null,
            "_view_module": "@jupyter-widgets/controls",
            "_view_module_version": "1.5.0",
            "_view_name": "HBoxView",
            "box_style": "",
            "children": [
              "IPY_MODEL_2712282b7c154948aa9ef340d57ac3ed",
              "IPY_MODEL_be71f84a2a92413d9d1742c5eff712f1",
              "IPY_MODEL_929ec041018e42549f79ec83f9bb9374"
            ],
            "layout": "IPY_MODEL_e5077972c1a54d10b9e9ab0f949d647d"
          }
        },
        "2712282b7c154948aa9ef340d57ac3ed": {
          "model_module": "@jupyter-widgets/controls",
          "model_name": "HTMLModel",
          "model_module_version": "1.5.0",
          "state": {
            "_dom_classes": [],
            "_model_module": "@jupyter-widgets/controls",
            "_model_module_version": "1.5.0",
            "_model_name": "HTMLModel",
            "_view_count": null,
            "_view_module": "@jupyter-widgets/controls",
            "_view_module_version": "1.5.0",
            "_view_name": "HTMLView",
            "description": "",
            "description_tooltip": null,
            "layout": "IPY_MODEL_4038a6798947494e92fea7dfadeccf25",
            "placeholder": "​",
            "style": "IPY_MODEL_fe28c974fa264057beb06424bbeef67f",
            "value": "Extraction completed...: 100%"
          }
        },
        "be71f84a2a92413d9d1742c5eff712f1": {
          "model_module": "@jupyter-widgets/controls",
          "model_name": "FloatProgressModel",
          "model_module_version": "1.5.0",
          "state": {
            "_dom_classes": [],
            "_model_module": "@jupyter-widgets/controls",
            "_model_module_version": "1.5.0",
            "_model_name": "FloatProgressModel",
            "_view_count": null,
            "_view_module": "@jupyter-widgets/controls",
            "_view_module_version": "1.5.0",
            "_view_name": "ProgressView",
            "bar_style": "success",
            "description": "",
            "description_tooltip": null,
            "layout": "IPY_MODEL_f7eb9102be0148988661ef700ba32718",
            "max": 1,
            "min": 0,
            "orientation": "horizontal",
            "style": "IPY_MODEL_5afbec792f7c4a59895a7978f4e47cfe",
            "value": 1
          }
        },
        "929ec041018e42549f79ec83f9bb9374": {
          "model_module": "@jupyter-widgets/controls",
          "model_name": "HTMLModel",
          "model_module_version": "1.5.0",
          "state": {
            "_dom_classes": [],
            "_model_module": "@jupyter-widgets/controls",
            "_model_module_version": "1.5.0",
            "_model_name": "HTMLModel",
            "_view_count": null,
            "_view_module": "@jupyter-widgets/controls",
            "_view_module_version": "1.5.0",
            "_view_name": "HTMLView",
            "description": "",
            "description_tooltip": null,
            "layout": "IPY_MODEL_0ef41490c499405bbb51ffe63ce00c48",
            "placeholder": "​",
            "style": "IPY_MODEL_020b85cd252d4ec082837e1d8b9c7222",
            "value": " 1/1 [02:49&lt;00:00, 169.10s/ file]"
          }
        },
        "e5077972c1a54d10b9e9ab0f949d647d": {
          "model_module": "@jupyter-widgets/base",
          "model_name": "LayoutModel",
          "model_module_version": "1.2.0",
          "state": {
            "_model_module": "@jupyter-widgets/base",
            "_model_module_version": "1.2.0",
            "_model_name": "LayoutModel",
            "_view_count": null,
            "_view_module": "@jupyter-widgets/base",
            "_view_module_version": "1.2.0",
            "_view_name": "LayoutView",
            "align_content": null,
            "align_items": null,
            "align_self": null,
            "border": null,
            "bottom": null,
            "display": null,
            "flex": null,
            "flex_flow": null,
            "grid_area": null,
            "grid_auto_columns": null,
            "grid_auto_flow": null,
            "grid_auto_rows": null,
            "grid_column": null,
            "grid_gap": null,
            "grid_row": null,
            "grid_template_areas": null,
            "grid_template_columns": null,
            "grid_template_rows": null,
            "height": null,
            "justify_content": null,
            "justify_items": null,
            "left": null,
            "margin": null,
            "max_height": null,
            "max_width": null,
            "min_height": null,
            "min_width": null,
            "object_fit": null,
            "object_position": null,
            "order": null,
            "overflow": null,
            "overflow_x": null,
            "overflow_y": null,
            "padding": null,
            "right": null,
            "top": null,
            "visibility": null,
            "width": null
          }
        },
        "4038a6798947494e92fea7dfadeccf25": {
          "model_module": "@jupyter-widgets/base",
          "model_name": "LayoutModel",
          "model_module_version": "1.2.0",
          "state": {
            "_model_module": "@jupyter-widgets/base",
            "_model_module_version": "1.2.0",
            "_model_name": "LayoutModel",
            "_view_count": null,
            "_view_module": "@jupyter-widgets/base",
            "_view_module_version": "1.2.0",
            "_view_name": "LayoutView",
            "align_content": null,
            "align_items": null,
            "align_self": null,
            "border": null,
            "bottom": null,
            "display": null,
            "flex": null,
            "flex_flow": null,
            "grid_area": null,
            "grid_auto_columns": null,
            "grid_auto_flow": null,
            "grid_auto_rows": null,
            "grid_column": null,
            "grid_gap": null,
            "grid_row": null,
            "grid_template_areas": null,
            "grid_template_columns": null,
            "grid_template_rows": null,
            "height": null,
            "justify_content": null,
            "justify_items": null,
            "left": null,
            "margin": null,
            "max_height": null,
            "max_width": null,
            "min_height": null,
            "min_width": null,
            "object_fit": null,
            "object_position": null,
            "order": null,
            "overflow": null,
            "overflow_x": null,
            "overflow_y": null,
            "padding": null,
            "right": null,
            "top": null,
            "visibility": null,
            "width": null
          }
        },
        "fe28c974fa264057beb06424bbeef67f": {
          "model_module": "@jupyter-widgets/controls",
          "model_name": "DescriptionStyleModel",
          "model_module_version": "1.5.0",
          "state": {
            "_model_module": "@jupyter-widgets/controls",
            "_model_module_version": "1.5.0",
            "_model_name": "DescriptionStyleModel",
            "_view_count": null,
            "_view_module": "@jupyter-widgets/base",
            "_view_module_version": "1.2.0",
            "_view_name": "StyleView",
            "description_width": ""
          }
        },
        "f7eb9102be0148988661ef700ba32718": {
          "model_module": "@jupyter-widgets/base",
          "model_name": "LayoutModel",
          "model_module_version": "1.2.0",
          "state": {
            "_model_module": "@jupyter-widgets/base",
            "_model_module_version": "1.2.0",
            "_model_name": "LayoutModel",
            "_view_count": null,
            "_view_module": "@jupyter-widgets/base",
            "_view_module_version": "1.2.0",
            "_view_name": "LayoutView",
            "align_content": null,
            "align_items": null,
            "align_self": null,
            "border": null,
            "bottom": null,
            "display": null,
            "flex": null,
            "flex_flow": null,
            "grid_area": null,
            "grid_auto_columns": null,
            "grid_auto_flow": null,
            "grid_auto_rows": null,
            "grid_column": null,
            "grid_gap": null,
            "grid_row": null,
            "grid_template_areas": null,
            "grid_template_columns": null,
            "grid_template_rows": null,
            "height": null,
            "justify_content": null,
            "justify_items": null,
            "left": null,
            "margin": null,
            "max_height": null,
            "max_width": null,
            "min_height": null,
            "min_width": null,
            "object_fit": null,
            "object_position": null,
            "order": null,
            "overflow": null,
            "overflow_x": null,
            "overflow_y": null,
            "padding": null,
            "right": null,
            "top": null,
            "visibility": null,
            "width": "20px"
          }
        },
        "5afbec792f7c4a59895a7978f4e47cfe": {
          "model_module": "@jupyter-widgets/controls",
          "model_name": "ProgressStyleModel",
          "model_module_version": "1.5.0",
          "state": {
            "_model_module": "@jupyter-widgets/controls",
            "_model_module_version": "1.5.0",
            "_model_name": "ProgressStyleModel",
            "_view_count": null,
            "_view_module": "@jupyter-widgets/base",
            "_view_module_version": "1.2.0",
            "_view_name": "StyleView",
            "bar_color": null,
            "description_width": ""
          }
        },
        "0ef41490c499405bbb51ffe63ce00c48": {
          "model_module": "@jupyter-widgets/base",
          "model_name": "LayoutModel",
          "model_module_version": "1.2.0",
          "state": {
            "_model_module": "@jupyter-widgets/base",
            "_model_module_version": "1.2.0",
            "_model_name": "LayoutModel",
            "_view_count": null,
            "_view_module": "@jupyter-widgets/base",
            "_view_module_version": "1.2.0",
            "_view_name": "LayoutView",
            "align_content": null,
            "align_items": null,
            "align_self": null,
            "border": null,
            "bottom": null,
            "display": null,
            "flex": null,
            "flex_flow": null,
            "grid_area": null,
            "grid_auto_columns": null,
            "grid_auto_flow": null,
            "grid_auto_rows": null,
            "grid_column": null,
            "grid_gap": null,
            "grid_row": null,
            "grid_template_areas": null,
            "grid_template_columns": null,
            "grid_template_rows": null,
            "height": null,
            "justify_content": null,
            "justify_items": null,
            "left": null,
            "margin": null,
            "max_height": null,
            "max_width": null,
            "min_height": null,
            "min_width": null,
            "object_fit": null,
            "object_position": null,
            "order": null,
            "overflow": null,
            "overflow_x": null,
            "overflow_y": null,
            "padding": null,
            "right": null,
            "top": null,
            "visibility": null,
            "width": null
          }
        },
        "020b85cd252d4ec082837e1d8b9c7222": {
          "model_module": "@jupyter-widgets/controls",
          "model_name": "DescriptionStyleModel",
          "model_module_version": "1.5.0",
          "state": {
            "_model_module": "@jupyter-widgets/controls",
            "_model_module_version": "1.5.0",
            "_model_name": "DescriptionStyleModel",
            "_view_count": null,
            "_view_module": "@jupyter-widgets/base",
            "_view_module_version": "1.2.0",
            "_view_name": "StyleView",
            "description_width": ""
          }
        },
        "9b9079e9db524c4584032204bc58b154": {
          "model_module": "@jupyter-widgets/controls",
          "model_name": "HBoxModel",
          "model_module_version": "1.5.0",
          "state": {
            "_dom_classes": [],
            "_model_module": "@jupyter-widgets/controls",
            "_model_module_version": "1.5.0",
            "_model_name": "HBoxModel",
            "_view_count": null,
            "_view_module": "@jupyter-widgets/controls",
            "_view_module_version": "1.5.0",
            "_view_name": "HBoxView",
            "box_style": "",
            "children": [
              "IPY_MODEL_a44071eb749f443bb1908e6b1c20b04b",
              "IPY_MODEL_d50dae518c134a61a8fe89ea1a3773ac",
              "IPY_MODEL_3149b54467f94ce98d29ec53c652dcca"
            ],
            "layout": "IPY_MODEL_9e1f2bbe41de48cd8b2744d80d56c0a2"
          }
        },
        "a44071eb749f443bb1908e6b1c20b04b": {
          "model_module": "@jupyter-widgets/controls",
          "model_name": "HTMLModel",
          "model_module_version": "1.5.0",
          "state": {
            "_dom_classes": [],
            "_model_module": "@jupyter-widgets/controls",
            "_model_module_version": "1.5.0",
            "_model_name": "HTMLModel",
            "_view_count": null,
            "_view_module": "@jupyter-widgets/controls",
            "_view_module_version": "1.5.0",
            "_view_name": "HTMLView",
            "description": "",
            "description_tooltip": null,
            "layout": "IPY_MODEL_7968dd7c58134530919f4cd59ea30f67",
            "placeholder": "​",
            "style": "IPY_MODEL_57b7b25105b64061abf60f2e9e91f676",
            "value": ""
          }
        },
        "d50dae518c134a61a8fe89ea1a3773ac": {
          "model_module": "@jupyter-widgets/controls",
          "model_name": "FloatProgressModel",
          "model_module_version": "1.5.0",
          "state": {
            "_dom_classes": [],
            "_model_module": "@jupyter-widgets/controls",
            "_model_module_version": "1.5.0",
            "_model_name": "FloatProgressModel",
            "_view_count": null,
            "_view_module": "@jupyter-widgets/controls",
            "_view_module_version": "1.5.0",
            "_view_name": "ProgressView",
            "bar_style": "info",
            "description": "",
            "description_tooltip": null,
            "layout": "IPY_MODEL_341724d51e7a4276a8579c59cabe18f7",
            "max": 1,
            "min": 0,
            "orientation": "horizontal",
            "style": "IPY_MODEL_bad299adbc9d486f9ff7fd06f693cb52",
            "value": 1
          }
        },
        "3149b54467f94ce98d29ec53c652dcca": {
          "model_module": "@jupyter-widgets/controls",
          "model_name": "HTMLModel",
          "model_module_version": "1.5.0",
          "state": {
            "_dom_classes": [],
            "_model_module": "@jupyter-widgets/controls",
            "_model_module_version": "1.5.0",
            "_model_name": "HTMLModel",
            "_view_count": null,
            "_view_module": "@jupyter-widgets/controls",
            "_view_module_version": "1.5.0",
            "_view_name": "HTMLView",
            "description": "",
            "description_tooltip": null,
            "layout": "IPY_MODEL_43f522b66a4f47a59c74bf2bd600e30f",
            "placeholder": "​",
            "style": "IPY_MODEL_16c23d57bbf644b79305dab3a95d3d83",
            "value": " 4981/0 [00:20&lt;00:00, 328.97 examples/s]"
          }
        },
        "9e1f2bbe41de48cd8b2744d80d56c0a2": {
          "model_module": "@jupyter-widgets/base",
          "model_name": "LayoutModel",
          "model_module_version": "1.2.0",
          "state": {
            "_model_module": "@jupyter-widgets/base",
            "_model_module_version": "1.2.0",
            "_model_name": "LayoutModel",
            "_view_count": null,
            "_view_module": "@jupyter-widgets/base",
            "_view_module_version": "1.2.0",
            "_view_name": "LayoutView",
            "align_content": null,
            "align_items": null,
            "align_self": null,
            "border": null,
            "bottom": null,
            "display": null,
            "flex": null,
            "flex_flow": null,
            "grid_area": null,
            "grid_auto_columns": null,
            "grid_auto_flow": null,
            "grid_auto_rows": null,
            "grid_column": null,
            "grid_gap": null,
            "grid_row": null,
            "grid_template_areas": null,
            "grid_template_columns": null,
            "grid_template_rows": null,
            "height": null,
            "justify_content": null,
            "justify_items": null,
            "left": null,
            "margin": null,
            "max_height": null,
            "max_width": null,
            "min_height": null,
            "min_width": null,
            "object_fit": null,
            "object_position": null,
            "order": null,
            "overflow": null,
            "overflow_x": null,
            "overflow_y": null,
            "padding": null,
            "right": null,
            "top": null,
            "visibility": null,
            "width": null
          }
        },
        "7968dd7c58134530919f4cd59ea30f67": {
          "model_module": "@jupyter-widgets/base",
          "model_name": "LayoutModel",
          "model_module_version": "1.2.0",
          "state": {
            "_model_module": "@jupyter-widgets/base",
            "_model_module_version": "1.2.0",
            "_model_name": "LayoutModel",
            "_view_count": null,
            "_view_module": "@jupyter-widgets/base",
            "_view_module_version": "1.2.0",
            "_view_name": "LayoutView",
            "align_content": null,
            "align_items": null,
            "align_self": null,
            "border": null,
            "bottom": null,
            "display": null,
            "flex": null,
            "flex_flow": null,
            "grid_area": null,
            "grid_auto_columns": null,
            "grid_auto_flow": null,
            "grid_auto_rows": null,
            "grid_column": null,
            "grid_gap": null,
            "grid_row": null,
            "grid_template_areas": null,
            "grid_template_columns": null,
            "grid_template_rows": null,
            "height": null,
            "justify_content": null,
            "justify_items": null,
            "left": null,
            "margin": null,
            "max_height": null,
            "max_width": null,
            "min_height": null,
            "min_width": null,
            "object_fit": null,
            "object_position": null,
            "order": null,
            "overflow": null,
            "overflow_x": null,
            "overflow_y": null,
            "padding": null,
            "right": null,
            "top": null,
            "visibility": null,
            "width": null
          }
        },
        "57b7b25105b64061abf60f2e9e91f676": {
          "model_module": "@jupyter-widgets/controls",
          "model_name": "DescriptionStyleModel",
          "model_module_version": "1.5.0",
          "state": {
            "_model_module": "@jupyter-widgets/controls",
            "_model_module_version": "1.5.0",
            "_model_name": "DescriptionStyleModel",
            "_view_count": null,
            "_view_module": "@jupyter-widgets/base",
            "_view_module_version": "1.2.0",
            "_view_name": "StyleView",
            "description_width": ""
          }
        },
        "341724d51e7a4276a8579c59cabe18f7": {
          "model_module": "@jupyter-widgets/base",
          "model_name": "LayoutModel",
          "model_module_version": "1.2.0",
          "state": {
            "_model_module": "@jupyter-widgets/base",
            "_model_module_version": "1.2.0",
            "_model_name": "LayoutModel",
            "_view_count": null,
            "_view_module": "@jupyter-widgets/base",
            "_view_module_version": "1.2.0",
            "_view_name": "LayoutView",
            "align_content": null,
            "align_items": null,
            "align_self": null,
            "border": null,
            "bottom": null,
            "display": null,
            "flex": null,
            "flex_flow": null,
            "grid_area": null,
            "grid_auto_columns": null,
            "grid_auto_flow": null,
            "grid_auto_rows": null,
            "grid_column": null,
            "grid_gap": null,
            "grid_row": null,
            "grid_template_areas": null,
            "grid_template_columns": null,
            "grid_template_rows": null,
            "height": null,
            "justify_content": null,
            "justify_items": null,
            "left": null,
            "margin": null,
            "max_height": null,
            "max_width": null,
            "min_height": null,
            "min_width": null,
            "object_fit": null,
            "object_position": null,
            "order": null,
            "overflow": null,
            "overflow_x": null,
            "overflow_y": null,
            "padding": null,
            "right": null,
            "top": null,
            "visibility": null,
            "width": "20px"
          }
        },
        "bad299adbc9d486f9ff7fd06f693cb52": {
          "model_module": "@jupyter-widgets/controls",
          "model_name": "ProgressStyleModel",
          "model_module_version": "1.5.0",
          "state": {
            "_model_module": "@jupyter-widgets/controls",
            "_model_module_version": "1.5.0",
            "_model_name": "ProgressStyleModel",
            "_view_count": null,
            "_view_module": "@jupyter-widgets/base",
            "_view_module_version": "1.2.0",
            "_view_name": "StyleView",
            "bar_color": null,
            "description_width": ""
          }
        },
        "43f522b66a4f47a59c74bf2bd600e30f": {
          "model_module": "@jupyter-widgets/base",
          "model_name": "LayoutModel",
          "model_module_version": "1.2.0",
          "state": {
            "_model_module": "@jupyter-widgets/base",
            "_model_module_version": "1.2.0",
            "_model_name": "LayoutModel",
            "_view_count": null,
            "_view_module": "@jupyter-widgets/base",
            "_view_module_version": "1.2.0",
            "_view_name": "LayoutView",
            "align_content": null,
            "align_items": null,
            "align_self": null,
            "border": null,
            "bottom": null,
            "display": null,
            "flex": null,
            "flex_flow": null,
            "grid_area": null,
            "grid_auto_columns": null,
            "grid_auto_flow": null,
            "grid_auto_rows": null,
            "grid_column": null,
            "grid_gap": null,
            "grid_row": null,
            "grid_template_areas": null,
            "grid_template_columns": null,
            "grid_template_rows": null,
            "height": null,
            "justify_content": null,
            "justify_items": null,
            "left": null,
            "margin": null,
            "max_height": null,
            "max_width": null,
            "min_height": null,
            "min_width": null,
            "object_fit": null,
            "object_position": null,
            "order": null,
            "overflow": null,
            "overflow_x": null,
            "overflow_y": null,
            "padding": null,
            "right": null,
            "top": null,
            "visibility": null,
            "width": null
          }
        },
        "16c23d57bbf644b79305dab3a95d3d83": {
          "model_module": "@jupyter-widgets/controls",
          "model_name": "DescriptionStyleModel",
          "model_module_version": "1.5.0",
          "state": {
            "_model_module": "@jupyter-widgets/controls",
            "_model_module_version": "1.5.0",
            "_model_name": "DescriptionStyleModel",
            "_view_count": null,
            "_view_module": "@jupyter-widgets/base",
            "_view_module_version": "1.2.0",
            "_view_name": "StyleView",
            "description_width": ""
          }
        },
        "dd3d5808980144ae96875b823180a262": {
          "model_module": "@jupyter-widgets/controls",
          "model_name": "HBoxModel",
          "model_module_version": "1.5.0",
          "state": {
            "_dom_classes": [],
            "_model_module": "@jupyter-widgets/controls",
            "_model_module_version": "1.5.0",
            "_model_name": "HBoxModel",
            "_view_count": null,
            "_view_module": "@jupyter-widgets/controls",
            "_view_module_version": "1.5.0",
            "_view_name": "HBoxView",
            "box_style": "",
            "children": [
              "IPY_MODEL_a365c0b6f2694edaa7e622ee74f51a82",
              "IPY_MODEL_4c814bea80e54538ac012a692a114a6a",
              "IPY_MODEL_daf7b19ec5f549e29a3cddb30d7aed6f"
            ],
            "layout": "IPY_MODEL_bebcbff420f2463a9110b75db3496497"
          }
        },
        "a365c0b6f2694edaa7e622ee74f51a82": {
          "model_module": "@jupyter-widgets/controls",
          "model_name": "HTMLModel",
          "model_module_version": "1.5.0",
          "state": {
            "_dom_classes": [],
            "_model_module": "@jupyter-widgets/controls",
            "_model_module_version": "1.5.0",
            "_model_name": "HTMLModel",
            "_view_count": null,
            "_view_module": "@jupyter-widgets/controls",
            "_view_module_version": "1.5.0",
            "_view_name": "HTMLView",
            "description": "",
            "description_tooltip": null,
            "layout": "IPY_MODEL_a3839cc52d2e4e4bab6040a1e80de8dd",
            "placeholder": "​",
            "style": "IPY_MODEL_e7cf7c34703d4ac6ab645c25d01ce465",
            "value": "100%"
          }
        },
        "4c814bea80e54538ac012a692a114a6a": {
          "model_module": "@jupyter-widgets/controls",
          "model_name": "FloatProgressModel",
          "model_module_version": "1.5.0",
          "state": {
            "_dom_classes": [],
            "_model_module": "@jupyter-widgets/controls",
            "_model_module_version": "1.5.0",
            "_model_name": "FloatProgressModel",
            "_view_count": null,
            "_view_module": "@jupyter-widgets/controls",
            "_view_module_version": "1.5.0",
            "_view_name": "ProgressView",
            "bar_style": "danger",
            "description": "",
            "description_tooltip": null,
            "layout": "IPY_MODEL_c436966cfc864b5f9c6f24b268b7158f",
            "max": 5000,
            "min": 0,
            "orientation": "horizontal",
            "style": "IPY_MODEL_bd0a47b3f13f46b582985ce77776bcaf",
            "value": 4999
          }
        },
        "daf7b19ec5f549e29a3cddb30d7aed6f": {
          "model_module": "@jupyter-widgets/controls",
          "model_name": "HTMLModel",
          "model_module_version": "1.5.0",
          "state": {
            "_dom_classes": [],
            "_model_module": "@jupyter-widgets/controls",
            "_model_module_version": "1.5.0",
            "_model_name": "HTMLModel",
            "_view_count": null,
            "_view_module": "@jupyter-widgets/controls",
            "_view_module_version": "1.5.0",
            "_view_name": "HTMLView",
            "description": "",
            "description_tooltip": null,
            "layout": "IPY_MODEL_adbb20887a264294bf712b300f6ba6e5",
            "placeholder": "​",
            "style": "IPY_MODEL_38266cde824a4ebb93c401b26f99dc62",
            "value": " 4999/5000 [00:00&lt;00:00, 25417.48 examples/s]"
          }
        },
        "bebcbff420f2463a9110b75db3496497": {
          "model_module": "@jupyter-widgets/base",
          "model_name": "LayoutModel",
          "model_module_version": "1.2.0",
          "state": {
            "_model_module": "@jupyter-widgets/base",
            "_model_module_version": "1.2.0",
            "_model_name": "LayoutModel",
            "_view_count": null,
            "_view_module": "@jupyter-widgets/base",
            "_view_module_version": "1.2.0",
            "_view_name": "LayoutView",
            "align_content": null,
            "align_items": null,
            "align_self": null,
            "border": null,
            "bottom": null,
            "display": null,
            "flex": null,
            "flex_flow": null,
            "grid_area": null,
            "grid_auto_columns": null,
            "grid_auto_flow": null,
            "grid_auto_rows": null,
            "grid_column": null,
            "grid_gap": null,
            "grid_row": null,
            "grid_template_areas": null,
            "grid_template_columns": null,
            "grid_template_rows": null,
            "height": null,
            "justify_content": null,
            "justify_items": null,
            "left": null,
            "margin": null,
            "max_height": null,
            "max_width": null,
            "min_height": null,
            "min_width": null,
            "object_fit": null,
            "object_position": null,
            "order": null,
            "overflow": null,
            "overflow_x": null,
            "overflow_y": null,
            "padding": null,
            "right": null,
            "top": null,
            "visibility": null,
            "width": null
          }
        },
        "a3839cc52d2e4e4bab6040a1e80de8dd": {
          "model_module": "@jupyter-widgets/base",
          "model_name": "LayoutModel",
          "model_module_version": "1.2.0",
          "state": {
            "_model_module": "@jupyter-widgets/base",
            "_model_module_version": "1.2.0",
            "_model_name": "LayoutModel",
            "_view_count": null,
            "_view_module": "@jupyter-widgets/base",
            "_view_module_version": "1.2.0",
            "_view_name": "LayoutView",
            "align_content": null,
            "align_items": null,
            "align_self": null,
            "border": null,
            "bottom": null,
            "display": null,
            "flex": null,
            "flex_flow": null,
            "grid_area": null,
            "grid_auto_columns": null,
            "grid_auto_flow": null,
            "grid_auto_rows": null,
            "grid_column": null,
            "grid_gap": null,
            "grid_row": null,
            "grid_template_areas": null,
            "grid_template_columns": null,
            "grid_template_rows": null,
            "height": null,
            "justify_content": null,
            "justify_items": null,
            "left": null,
            "margin": null,
            "max_height": null,
            "max_width": null,
            "min_height": null,
            "min_width": null,
            "object_fit": null,
            "object_position": null,
            "order": null,
            "overflow": null,
            "overflow_x": null,
            "overflow_y": null,
            "padding": null,
            "right": null,
            "top": null,
            "visibility": null,
            "width": null
          }
        },
        "e7cf7c34703d4ac6ab645c25d01ce465": {
          "model_module": "@jupyter-widgets/controls",
          "model_name": "DescriptionStyleModel",
          "model_module_version": "1.5.0",
          "state": {
            "_model_module": "@jupyter-widgets/controls",
            "_model_module_version": "1.5.0",
            "_model_name": "DescriptionStyleModel",
            "_view_count": null,
            "_view_module": "@jupyter-widgets/base",
            "_view_module_version": "1.2.0",
            "_view_name": "StyleView",
            "description_width": ""
          }
        },
        "c436966cfc864b5f9c6f24b268b7158f": {
          "model_module": "@jupyter-widgets/base",
          "model_name": "LayoutModel",
          "model_module_version": "1.2.0",
          "state": {
            "_model_module": "@jupyter-widgets/base",
            "_model_module_version": "1.2.0",
            "_model_name": "LayoutModel",
            "_view_count": null,
            "_view_module": "@jupyter-widgets/base",
            "_view_module_version": "1.2.0",
            "_view_name": "LayoutView",
            "align_content": null,
            "align_items": null,
            "align_self": null,
            "border": null,
            "bottom": null,
            "display": null,
            "flex": null,
            "flex_flow": null,
            "grid_area": null,
            "grid_auto_columns": null,
            "grid_auto_flow": null,
            "grid_auto_rows": null,
            "grid_column": null,
            "grid_gap": null,
            "grid_row": null,
            "grid_template_areas": null,
            "grid_template_columns": null,
            "grid_template_rows": null,
            "height": null,
            "justify_content": null,
            "justify_items": null,
            "left": null,
            "margin": null,
            "max_height": null,
            "max_width": null,
            "min_height": null,
            "min_width": null,
            "object_fit": null,
            "object_position": null,
            "order": null,
            "overflow": null,
            "overflow_x": null,
            "overflow_y": null,
            "padding": null,
            "right": null,
            "top": null,
            "visibility": null,
            "width": null
          }
        },
        "bd0a47b3f13f46b582985ce77776bcaf": {
          "model_module": "@jupyter-widgets/controls",
          "model_name": "ProgressStyleModel",
          "model_module_version": "1.5.0",
          "state": {
            "_model_module": "@jupyter-widgets/controls",
            "_model_module_version": "1.5.0",
            "_model_name": "ProgressStyleModel",
            "_view_count": null,
            "_view_module": "@jupyter-widgets/base",
            "_view_module_version": "1.2.0",
            "_view_name": "StyleView",
            "bar_color": null,
            "description_width": ""
          }
        },
        "adbb20887a264294bf712b300f6ba6e5": {
          "model_module": "@jupyter-widgets/base",
          "model_name": "LayoutModel",
          "model_module_version": "1.2.0",
          "state": {
            "_model_module": "@jupyter-widgets/base",
            "_model_module_version": "1.2.0",
            "_model_name": "LayoutModel",
            "_view_count": null,
            "_view_module": "@jupyter-widgets/base",
            "_view_module_version": "1.2.0",
            "_view_name": "LayoutView",
            "align_content": null,
            "align_items": null,
            "align_self": null,
            "border": null,
            "bottom": null,
            "display": null,
            "flex": null,
            "flex_flow": null,
            "grid_area": null,
            "grid_auto_columns": null,
            "grid_auto_flow": null,
            "grid_auto_rows": null,
            "grid_column": null,
            "grid_gap": null,
            "grid_row": null,
            "grid_template_areas": null,
            "grid_template_columns": null,
            "grid_template_rows": null,
            "height": null,
            "justify_content": null,
            "justify_items": null,
            "left": null,
            "margin": null,
            "max_height": null,
            "max_width": null,
            "min_height": null,
            "min_width": null,
            "object_fit": null,
            "object_position": null,
            "order": null,
            "overflow": null,
            "overflow_x": null,
            "overflow_y": null,
            "padding": null,
            "right": null,
            "top": null,
            "visibility": null,
            "width": null
          }
        },
        "38266cde824a4ebb93c401b26f99dc62": {
          "model_module": "@jupyter-widgets/controls",
          "model_name": "DescriptionStyleModel",
          "model_module_version": "1.5.0",
          "state": {
            "_model_module": "@jupyter-widgets/controls",
            "_model_module_version": "1.5.0",
            "_model_name": "DescriptionStyleModel",
            "_view_count": null,
            "_view_module": "@jupyter-widgets/base",
            "_view_module_version": "1.2.0",
            "_view_name": "StyleView",
            "description_width": ""
          }
        },
        "a3e75f8a4ed2425985657f204f560be2": {
          "model_module": "@jupyter-widgets/controls",
          "model_name": "HBoxModel",
          "model_module_version": "1.5.0",
          "state": {
            "_dom_classes": [],
            "_model_module": "@jupyter-widgets/controls",
            "_model_module_version": "1.5.0",
            "_model_name": "HBoxModel",
            "_view_count": null,
            "_view_module": "@jupyter-widgets/controls",
            "_view_module_version": "1.5.0",
            "_view_name": "HBoxView",
            "box_style": "",
            "children": [
              "IPY_MODEL_4b7b81d1c9934f8986862ae3f8f9f39e",
              "IPY_MODEL_35391612b13e43d7b3cfdb37c6b5ae4e",
              "IPY_MODEL_a19265add6a047e9846124d35239e023"
            ],
            "layout": "IPY_MODEL_763034b7b46e4cbb8cbdba6240ba50b7"
          }
        },
        "4b7b81d1c9934f8986862ae3f8f9f39e": {
          "model_module": "@jupyter-widgets/controls",
          "model_name": "HTMLModel",
          "model_module_version": "1.5.0",
          "state": {
            "_dom_classes": [],
            "_model_module": "@jupyter-widgets/controls",
            "_model_module_version": "1.5.0",
            "_model_name": "HTMLModel",
            "_view_count": null,
            "_view_module": "@jupyter-widgets/controls",
            "_view_module_version": "1.5.0",
            "_view_name": "HTMLView",
            "description": "",
            "description_tooltip": null,
            "layout": "IPY_MODEL_1cdbc74abc8b4fce9bc9094f166c594b",
            "placeholder": "​",
            "style": "IPY_MODEL_fdc111daedc8402881ee0d2d3aa8832c",
            "value": ""
          }
        },
        "35391612b13e43d7b3cfdb37c6b5ae4e": {
          "model_module": "@jupyter-widgets/controls",
          "model_name": "FloatProgressModel",
          "model_module_version": "1.5.0",
          "state": {
            "_dom_classes": [],
            "_model_module": "@jupyter-widgets/controls",
            "_model_module_version": "1.5.0",
            "_model_name": "FloatProgressModel",
            "_view_count": null,
            "_view_module": "@jupyter-widgets/controls",
            "_view_module_version": "1.5.0",
            "_view_name": "ProgressView",
            "bar_style": "info",
            "description": "",
            "description_tooltip": null,
            "layout": "IPY_MODEL_4bf6c4bdcf734fa0a4ebbe70f5018b4e",
            "max": 1,
            "min": 0,
            "orientation": "horizontal",
            "style": "IPY_MODEL_3f2684595e5a45a7ba1c2acda484b5a2",
            "value": 1
          }
        },
        "a19265add6a047e9846124d35239e023": {
          "model_module": "@jupyter-widgets/controls",
          "model_name": "HTMLModel",
          "model_module_version": "1.5.0",
          "state": {
            "_dom_classes": [],
            "_model_module": "@jupyter-widgets/controls",
            "_model_module_version": "1.5.0",
            "_model_name": "HTMLModel",
            "_view_count": null,
            "_view_module": "@jupyter-widgets/controls",
            "_view_module_version": "1.5.0",
            "_view_name": "HTMLView",
            "description": "",
            "description_tooltip": null,
            "layout": "IPY_MODEL_31dd7c4ffc69410586d8b2456461d5f6",
            "placeholder": "​",
            "style": "IPY_MODEL_3475ad879e4d45b29f7d500ad30c3a7f",
            "value": " 7974/0 [00:26&lt;00:00, 328.29 examples/s]"
          }
        },
        "763034b7b46e4cbb8cbdba6240ba50b7": {
          "model_module": "@jupyter-widgets/base",
          "model_name": "LayoutModel",
          "model_module_version": "1.2.0",
          "state": {
            "_model_module": "@jupyter-widgets/base",
            "_model_module_version": "1.2.0",
            "_model_name": "LayoutModel",
            "_view_count": null,
            "_view_module": "@jupyter-widgets/base",
            "_view_module_version": "1.2.0",
            "_view_name": "LayoutView",
            "align_content": null,
            "align_items": null,
            "align_self": null,
            "border": null,
            "bottom": null,
            "display": null,
            "flex": null,
            "flex_flow": null,
            "grid_area": null,
            "grid_auto_columns": null,
            "grid_auto_flow": null,
            "grid_auto_rows": null,
            "grid_column": null,
            "grid_gap": null,
            "grid_row": null,
            "grid_template_areas": null,
            "grid_template_columns": null,
            "grid_template_rows": null,
            "height": null,
            "justify_content": null,
            "justify_items": null,
            "left": null,
            "margin": null,
            "max_height": null,
            "max_width": null,
            "min_height": null,
            "min_width": null,
            "object_fit": null,
            "object_position": null,
            "order": null,
            "overflow": null,
            "overflow_x": null,
            "overflow_y": null,
            "padding": null,
            "right": null,
            "top": null,
            "visibility": null,
            "width": null
          }
        },
        "1cdbc74abc8b4fce9bc9094f166c594b": {
          "model_module": "@jupyter-widgets/base",
          "model_name": "LayoutModel",
          "model_module_version": "1.2.0",
          "state": {
            "_model_module": "@jupyter-widgets/base",
            "_model_module_version": "1.2.0",
            "_model_name": "LayoutModel",
            "_view_count": null,
            "_view_module": "@jupyter-widgets/base",
            "_view_module_version": "1.2.0",
            "_view_name": "LayoutView",
            "align_content": null,
            "align_items": null,
            "align_self": null,
            "border": null,
            "bottom": null,
            "display": null,
            "flex": null,
            "flex_flow": null,
            "grid_area": null,
            "grid_auto_columns": null,
            "grid_auto_flow": null,
            "grid_auto_rows": null,
            "grid_column": null,
            "grid_gap": null,
            "grid_row": null,
            "grid_template_areas": null,
            "grid_template_columns": null,
            "grid_template_rows": null,
            "height": null,
            "justify_content": null,
            "justify_items": null,
            "left": null,
            "margin": null,
            "max_height": null,
            "max_width": null,
            "min_height": null,
            "min_width": null,
            "object_fit": null,
            "object_position": null,
            "order": null,
            "overflow": null,
            "overflow_x": null,
            "overflow_y": null,
            "padding": null,
            "right": null,
            "top": null,
            "visibility": null,
            "width": null
          }
        },
        "fdc111daedc8402881ee0d2d3aa8832c": {
          "model_module": "@jupyter-widgets/controls",
          "model_name": "DescriptionStyleModel",
          "model_module_version": "1.5.0",
          "state": {
            "_model_module": "@jupyter-widgets/controls",
            "_model_module_version": "1.5.0",
            "_model_name": "DescriptionStyleModel",
            "_view_count": null,
            "_view_module": "@jupyter-widgets/base",
            "_view_module_version": "1.2.0",
            "_view_name": "StyleView",
            "description_width": ""
          }
        },
        "4bf6c4bdcf734fa0a4ebbe70f5018b4e": {
          "model_module": "@jupyter-widgets/base",
          "model_name": "LayoutModel",
          "model_module_version": "1.2.0",
          "state": {
            "_model_module": "@jupyter-widgets/base",
            "_model_module_version": "1.2.0",
            "_model_name": "LayoutModel",
            "_view_count": null,
            "_view_module": "@jupyter-widgets/base",
            "_view_module_version": "1.2.0",
            "_view_name": "LayoutView",
            "align_content": null,
            "align_items": null,
            "align_self": null,
            "border": null,
            "bottom": null,
            "display": null,
            "flex": null,
            "flex_flow": null,
            "grid_area": null,
            "grid_auto_columns": null,
            "grid_auto_flow": null,
            "grid_auto_rows": null,
            "grid_column": null,
            "grid_gap": null,
            "grid_row": null,
            "grid_template_areas": null,
            "grid_template_columns": null,
            "grid_template_rows": null,
            "height": null,
            "justify_content": null,
            "justify_items": null,
            "left": null,
            "margin": null,
            "max_height": null,
            "max_width": null,
            "min_height": null,
            "min_width": null,
            "object_fit": null,
            "object_position": null,
            "order": null,
            "overflow": null,
            "overflow_x": null,
            "overflow_y": null,
            "padding": null,
            "right": null,
            "top": null,
            "visibility": null,
            "width": "20px"
          }
        },
        "3f2684595e5a45a7ba1c2acda484b5a2": {
          "model_module": "@jupyter-widgets/controls",
          "model_name": "ProgressStyleModel",
          "model_module_version": "1.5.0",
          "state": {
            "_model_module": "@jupyter-widgets/controls",
            "_model_module_version": "1.5.0",
            "_model_name": "ProgressStyleModel",
            "_view_count": null,
            "_view_module": "@jupyter-widgets/base",
            "_view_module_version": "1.2.0",
            "_view_name": "StyleView",
            "bar_color": null,
            "description_width": ""
          }
        },
        "31dd7c4ffc69410586d8b2456461d5f6": {
          "model_module": "@jupyter-widgets/base",
          "model_name": "LayoutModel",
          "model_module_version": "1.2.0",
          "state": {
            "_model_module": "@jupyter-widgets/base",
            "_model_module_version": "1.2.0",
            "_model_name": "LayoutModel",
            "_view_count": null,
            "_view_module": "@jupyter-widgets/base",
            "_view_module_version": "1.2.0",
            "_view_name": "LayoutView",
            "align_content": null,
            "align_items": null,
            "align_self": null,
            "border": null,
            "bottom": null,
            "display": null,
            "flex": null,
            "flex_flow": null,
            "grid_area": null,
            "grid_auto_columns": null,
            "grid_auto_flow": null,
            "grid_auto_rows": null,
            "grid_column": null,
            "grid_gap": null,
            "grid_row": null,
            "grid_template_areas": null,
            "grid_template_columns": null,
            "grid_template_rows": null,
            "height": null,
            "justify_content": null,
            "justify_items": null,
            "left": null,
            "margin": null,
            "max_height": null,
            "max_width": null,
            "min_height": null,
            "min_width": null,
            "object_fit": null,
            "object_position": null,
            "order": null,
            "overflow": null,
            "overflow_x": null,
            "overflow_y": null,
            "padding": null,
            "right": null,
            "top": null,
            "visibility": null,
            "width": null
          }
        },
        "3475ad879e4d45b29f7d500ad30c3a7f": {
          "model_module": "@jupyter-widgets/controls",
          "model_name": "DescriptionStyleModel",
          "model_module_version": "1.5.0",
          "state": {
            "_model_module": "@jupyter-widgets/controls",
            "_model_module_version": "1.5.0",
            "_model_name": "DescriptionStyleModel",
            "_view_count": null,
            "_view_module": "@jupyter-widgets/base",
            "_view_module_version": "1.2.0",
            "_view_name": "StyleView",
            "description_width": ""
          }
        },
        "1d2247cdcea54106a34b7cdf42288e10": {
          "model_module": "@jupyter-widgets/controls",
          "model_name": "HBoxModel",
          "model_module_version": "1.5.0",
          "state": {
            "_dom_classes": [],
            "_model_module": "@jupyter-widgets/controls",
            "_model_module_version": "1.5.0",
            "_model_name": "HBoxModel",
            "_view_count": null,
            "_view_module": "@jupyter-widgets/controls",
            "_view_module_version": "1.5.0",
            "_view_name": "HBoxView",
            "box_style": "",
            "children": [
              "IPY_MODEL_c903a41e9c464ab5a4a8f4493bff02dd",
              "IPY_MODEL_b0851b90492a48afb4b296e99e6ed134",
              "IPY_MODEL_129565efb80f48558a377bb6e2d2b690"
            ],
            "layout": "IPY_MODEL_a9d81a3b642544e28ef18f8a3edec2c5"
          }
        },
        "c903a41e9c464ab5a4a8f4493bff02dd": {
          "model_module": "@jupyter-widgets/controls",
          "model_name": "HTMLModel",
          "model_module_version": "1.5.0",
          "state": {
            "_dom_classes": [],
            "_model_module": "@jupyter-widgets/controls",
            "_model_module_version": "1.5.0",
            "_model_name": "HTMLModel",
            "_view_count": null,
            "_view_module": "@jupyter-widgets/controls",
            "_view_module_version": "1.5.0",
            "_view_name": "HTMLView",
            "description": "",
            "description_tooltip": null,
            "layout": "IPY_MODEL_c5d3983075bf4c3f96cc17d224a1091d",
            "placeholder": "​",
            "style": "IPY_MODEL_d407bb878adf45c387d67637588dad5b",
            "value": "100%"
          }
        },
        "b0851b90492a48afb4b296e99e6ed134": {
          "model_module": "@jupyter-widgets/controls",
          "model_name": "FloatProgressModel",
          "model_module_version": "1.5.0",
          "state": {
            "_dom_classes": [],
            "_model_module": "@jupyter-widgets/controls",
            "_model_module_version": "1.5.0",
            "_model_name": "FloatProgressModel",
            "_view_count": null,
            "_view_module": "@jupyter-widgets/controls",
            "_view_module_version": "1.5.0",
            "_view_name": "ProgressView",
            "bar_style": "danger",
            "description": "",
            "description_tooltip": null,
            "layout": "IPY_MODEL_258fa60595a84cfd93a3dbfb7c0623c0",
            "max": 8000,
            "min": 0,
            "orientation": "horizontal",
            "style": "IPY_MODEL_c4d78ddc0e9d494cac831346d8231f97",
            "value": 7999
          }
        },
        "129565efb80f48558a377bb6e2d2b690": {
          "model_module": "@jupyter-widgets/controls",
          "model_name": "HTMLModel",
          "model_module_version": "1.5.0",
          "state": {
            "_dom_classes": [],
            "_model_module": "@jupyter-widgets/controls",
            "_model_module_version": "1.5.0",
            "_model_name": "HTMLModel",
            "_view_count": null,
            "_view_module": "@jupyter-widgets/controls",
            "_view_module_version": "1.5.0",
            "_view_name": "HTMLView",
            "description": "",
            "description_tooltip": null,
            "layout": "IPY_MODEL_6c8d0ca7cdcf4f9ca655e0c0d1ac8b69",
            "placeholder": "​",
            "style": "IPY_MODEL_d88eae8fa2964206bf1a878f4cfa80c9",
            "value": " 7999/8000 [00:00&lt;00:00, 34664.30 examples/s]"
          }
        },
        "a9d81a3b642544e28ef18f8a3edec2c5": {
          "model_module": "@jupyter-widgets/base",
          "model_name": "LayoutModel",
          "model_module_version": "1.2.0",
          "state": {
            "_model_module": "@jupyter-widgets/base",
            "_model_module_version": "1.2.0",
            "_model_name": "LayoutModel",
            "_view_count": null,
            "_view_module": "@jupyter-widgets/base",
            "_view_module_version": "1.2.0",
            "_view_name": "LayoutView",
            "align_content": null,
            "align_items": null,
            "align_self": null,
            "border": null,
            "bottom": null,
            "display": null,
            "flex": null,
            "flex_flow": null,
            "grid_area": null,
            "grid_auto_columns": null,
            "grid_auto_flow": null,
            "grid_auto_rows": null,
            "grid_column": null,
            "grid_gap": null,
            "grid_row": null,
            "grid_template_areas": null,
            "grid_template_columns": null,
            "grid_template_rows": null,
            "height": null,
            "justify_content": null,
            "justify_items": null,
            "left": null,
            "margin": null,
            "max_height": null,
            "max_width": null,
            "min_height": null,
            "min_width": null,
            "object_fit": null,
            "object_position": null,
            "order": null,
            "overflow": null,
            "overflow_x": null,
            "overflow_y": null,
            "padding": null,
            "right": null,
            "top": null,
            "visibility": null,
            "width": null
          }
        },
        "c5d3983075bf4c3f96cc17d224a1091d": {
          "model_module": "@jupyter-widgets/base",
          "model_name": "LayoutModel",
          "model_module_version": "1.2.0",
          "state": {
            "_model_module": "@jupyter-widgets/base",
            "_model_module_version": "1.2.0",
            "_model_name": "LayoutModel",
            "_view_count": null,
            "_view_module": "@jupyter-widgets/base",
            "_view_module_version": "1.2.0",
            "_view_name": "LayoutView",
            "align_content": null,
            "align_items": null,
            "align_self": null,
            "border": null,
            "bottom": null,
            "display": null,
            "flex": null,
            "flex_flow": null,
            "grid_area": null,
            "grid_auto_columns": null,
            "grid_auto_flow": null,
            "grid_auto_rows": null,
            "grid_column": null,
            "grid_gap": null,
            "grid_row": null,
            "grid_template_areas": null,
            "grid_template_columns": null,
            "grid_template_rows": null,
            "height": null,
            "justify_content": null,
            "justify_items": null,
            "left": null,
            "margin": null,
            "max_height": null,
            "max_width": null,
            "min_height": null,
            "min_width": null,
            "object_fit": null,
            "object_position": null,
            "order": null,
            "overflow": null,
            "overflow_x": null,
            "overflow_y": null,
            "padding": null,
            "right": null,
            "top": null,
            "visibility": null,
            "width": null
          }
        },
        "d407bb878adf45c387d67637588dad5b": {
          "model_module": "@jupyter-widgets/controls",
          "model_name": "DescriptionStyleModel",
          "model_module_version": "1.5.0",
          "state": {
            "_model_module": "@jupyter-widgets/controls",
            "_model_module_version": "1.5.0",
            "_model_name": "DescriptionStyleModel",
            "_view_count": null,
            "_view_module": "@jupyter-widgets/base",
            "_view_module_version": "1.2.0",
            "_view_name": "StyleView",
            "description_width": ""
          }
        },
        "258fa60595a84cfd93a3dbfb7c0623c0": {
          "model_module": "@jupyter-widgets/base",
          "model_name": "LayoutModel",
          "model_module_version": "1.2.0",
          "state": {
            "_model_module": "@jupyter-widgets/base",
            "_model_module_version": "1.2.0",
            "_model_name": "LayoutModel",
            "_view_count": null,
            "_view_module": "@jupyter-widgets/base",
            "_view_module_version": "1.2.0",
            "_view_name": "LayoutView",
            "align_content": null,
            "align_items": null,
            "align_self": null,
            "border": null,
            "bottom": null,
            "display": null,
            "flex": null,
            "flex_flow": null,
            "grid_area": null,
            "grid_auto_columns": null,
            "grid_auto_flow": null,
            "grid_auto_rows": null,
            "grid_column": null,
            "grid_gap": null,
            "grid_row": null,
            "grid_template_areas": null,
            "grid_template_columns": null,
            "grid_template_rows": null,
            "height": null,
            "justify_content": null,
            "justify_items": null,
            "left": null,
            "margin": null,
            "max_height": null,
            "max_width": null,
            "min_height": null,
            "min_width": null,
            "object_fit": null,
            "object_position": null,
            "order": null,
            "overflow": null,
            "overflow_x": null,
            "overflow_y": null,
            "padding": null,
            "right": null,
            "top": null,
            "visibility": null,
            "width": null
          }
        },
        "c4d78ddc0e9d494cac831346d8231f97": {
          "model_module": "@jupyter-widgets/controls",
          "model_name": "ProgressStyleModel",
          "model_module_version": "1.5.0",
          "state": {
            "_model_module": "@jupyter-widgets/controls",
            "_model_module_version": "1.5.0",
            "_model_name": "ProgressStyleModel",
            "_view_count": null,
            "_view_module": "@jupyter-widgets/base",
            "_view_module_version": "1.2.0",
            "_view_name": "StyleView",
            "bar_color": null,
            "description_width": ""
          }
        },
        "6c8d0ca7cdcf4f9ca655e0c0d1ac8b69": {
          "model_module": "@jupyter-widgets/base",
          "model_name": "LayoutModel",
          "model_module_version": "1.2.0",
          "state": {
            "_model_module": "@jupyter-widgets/base",
            "_model_module_version": "1.2.0",
            "_model_name": "LayoutModel",
            "_view_count": null,
            "_view_module": "@jupyter-widgets/base",
            "_view_module_version": "1.2.0",
            "_view_name": "LayoutView",
            "align_content": null,
            "align_items": null,
            "align_self": null,
            "border": null,
            "bottom": null,
            "display": null,
            "flex": null,
            "flex_flow": null,
            "grid_area": null,
            "grid_auto_columns": null,
            "grid_auto_flow": null,
            "grid_auto_rows": null,
            "grid_column": null,
            "grid_gap": null,
            "grid_row": null,
            "grid_template_areas": null,
            "grid_template_columns": null,
            "grid_template_rows": null,
            "height": null,
            "justify_content": null,
            "justify_items": null,
            "left": null,
            "margin": null,
            "max_height": null,
            "max_width": null,
            "min_height": null,
            "min_width": null,
            "object_fit": null,
            "object_position": null,
            "order": null,
            "overflow": null,
            "overflow_x": null,
            "overflow_y": null,
            "padding": null,
            "right": null,
            "top": null,
            "visibility": null,
            "width": null
          }
        },
        "d88eae8fa2964206bf1a878f4cfa80c9": {
          "model_module": "@jupyter-widgets/controls",
          "model_name": "DescriptionStyleModel",
          "model_module_version": "1.5.0",
          "state": {
            "_model_module": "@jupyter-widgets/controls",
            "_model_module_version": "1.5.0",
            "_model_name": "DescriptionStyleModel",
            "_view_count": null,
            "_view_module": "@jupyter-widgets/base",
            "_view_module_version": "1.2.0",
            "_view_name": "StyleView",
            "description_width": ""
          }
        },
        "ece01f4a7d3f4a90bdfa6a056862d4a0": {
          "model_module": "@jupyter-widgets/controls",
          "model_name": "HBoxModel",
          "model_module_version": "1.5.0",
          "state": {
            "_dom_classes": [],
            "_model_module": "@jupyter-widgets/controls",
            "_model_module_version": "1.5.0",
            "_model_name": "HBoxModel",
            "_view_count": null,
            "_view_module": "@jupyter-widgets/controls",
            "_view_module_version": "1.5.0",
            "_view_name": "HBoxView",
            "box_style": "",
            "children": [
              "IPY_MODEL_acd5aa27d9574cccac5614726f0b1b30",
              "IPY_MODEL_8a14f10aa7f94cfdae32091cfed2bb63",
              "IPY_MODEL_a37ff4efe611457b8e3c2493d66b95ca"
            ],
            "layout": "IPY_MODEL_37a598d35ba64266a2e4611d699afe42"
          }
        },
        "acd5aa27d9574cccac5614726f0b1b30": {
          "model_module": "@jupyter-widgets/controls",
          "model_name": "HTMLModel",
          "model_module_version": "1.5.0",
          "state": {
            "_dom_classes": [],
            "_model_module": "@jupyter-widgets/controls",
            "_model_module_version": "1.5.0",
            "_model_name": "HTMLModel",
            "_view_count": null,
            "_view_module": "@jupyter-widgets/controls",
            "_view_module_version": "1.5.0",
            "_view_name": "HTMLView",
            "description": "",
            "description_tooltip": null,
            "layout": "IPY_MODEL_176c0862fbf94d3097ac3398ff93e608",
            "placeholder": "​",
            "style": "IPY_MODEL_9098343e76894afc96b51d01d8d49d67",
            "value": ""
          }
        },
        "8a14f10aa7f94cfdae32091cfed2bb63": {
          "model_module": "@jupyter-widgets/controls",
          "model_name": "FloatProgressModel",
          "model_module_version": "1.5.0",
          "state": {
            "_dom_classes": [],
            "_model_module": "@jupyter-widgets/controls",
            "_model_module_version": "1.5.0",
            "_model_name": "FloatProgressModel",
            "_view_count": null,
            "_view_module": "@jupyter-widgets/controls",
            "_view_module_version": "1.5.0",
            "_view_name": "ProgressView",
            "bar_style": "info",
            "description": "",
            "description_tooltip": null,
            "layout": "IPY_MODEL_75d7e198c2db4b678a45e39359be9de5",
            "max": 1,
            "min": 0,
            "orientation": "horizontal",
            "style": "IPY_MODEL_93505e3f145a4e9fb6f4315804b79ae8",
            "value": 1
          }
        },
        "a37ff4efe611457b8e3c2493d66b95ca": {
          "model_module": "@jupyter-widgets/controls",
          "model_name": "HTMLModel",
          "model_module_version": "1.5.0",
          "state": {
            "_dom_classes": [],
            "_model_module": "@jupyter-widgets/controls",
            "_model_module_version": "1.5.0",
            "_model_name": "HTMLModel",
            "_view_count": null,
            "_view_module": "@jupyter-widgets/controls",
            "_view_module_version": "1.5.0",
            "_view_name": "HTMLView",
            "description": "",
            "description_tooltip": null,
            "layout": "IPY_MODEL_f5e407b1ab1149ec84c4ce40a8b4b45c",
            "placeholder": "​",
            "style": "IPY_MODEL_c5d7dd385c824deaab8137160d4e7bac",
            "value": " 99967/0 [05:05&lt;00:00, 337.12 examples/s]"
          }
        },
        "37a598d35ba64266a2e4611d699afe42": {
          "model_module": "@jupyter-widgets/base",
          "model_name": "LayoutModel",
          "model_module_version": "1.2.0",
          "state": {
            "_model_module": "@jupyter-widgets/base",
            "_model_module_version": "1.2.0",
            "_model_name": "LayoutModel",
            "_view_count": null,
            "_view_module": "@jupyter-widgets/base",
            "_view_module_version": "1.2.0",
            "_view_name": "LayoutView",
            "align_content": null,
            "align_items": null,
            "align_self": null,
            "border": null,
            "bottom": null,
            "display": null,
            "flex": null,
            "flex_flow": null,
            "grid_area": null,
            "grid_auto_columns": null,
            "grid_auto_flow": null,
            "grid_auto_rows": null,
            "grid_column": null,
            "grid_gap": null,
            "grid_row": null,
            "grid_template_areas": null,
            "grid_template_columns": null,
            "grid_template_rows": null,
            "height": null,
            "justify_content": null,
            "justify_items": null,
            "left": null,
            "margin": null,
            "max_height": null,
            "max_width": null,
            "min_height": null,
            "min_width": null,
            "object_fit": null,
            "object_position": null,
            "order": null,
            "overflow": null,
            "overflow_x": null,
            "overflow_y": null,
            "padding": null,
            "right": null,
            "top": null,
            "visibility": null,
            "width": null
          }
        },
        "176c0862fbf94d3097ac3398ff93e608": {
          "model_module": "@jupyter-widgets/base",
          "model_name": "LayoutModel",
          "model_module_version": "1.2.0",
          "state": {
            "_model_module": "@jupyter-widgets/base",
            "_model_module_version": "1.2.0",
            "_model_name": "LayoutModel",
            "_view_count": null,
            "_view_module": "@jupyter-widgets/base",
            "_view_module_version": "1.2.0",
            "_view_name": "LayoutView",
            "align_content": null,
            "align_items": null,
            "align_self": null,
            "border": null,
            "bottom": null,
            "display": null,
            "flex": null,
            "flex_flow": null,
            "grid_area": null,
            "grid_auto_columns": null,
            "grid_auto_flow": null,
            "grid_auto_rows": null,
            "grid_column": null,
            "grid_gap": null,
            "grid_row": null,
            "grid_template_areas": null,
            "grid_template_columns": null,
            "grid_template_rows": null,
            "height": null,
            "justify_content": null,
            "justify_items": null,
            "left": null,
            "margin": null,
            "max_height": null,
            "max_width": null,
            "min_height": null,
            "min_width": null,
            "object_fit": null,
            "object_position": null,
            "order": null,
            "overflow": null,
            "overflow_x": null,
            "overflow_y": null,
            "padding": null,
            "right": null,
            "top": null,
            "visibility": null,
            "width": null
          }
        },
        "9098343e76894afc96b51d01d8d49d67": {
          "model_module": "@jupyter-widgets/controls",
          "model_name": "DescriptionStyleModel",
          "model_module_version": "1.5.0",
          "state": {
            "_model_module": "@jupyter-widgets/controls",
            "_model_module_version": "1.5.0",
            "_model_name": "DescriptionStyleModel",
            "_view_count": null,
            "_view_module": "@jupyter-widgets/base",
            "_view_module_version": "1.2.0",
            "_view_name": "StyleView",
            "description_width": ""
          }
        },
        "75d7e198c2db4b678a45e39359be9de5": {
          "model_module": "@jupyter-widgets/base",
          "model_name": "LayoutModel",
          "model_module_version": "1.2.0",
          "state": {
            "_model_module": "@jupyter-widgets/base",
            "_model_module_version": "1.2.0",
            "_model_name": "LayoutModel",
            "_view_count": null,
            "_view_module": "@jupyter-widgets/base",
            "_view_module_version": "1.2.0",
            "_view_name": "LayoutView",
            "align_content": null,
            "align_items": null,
            "align_self": null,
            "border": null,
            "bottom": null,
            "display": null,
            "flex": null,
            "flex_flow": null,
            "grid_area": null,
            "grid_auto_columns": null,
            "grid_auto_flow": null,
            "grid_auto_rows": null,
            "grid_column": null,
            "grid_gap": null,
            "grid_row": null,
            "grid_template_areas": null,
            "grid_template_columns": null,
            "grid_template_rows": null,
            "height": null,
            "justify_content": null,
            "justify_items": null,
            "left": null,
            "margin": null,
            "max_height": null,
            "max_width": null,
            "min_height": null,
            "min_width": null,
            "object_fit": null,
            "object_position": null,
            "order": null,
            "overflow": null,
            "overflow_x": null,
            "overflow_y": null,
            "padding": null,
            "right": null,
            "top": null,
            "visibility": null,
            "width": "20px"
          }
        },
        "93505e3f145a4e9fb6f4315804b79ae8": {
          "model_module": "@jupyter-widgets/controls",
          "model_name": "ProgressStyleModel",
          "model_module_version": "1.5.0",
          "state": {
            "_model_module": "@jupyter-widgets/controls",
            "_model_module_version": "1.5.0",
            "_model_name": "ProgressStyleModel",
            "_view_count": null,
            "_view_module": "@jupyter-widgets/base",
            "_view_module_version": "1.2.0",
            "_view_name": "StyleView",
            "bar_color": null,
            "description_width": ""
          }
        },
        "f5e407b1ab1149ec84c4ce40a8b4b45c": {
          "model_module": "@jupyter-widgets/base",
          "model_name": "LayoutModel",
          "model_module_version": "1.2.0",
          "state": {
            "_model_module": "@jupyter-widgets/base",
            "_model_module_version": "1.2.0",
            "_model_name": "LayoutModel",
            "_view_count": null,
            "_view_module": "@jupyter-widgets/base",
            "_view_module_version": "1.2.0",
            "_view_name": "LayoutView",
            "align_content": null,
            "align_items": null,
            "align_self": null,
            "border": null,
            "bottom": null,
            "display": null,
            "flex": null,
            "flex_flow": null,
            "grid_area": null,
            "grid_auto_columns": null,
            "grid_auto_flow": null,
            "grid_auto_rows": null,
            "grid_column": null,
            "grid_gap": null,
            "grid_row": null,
            "grid_template_areas": null,
            "grid_template_columns": null,
            "grid_template_rows": null,
            "height": null,
            "justify_content": null,
            "justify_items": null,
            "left": null,
            "margin": null,
            "max_height": null,
            "max_width": null,
            "min_height": null,
            "min_width": null,
            "object_fit": null,
            "object_position": null,
            "order": null,
            "overflow": null,
            "overflow_x": null,
            "overflow_y": null,
            "padding": null,
            "right": null,
            "top": null,
            "visibility": null,
            "width": null
          }
        },
        "c5d7dd385c824deaab8137160d4e7bac": {
          "model_module": "@jupyter-widgets/controls",
          "model_name": "DescriptionStyleModel",
          "model_module_version": "1.5.0",
          "state": {
            "_model_module": "@jupyter-widgets/controls",
            "_model_module_version": "1.5.0",
            "_model_name": "DescriptionStyleModel",
            "_view_count": null,
            "_view_module": "@jupyter-widgets/base",
            "_view_module_version": "1.2.0",
            "_view_name": "StyleView",
            "description_width": ""
          }
        },
        "7673a1b5228f4bf7beee018fb9797165": {
          "model_module": "@jupyter-widgets/controls",
          "model_name": "HBoxModel",
          "model_module_version": "1.5.0",
          "state": {
            "_dom_classes": [],
            "_model_module": "@jupyter-widgets/controls",
            "_model_module_version": "1.5.0",
            "_model_name": "HBoxModel",
            "_view_count": null,
            "_view_module": "@jupyter-widgets/controls",
            "_view_module_version": "1.5.0",
            "_view_name": "HBoxView",
            "box_style": "",
            "children": [
              "IPY_MODEL_c785f68b33664773b1f7997bf7d40b80",
              "IPY_MODEL_9815ffc4dfd34f25aa35524cdbb3de12",
              "IPY_MODEL_b191375423654726a7d26f907e17adb7"
            ],
            "layout": "IPY_MODEL_f72ecca196c5453499bd6050d4faf0c5"
          }
        },
        "c785f68b33664773b1f7997bf7d40b80": {
          "model_module": "@jupyter-widgets/controls",
          "model_name": "HTMLModel",
          "model_module_version": "1.5.0",
          "state": {
            "_dom_classes": [],
            "_model_module": "@jupyter-widgets/controls",
            "_model_module_version": "1.5.0",
            "_model_name": "HTMLModel",
            "_view_count": null,
            "_view_module": "@jupyter-widgets/controls",
            "_view_module_version": "1.5.0",
            "_view_name": "HTMLView",
            "description": "",
            "description_tooltip": null,
            "layout": "IPY_MODEL_9bace506500a4a0dae80cf5668241272",
            "placeholder": "​",
            "style": "IPY_MODEL_1f9793fa687b470e8173015e943acff6",
            "value": "100%"
          }
        },
        "9815ffc4dfd34f25aa35524cdbb3de12": {
          "model_module": "@jupyter-widgets/controls",
          "model_name": "FloatProgressModel",
          "model_module_version": "1.5.0",
          "state": {
            "_dom_classes": [],
            "_model_module": "@jupyter-widgets/controls",
            "_model_module_version": "1.5.0",
            "_model_name": "FloatProgressModel",
            "_view_count": null,
            "_view_module": "@jupyter-widgets/controls",
            "_view_module_version": "1.5.0",
            "_view_name": "ProgressView",
            "bar_style": "danger",
            "description": "",
            "description_tooltip": null,
            "layout": "IPY_MODEL_6fe57e96683440d781a6c6325d1ef5ff",
            "max": 100000,
            "min": 0,
            "orientation": "horizontal",
            "style": "IPY_MODEL_2a638962a8094c04af0f55b3af5d6e86",
            "value": 99999
          }
        },
        "b191375423654726a7d26f907e17adb7": {
          "model_module": "@jupyter-widgets/controls",
          "model_name": "HTMLModel",
          "model_module_version": "1.5.0",
          "state": {
            "_dom_classes": [],
            "_model_module": "@jupyter-widgets/controls",
            "_model_module_version": "1.5.0",
            "_model_name": "HTMLModel",
            "_view_count": null,
            "_view_module": "@jupyter-widgets/controls",
            "_view_module_version": "1.5.0",
            "_view_name": "HTMLView",
            "description": "",
            "description_tooltip": null,
            "layout": "IPY_MODEL_f91cdd700016455f9b9bdcafde369e4b",
            "placeholder": "​",
            "style": "IPY_MODEL_1ec4a4ff31524436ae99b74b57aa26dc",
            "value": " 99999/100000 [00:07&lt;00:00, 18263.43 examples/s]"
          }
        },
        "f72ecca196c5453499bd6050d4faf0c5": {
          "model_module": "@jupyter-widgets/base",
          "model_name": "LayoutModel",
          "model_module_version": "1.2.0",
          "state": {
            "_model_module": "@jupyter-widgets/base",
            "_model_module_version": "1.2.0",
            "_model_name": "LayoutModel",
            "_view_count": null,
            "_view_module": "@jupyter-widgets/base",
            "_view_module_version": "1.2.0",
            "_view_name": "LayoutView",
            "align_content": null,
            "align_items": null,
            "align_self": null,
            "border": null,
            "bottom": null,
            "display": null,
            "flex": null,
            "flex_flow": null,
            "grid_area": null,
            "grid_auto_columns": null,
            "grid_auto_flow": null,
            "grid_auto_rows": null,
            "grid_column": null,
            "grid_gap": null,
            "grid_row": null,
            "grid_template_areas": null,
            "grid_template_columns": null,
            "grid_template_rows": null,
            "height": null,
            "justify_content": null,
            "justify_items": null,
            "left": null,
            "margin": null,
            "max_height": null,
            "max_width": null,
            "min_height": null,
            "min_width": null,
            "object_fit": null,
            "object_position": null,
            "order": null,
            "overflow": null,
            "overflow_x": null,
            "overflow_y": null,
            "padding": null,
            "right": null,
            "top": null,
            "visibility": null,
            "width": null
          }
        },
        "9bace506500a4a0dae80cf5668241272": {
          "model_module": "@jupyter-widgets/base",
          "model_name": "LayoutModel",
          "model_module_version": "1.2.0",
          "state": {
            "_model_module": "@jupyter-widgets/base",
            "_model_module_version": "1.2.0",
            "_model_name": "LayoutModel",
            "_view_count": null,
            "_view_module": "@jupyter-widgets/base",
            "_view_module_version": "1.2.0",
            "_view_name": "LayoutView",
            "align_content": null,
            "align_items": null,
            "align_self": null,
            "border": null,
            "bottom": null,
            "display": null,
            "flex": null,
            "flex_flow": null,
            "grid_area": null,
            "grid_auto_columns": null,
            "grid_auto_flow": null,
            "grid_auto_rows": null,
            "grid_column": null,
            "grid_gap": null,
            "grid_row": null,
            "grid_template_areas": null,
            "grid_template_columns": null,
            "grid_template_rows": null,
            "height": null,
            "justify_content": null,
            "justify_items": null,
            "left": null,
            "margin": null,
            "max_height": null,
            "max_width": null,
            "min_height": null,
            "min_width": null,
            "object_fit": null,
            "object_position": null,
            "order": null,
            "overflow": null,
            "overflow_x": null,
            "overflow_y": null,
            "padding": null,
            "right": null,
            "top": null,
            "visibility": null,
            "width": null
          }
        },
        "1f9793fa687b470e8173015e943acff6": {
          "model_module": "@jupyter-widgets/controls",
          "model_name": "DescriptionStyleModel",
          "model_module_version": "1.5.0",
          "state": {
            "_model_module": "@jupyter-widgets/controls",
            "_model_module_version": "1.5.0",
            "_model_name": "DescriptionStyleModel",
            "_view_count": null,
            "_view_module": "@jupyter-widgets/base",
            "_view_module_version": "1.2.0",
            "_view_name": "StyleView",
            "description_width": ""
          }
        },
        "6fe57e96683440d781a6c6325d1ef5ff": {
          "model_module": "@jupyter-widgets/base",
          "model_name": "LayoutModel",
          "model_module_version": "1.2.0",
          "state": {
            "_model_module": "@jupyter-widgets/base",
            "_model_module_version": "1.2.0",
            "_model_name": "LayoutModel",
            "_view_count": null,
            "_view_module": "@jupyter-widgets/base",
            "_view_module_version": "1.2.0",
            "_view_name": "LayoutView",
            "align_content": null,
            "align_items": null,
            "align_self": null,
            "border": null,
            "bottom": null,
            "display": null,
            "flex": null,
            "flex_flow": null,
            "grid_area": null,
            "grid_auto_columns": null,
            "grid_auto_flow": null,
            "grid_auto_rows": null,
            "grid_column": null,
            "grid_gap": null,
            "grid_row": null,
            "grid_template_areas": null,
            "grid_template_columns": null,
            "grid_template_rows": null,
            "height": null,
            "justify_content": null,
            "justify_items": null,
            "left": null,
            "margin": null,
            "max_height": null,
            "max_width": null,
            "min_height": null,
            "min_width": null,
            "object_fit": null,
            "object_position": null,
            "order": null,
            "overflow": null,
            "overflow_x": null,
            "overflow_y": null,
            "padding": null,
            "right": null,
            "top": null,
            "visibility": null,
            "width": null
          }
        },
        "2a638962a8094c04af0f55b3af5d6e86": {
          "model_module": "@jupyter-widgets/controls",
          "model_name": "ProgressStyleModel",
          "model_module_version": "1.5.0",
          "state": {
            "_model_module": "@jupyter-widgets/controls",
            "_model_module_version": "1.5.0",
            "_model_name": "ProgressStyleModel",
            "_view_count": null,
            "_view_module": "@jupyter-widgets/base",
            "_view_module_version": "1.2.0",
            "_view_name": "StyleView",
            "bar_color": null,
            "description_width": ""
          }
        },
        "f91cdd700016455f9b9bdcafde369e4b": {
          "model_module": "@jupyter-widgets/base",
          "model_name": "LayoutModel",
          "model_module_version": "1.2.0",
          "state": {
            "_model_module": "@jupyter-widgets/base",
            "_model_module_version": "1.2.0",
            "_model_name": "LayoutModel",
            "_view_count": null,
            "_view_module": "@jupyter-widgets/base",
            "_view_module_version": "1.2.0",
            "_view_name": "LayoutView",
            "align_content": null,
            "align_items": null,
            "align_self": null,
            "border": null,
            "bottom": null,
            "display": null,
            "flex": null,
            "flex_flow": null,
            "grid_area": null,
            "grid_auto_columns": null,
            "grid_auto_flow": null,
            "grid_auto_rows": null,
            "grid_column": null,
            "grid_gap": null,
            "grid_row": null,
            "grid_template_areas": null,
            "grid_template_columns": null,
            "grid_template_rows": null,
            "height": null,
            "justify_content": null,
            "justify_items": null,
            "left": null,
            "margin": null,
            "max_height": null,
            "max_width": null,
            "min_height": null,
            "min_width": null,
            "object_fit": null,
            "object_position": null,
            "order": null,
            "overflow": null,
            "overflow_x": null,
            "overflow_y": null,
            "padding": null,
            "right": null,
            "top": null,
            "visibility": null,
            "width": null
          }
        },
        "1ec4a4ff31524436ae99b74b57aa26dc": {
          "model_module": "@jupyter-widgets/controls",
          "model_name": "DescriptionStyleModel",
          "model_module_version": "1.5.0",
          "state": {
            "_model_module": "@jupyter-widgets/controls",
            "_model_module_version": "1.5.0",
            "_model_name": "DescriptionStyleModel",
            "_view_count": null,
            "_view_module": "@jupyter-widgets/base",
            "_view_module_version": "1.2.0",
            "_view_name": "StyleView",
            "description_width": ""
          }
        }
      }
    }
  },
  "nbformat": 4,
  "nbformat_minor": 0
}